{
 "cells": [
  {
   "cell_type": "markdown",
   "id": "82a3cc14",
   "metadata": {
    "papermill": {
     "duration": 0.027282,
     "end_time": "2022-07-09T13:41:58.048389",
     "exception": false,
     "start_time": "2022-07-09T13:41:58.021107",
     "status": "completed"
    },
    "tags": []
   },
   "source": [
    "# Chronic Kidney Disease Classification"
   ]
  },
  {
   "cell_type": "markdown",
   "id": "a8c7a3a2",
   "metadata": {
    "papermill": {
     "duration": 0.031956,
     "end_time": "2022-07-09T13:41:58.108219",
     "exception": false,
     "start_time": "2022-07-09T13:41:58.076263",
     "status": "completed"
    },
    "tags": []
   },
   "source": [
    "**Data Description:**\n",
    "1. age - age\n",
    "2. bp - blood pressure\n",
    "3. sg - specific gravity\n",
    "4. al - albumin\n",
    "5. su - sugar\n",
    "6. rbc - red blood cells\n",
    "7. pc - pus cell\n",
    "8. pcc - pus cell clumps\n",
    "9. ba - bacteria\n",
    "10. bgr - blood glucose random\n",
    "11. bu - blood ur\n",
    "12. sc - serum creatinine\n",
    "13. sod - sodium\n",
    "14. pot - potassium\n",
    "15. hemo - hemoglobim\n",
    "16. pcv - packed cell volume\n",
    "17. wc - white blood cell count\n",
    "18. rc - red blood cell count\n",
    "19. htn - hypertension\n",
    "20. dm - diabetes mellitus\n",
    "21. cad - coronary artery disease\n",
    "22. appet - appetite\n",
    "23. pe - pedal edema\n",
    "24. ane - anemia\n",
    "25. classification - class"
   ]
  },
  {
   "cell_type": "markdown",
   "id": "6847451f",
   "metadata": {
    "papermill": {
     "duration": 0.031017,
     "end_time": "2022-07-09T13:41:58.163851",
     "exception": false,
     "start_time": "2022-07-09T13:41:58.132834",
     "status": "completed"
    },
    "tags": []
   },
   "source": [
    "Importing all the important libraries"
   ]
  },
  {
   "cell_type": "code",
   "execution_count": 1,
   "id": "6b81ad17",
   "metadata": {
    "execution": {
     "iopub.execute_input": "2022-07-09T13:41:58.211502Z",
     "iopub.status.busy": "2022-07-09T13:41:58.210845Z",
     "iopub.status.idle": "2022-07-09T13:41:59.341279Z",
     "shell.execute_reply": "2022-07-09T13:41:59.340012Z"
    },
    "papermill": {
     "duration": 1.158519,
     "end_time": "2022-07-09T13:41:59.344748",
     "exception": false,
     "start_time": "2022-07-09T13:41:58.186229",
     "status": "completed"
    },
    "tags": []
   },
   "outputs": [],
   "source": [
    "import numpy as np\n",
    "import pandas as pd\n",
    "import matplotlib.pyplot as plt\n",
    "import seaborn as sns\n",
    "%matplotlib inline\n",
    "import warnings\n",
    "import matplotlib\n",
    "warnings.filterwarnings('ignore')"
   ]
  },
  {
   "cell_type": "markdown",
   "id": "d70b4596",
   "metadata": {
    "papermill": {
     "duration": 0.022585,
     "end_time": "2022-07-09T13:41:59.390255",
     "exception": false,
     "start_time": "2022-07-09T13:41:59.367670",
     "status": "completed"
    },
    "tags": []
   },
   "source": [
    "\n",
    "Reading kidney_disease into data"
   ]
  },
  {
   "cell_type": "code",
   "execution_count": 2,
   "id": "1560a6bd",
   "metadata": {
    "execution": {
     "iopub.execute_input": "2022-07-09T13:41:59.438362Z",
     "iopub.status.busy": "2022-07-09T13:41:59.437446Z",
     "iopub.status.idle": "2022-07-09T13:41:59.462772Z",
     "shell.execute_reply": "2022-07-09T13:41:59.461501Z"
    },
    "papermill": {
     "duration": 0.052543,
     "end_time": "2022-07-09T13:41:59.465666",
     "exception": false,
     "start_time": "2022-07-09T13:41:59.413123",
     "status": "completed"
    },
    "tags": []
   },
   "outputs": [],
   "source": [
    "missing_values=['\\t43' , '\\t?' , '\\tno' , '\\tyes' , ' yes', np.nan , 'NaN', 'ckd\\t']\n",
    "data = pd.read_csv('../input/ckdisease/kidney_disease.csv', na_values = missing_values)"
   ]
  },
  {
   "cell_type": "markdown",
   "id": "a7731e05",
   "metadata": {
    "papermill": {
     "duration": 0.022706,
     "end_time": "2022-07-09T13:41:59.512106",
     "exception": false,
     "start_time": "2022-07-09T13:41:59.489400",
     "status": "completed"
    },
    "tags": []
   },
   "source": [
    "Getting to know the overall data"
   ]
  },
  {
   "cell_type": "code",
   "execution_count": 3,
   "id": "4f19dc4c",
   "metadata": {
    "execution": {
     "iopub.execute_input": "2022-07-09T13:41:59.560726Z",
     "iopub.status.busy": "2022-07-09T13:41:59.559827Z",
     "iopub.status.idle": "2022-07-09T13:41:59.569628Z",
     "shell.execute_reply": "2022-07-09T13:41:59.568389Z"
    },
    "papermill": {
     "duration": 0.036746,
     "end_time": "2022-07-09T13:41:59.572165",
     "exception": false,
     "start_time": "2022-07-09T13:41:59.535419",
     "status": "completed"
    },
    "tags": []
   },
   "outputs": [
    {
     "data": {
      "text/plain": [
       "(400, 26)"
      ]
     },
     "execution_count": 3,
     "metadata": {},
     "output_type": "execute_result"
    }
   ],
   "source": [
    "data.shape"
   ]
  },
  {
   "cell_type": "code",
   "execution_count": 4,
   "id": "7a0a0797",
   "metadata": {
    "execution": {
     "iopub.execute_input": "2022-07-09T13:41:59.620825Z",
     "iopub.status.busy": "2022-07-09T13:41:59.619941Z",
     "iopub.status.idle": "2022-07-09T13:41:59.627593Z",
     "shell.execute_reply": "2022-07-09T13:41:59.626555Z"
    },
    "papermill": {
     "duration": 0.03397,
     "end_time": "2022-07-09T13:41:59.629722",
     "exception": false,
     "start_time": "2022-07-09T13:41:59.595752",
     "status": "completed"
    },
    "tags": []
   },
   "outputs": [
    {
     "data": {
      "text/plain": [
       "Index(['id', 'age', 'bp', 'sg', 'al', 'su', 'rbc', 'pc', 'pcc', 'ba', 'bgr',\n",
       "       'bu', 'sc', 'sod', 'pot', 'hemo', 'pcv', 'wc', 'rc', 'htn', 'dm', 'cad',\n",
       "       'appet', 'pe', 'ane', 'classification'],\n",
       "      dtype='object')"
      ]
     },
     "execution_count": 4,
     "metadata": {},
     "output_type": "execute_result"
    }
   ],
   "source": [
    "data.columns"
   ]
  },
  {
   "cell_type": "code",
   "execution_count": 5,
   "id": "5cf6c27a",
   "metadata": {
    "execution": {
     "iopub.execute_input": "2022-07-09T13:41:59.677383Z",
     "iopub.status.busy": "2022-07-09T13:41:59.676508Z",
     "iopub.status.idle": "2022-07-09T13:41:59.712654Z",
     "shell.execute_reply": "2022-07-09T13:41:59.711254Z"
    },
    "papermill": {
     "duration": 0.062981,
     "end_time": "2022-07-09T13:41:59.715114",
     "exception": false,
     "start_time": "2022-07-09T13:41:59.652133",
     "status": "completed"
    },
    "tags": []
   },
   "outputs": [
    {
     "data": {
      "text/html": [
       "<div>\n",
       "<style scoped>\n",
       "    .dataframe tbody tr th:only-of-type {\n",
       "        vertical-align: middle;\n",
       "    }\n",
       "\n",
       "    .dataframe tbody tr th {\n",
       "        vertical-align: top;\n",
       "    }\n",
       "\n",
       "    .dataframe thead th {\n",
       "        text-align: right;\n",
       "    }\n",
       "</style>\n",
       "<table border=\"1\" class=\"dataframe\">\n",
       "  <thead>\n",
       "    <tr style=\"text-align: right;\">\n",
       "      <th></th>\n",
       "      <th>id</th>\n",
       "      <th>age</th>\n",
       "      <th>bp</th>\n",
       "      <th>sg</th>\n",
       "      <th>al</th>\n",
       "      <th>su</th>\n",
       "      <th>rbc</th>\n",
       "      <th>pc</th>\n",
       "      <th>pcc</th>\n",
       "      <th>ba</th>\n",
       "      <th>...</th>\n",
       "      <th>pcv</th>\n",
       "      <th>wc</th>\n",
       "      <th>rc</th>\n",
       "      <th>htn</th>\n",
       "      <th>dm</th>\n",
       "      <th>cad</th>\n",
       "      <th>appet</th>\n",
       "      <th>pe</th>\n",
       "      <th>ane</th>\n",
       "      <th>classification</th>\n",
       "    </tr>\n",
       "  </thead>\n",
       "  <tbody>\n",
       "    <tr>\n",
       "      <th>0</th>\n",
       "      <td>0.0</td>\n",
       "      <td>48.0</td>\n",
       "      <td>80.0</td>\n",
       "      <td>1.020</td>\n",
       "      <td>1.0</td>\n",
       "      <td>0.0</td>\n",
       "      <td>NaN</td>\n",
       "      <td>normal</td>\n",
       "      <td>notpresent</td>\n",
       "      <td>notpresent</td>\n",
       "      <td>...</td>\n",
       "      <td>44.0</td>\n",
       "      <td>7800.0</td>\n",
       "      <td>5.2</td>\n",
       "      <td>yes</td>\n",
       "      <td>yes</td>\n",
       "      <td>no</td>\n",
       "      <td>good</td>\n",
       "      <td>no</td>\n",
       "      <td>no</td>\n",
       "      <td>ckd</td>\n",
       "    </tr>\n",
       "    <tr>\n",
       "      <th>1</th>\n",
       "      <td>1.0</td>\n",
       "      <td>7.0</td>\n",
       "      <td>50.0</td>\n",
       "      <td>1.020</td>\n",
       "      <td>4.0</td>\n",
       "      <td>0.0</td>\n",
       "      <td>NaN</td>\n",
       "      <td>normal</td>\n",
       "      <td>notpresent</td>\n",
       "      <td>notpresent</td>\n",
       "      <td>...</td>\n",
       "      <td>38.0</td>\n",
       "      <td>6000.0</td>\n",
       "      <td>NaN</td>\n",
       "      <td>no</td>\n",
       "      <td>no</td>\n",
       "      <td>no</td>\n",
       "      <td>good</td>\n",
       "      <td>no</td>\n",
       "      <td>no</td>\n",
       "      <td>ckd</td>\n",
       "    </tr>\n",
       "    <tr>\n",
       "      <th>2</th>\n",
       "      <td>2.0</td>\n",
       "      <td>62.0</td>\n",
       "      <td>80.0</td>\n",
       "      <td>1.010</td>\n",
       "      <td>2.0</td>\n",
       "      <td>3.0</td>\n",
       "      <td>normal</td>\n",
       "      <td>normal</td>\n",
       "      <td>notpresent</td>\n",
       "      <td>notpresent</td>\n",
       "      <td>...</td>\n",
       "      <td>31.0</td>\n",
       "      <td>7500.0</td>\n",
       "      <td>NaN</td>\n",
       "      <td>no</td>\n",
       "      <td>yes</td>\n",
       "      <td>no</td>\n",
       "      <td>poor</td>\n",
       "      <td>no</td>\n",
       "      <td>yes</td>\n",
       "      <td>ckd</td>\n",
       "    </tr>\n",
       "    <tr>\n",
       "      <th>3</th>\n",
       "      <td>3.0</td>\n",
       "      <td>48.0</td>\n",
       "      <td>70.0</td>\n",
       "      <td>1.005</td>\n",
       "      <td>4.0</td>\n",
       "      <td>0.0</td>\n",
       "      <td>normal</td>\n",
       "      <td>abnormal</td>\n",
       "      <td>present</td>\n",
       "      <td>notpresent</td>\n",
       "      <td>...</td>\n",
       "      <td>32.0</td>\n",
       "      <td>6700.0</td>\n",
       "      <td>3.9</td>\n",
       "      <td>yes</td>\n",
       "      <td>no</td>\n",
       "      <td>no</td>\n",
       "      <td>poor</td>\n",
       "      <td>yes</td>\n",
       "      <td>yes</td>\n",
       "      <td>ckd</td>\n",
       "    </tr>\n",
       "    <tr>\n",
       "      <th>4</th>\n",
       "      <td>4.0</td>\n",
       "      <td>51.0</td>\n",
       "      <td>80.0</td>\n",
       "      <td>1.010</td>\n",
       "      <td>2.0</td>\n",
       "      <td>0.0</td>\n",
       "      <td>normal</td>\n",
       "      <td>normal</td>\n",
       "      <td>notpresent</td>\n",
       "      <td>notpresent</td>\n",
       "      <td>...</td>\n",
       "      <td>35.0</td>\n",
       "      <td>7300.0</td>\n",
       "      <td>4.6</td>\n",
       "      <td>no</td>\n",
       "      <td>no</td>\n",
       "      <td>no</td>\n",
       "      <td>good</td>\n",
       "      <td>no</td>\n",
       "      <td>no</td>\n",
       "      <td>ckd</td>\n",
       "    </tr>\n",
       "  </tbody>\n",
       "</table>\n",
       "<p>5 rows × 26 columns</p>\n",
       "</div>"
      ],
      "text/plain": [
       "    id   age    bp     sg   al   su     rbc        pc         pcc          ba  \\\n",
       "0  0.0  48.0  80.0  1.020  1.0  0.0     NaN    normal  notpresent  notpresent   \n",
       "1  1.0   7.0  50.0  1.020  4.0  0.0     NaN    normal  notpresent  notpresent   \n",
       "2  2.0  62.0  80.0  1.010  2.0  3.0  normal    normal  notpresent  notpresent   \n",
       "3  3.0  48.0  70.0  1.005  4.0  0.0  normal  abnormal     present  notpresent   \n",
       "4  4.0  51.0  80.0  1.010  2.0  0.0  normal    normal  notpresent  notpresent   \n",
       "\n",
       "   ...   pcv      wc   rc  htn   dm  cad  appet   pe  ane classification  \n",
       "0  ...  44.0  7800.0  5.2  yes  yes   no   good   no   no            ckd  \n",
       "1  ...  38.0  6000.0  NaN   no   no   no   good   no   no            ckd  \n",
       "2  ...  31.0  7500.0  NaN   no  yes   no   poor   no  yes            ckd  \n",
       "3  ...  32.0  6700.0  3.9  yes   no   no   poor  yes  yes            ckd  \n",
       "4  ...  35.0  7300.0  4.6   no   no   no   good   no   no            ckd  \n",
       "\n",
       "[5 rows x 26 columns]"
      ]
     },
     "execution_count": 5,
     "metadata": {},
     "output_type": "execute_result"
    }
   ],
   "source": [
    "data.head()"
   ]
  },
  {
   "cell_type": "code",
   "execution_count": 6,
   "id": "e925963e",
   "metadata": {
    "execution": {
     "iopub.execute_input": "2022-07-09T13:41:59.764091Z",
     "iopub.status.busy": "2022-07-09T13:41:59.763204Z",
     "iopub.status.idle": "2022-07-09T13:41:59.789524Z",
     "shell.execute_reply": "2022-07-09T13:41:59.788346Z"
    },
    "papermill": {
     "duration": 0.053516,
     "end_time": "2022-07-09T13:41:59.791959",
     "exception": false,
     "start_time": "2022-07-09T13:41:59.738443",
     "status": "completed"
    },
    "tags": []
   },
   "outputs": [
    {
     "data": {
      "text/html": [
       "<div>\n",
       "<style scoped>\n",
       "    .dataframe tbody tr th:only-of-type {\n",
       "        vertical-align: middle;\n",
       "    }\n",
       "\n",
       "    .dataframe tbody tr th {\n",
       "        vertical-align: top;\n",
       "    }\n",
       "\n",
       "    .dataframe thead th {\n",
       "        text-align: right;\n",
       "    }\n",
       "</style>\n",
       "<table border=\"1\" class=\"dataframe\">\n",
       "  <thead>\n",
       "    <tr style=\"text-align: right;\">\n",
       "      <th></th>\n",
       "      <th>id</th>\n",
       "      <th>age</th>\n",
       "      <th>bp</th>\n",
       "      <th>sg</th>\n",
       "      <th>al</th>\n",
       "      <th>su</th>\n",
       "      <th>rbc</th>\n",
       "      <th>pc</th>\n",
       "      <th>pcc</th>\n",
       "      <th>ba</th>\n",
       "      <th>...</th>\n",
       "      <th>pcv</th>\n",
       "      <th>wc</th>\n",
       "      <th>rc</th>\n",
       "      <th>htn</th>\n",
       "      <th>dm</th>\n",
       "      <th>cad</th>\n",
       "      <th>appet</th>\n",
       "      <th>pe</th>\n",
       "      <th>ane</th>\n",
       "      <th>classification</th>\n",
       "    </tr>\n",
       "  </thead>\n",
       "  <tbody>\n",
       "    <tr>\n",
       "      <th>395</th>\n",
       "      <td>395.0</td>\n",
       "      <td>55.0</td>\n",
       "      <td>80.0</td>\n",
       "      <td>1.020</td>\n",
       "      <td>0.0</td>\n",
       "      <td>0.0</td>\n",
       "      <td>normal</td>\n",
       "      <td>normal</td>\n",
       "      <td>notpresent</td>\n",
       "      <td>notpresent</td>\n",
       "      <td>...</td>\n",
       "      <td>47.0</td>\n",
       "      <td>6700.0</td>\n",
       "      <td>4.9</td>\n",
       "      <td>no</td>\n",
       "      <td>no</td>\n",
       "      <td>no</td>\n",
       "      <td>good</td>\n",
       "      <td>no</td>\n",
       "      <td>no</td>\n",
       "      <td>notckd</td>\n",
       "    </tr>\n",
       "    <tr>\n",
       "      <th>396</th>\n",
       "      <td>396.0</td>\n",
       "      <td>42.0</td>\n",
       "      <td>70.0</td>\n",
       "      <td>1.025</td>\n",
       "      <td>0.0</td>\n",
       "      <td>0.0</td>\n",
       "      <td>normal</td>\n",
       "      <td>normal</td>\n",
       "      <td>notpresent</td>\n",
       "      <td>notpresent</td>\n",
       "      <td>...</td>\n",
       "      <td>54.0</td>\n",
       "      <td>7800.0</td>\n",
       "      <td>6.2</td>\n",
       "      <td>no</td>\n",
       "      <td>no</td>\n",
       "      <td>no</td>\n",
       "      <td>good</td>\n",
       "      <td>no</td>\n",
       "      <td>no</td>\n",
       "      <td>notckd</td>\n",
       "    </tr>\n",
       "    <tr>\n",
       "      <th>397</th>\n",
       "      <td>397.0</td>\n",
       "      <td>12.0</td>\n",
       "      <td>80.0</td>\n",
       "      <td>1.020</td>\n",
       "      <td>0.0</td>\n",
       "      <td>0.0</td>\n",
       "      <td>normal</td>\n",
       "      <td>normal</td>\n",
       "      <td>notpresent</td>\n",
       "      <td>notpresent</td>\n",
       "      <td>...</td>\n",
       "      <td>49.0</td>\n",
       "      <td>6600.0</td>\n",
       "      <td>5.4</td>\n",
       "      <td>no</td>\n",
       "      <td>no</td>\n",
       "      <td>no</td>\n",
       "      <td>good</td>\n",
       "      <td>no</td>\n",
       "      <td>no</td>\n",
       "      <td>notckd</td>\n",
       "    </tr>\n",
       "    <tr>\n",
       "      <th>398</th>\n",
       "      <td>398.0</td>\n",
       "      <td>17.0</td>\n",
       "      <td>60.0</td>\n",
       "      <td>1.025</td>\n",
       "      <td>0.0</td>\n",
       "      <td>0.0</td>\n",
       "      <td>normal</td>\n",
       "      <td>normal</td>\n",
       "      <td>notpresent</td>\n",
       "      <td>notpresent</td>\n",
       "      <td>...</td>\n",
       "      <td>51.0</td>\n",
       "      <td>7200.0</td>\n",
       "      <td>5.9</td>\n",
       "      <td>no</td>\n",
       "      <td>no</td>\n",
       "      <td>no</td>\n",
       "      <td>good</td>\n",
       "      <td>no</td>\n",
       "      <td>no</td>\n",
       "      <td>notckd</td>\n",
       "    </tr>\n",
       "    <tr>\n",
       "      <th>399</th>\n",
       "      <td>399.0</td>\n",
       "      <td>58.0</td>\n",
       "      <td>80.0</td>\n",
       "      <td>1.025</td>\n",
       "      <td>0.0</td>\n",
       "      <td>0.0</td>\n",
       "      <td>normal</td>\n",
       "      <td>normal</td>\n",
       "      <td>notpresent</td>\n",
       "      <td>notpresent</td>\n",
       "      <td>...</td>\n",
       "      <td>53.0</td>\n",
       "      <td>6800.0</td>\n",
       "      <td>6.1</td>\n",
       "      <td>no</td>\n",
       "      <td>no</td>\n",
       "      <td>no</td>\n",
       "      <td>good</td>\n",
       "      <td>no</td>\n",
       "      <td>no</td>\n",
       "      <td>notckd</td>\n",
       "    </tr>\n",
       "  </tbody>\n",
       "</table>\n",
       "<p>5 rows × 26 columns</p>\n",
       "</div>"
      ],
      "text/plain": [
       "        id   age    bp     sg   al   su     rbc      pc         pcc  \\\n",
       "395  395.0  55.0  80.0  1.020  0.0  0.0  normal  normal  notpresent   \n",
       "396  396.0  42.0  70.0  1.025  0.0  0.0  normal  normal  notpresent   \n",
       "397  397.0  12.0  80.0  1.020  0.0  0.0  normal  normal  notpresent   \n",
       "398  398.0  17.0  60.0  1.025  0.0  0.0  normal  normal  notpresent   \n",
       "399  399.0  58.0  80.0  1.025  0.0  0.0  normal  normal  notpresent   \n",
       "\n",
       "             ba  ...   pcv      wc   rc  htn  dm  cad  appet  pe  ane  \\\n",
       "395  notpresent  ...  47.0  6700.0  4.9   no  no   no   good  no   no   \n",
       "396  notpresent  ...  54.0  7800.0  6.2   no  no   no   good  no   no   \n",
       "397  notpresent  ...  49.0  6600.0  5.4   no  no   no   good  no   no   \n",
       "398  notpresent  ...  51.0  7200.0  5.9   no  no   no   good  no   no   \n",
       "399  notpresent  ...  53.0  6800.0  6.1   no  no   no   good  no   no   \n",
       "\n",
       "    classification  \n",
       "395         notckd  \n",
       "396         notckd  \n",
       "397         notckd  \n",
       "398         notckd  \n",
       "399         notckd  \n",
       "\n",
       "[5 rows x 26 columns]"
      ]
     },
     "execution_count": 6,
     "metadata": {},
     "output_type": "execute_result"
    }
   ],
   "source": [
    "data.tail()"
   ]
  },
  {
   "cell_type": "code",
   "execution_count": 7,
   "id": "0967a0e8",
   "metadata": {
    "execution": {
     "iopub.execute_input": "2022-07-09T13:41:59.841354Z",
     "iopub.status.busy": "2022-07-09T13:41:59.840499Z",
     "iopub.status.idle": "2022-07-09T13:41:59.866701Z",
     "shell.execute_reply": "2022-07-09T13:41:59.865014Z"
    },
    "papermill": {
     "duration": 0.054155,
     "end_time": "2022-07-09T13:41:59.869555",
     "exception": false,
     "start_time": "2022-07-09T13:41:59.815400",
     "status": "completed"
    },
    "tags": []
   },
   "outputs": [
    {
     "name": "stdout",
     "output_type": "stream",
     "text": [
      "<class 'pandas.core.frame.DataFrame'>\n",
      "RangeIndex: 400 entries, 0 to 399\n",
      "Data columns (total 26 columns):\n",
      " #   Column          Non-Null Count  Dtype  \n",
      "---  ------          --------------  -----  \n",
      " 0   id              399 non-null    float64\n",
      " 1   age             385 non-null    float64\n",
      " 2   bp              388 non-null    float64\n",
      " 3   sg              353 non-null    float64\n",
      " 4   al              354 non-null    float64\n",
      " 5   su              351 non-null    float64\n",
      " 6   rbc             248 non-null    object \n",
      " 7   pc              335 non-null    object \n",
      " 8   pcc             396 non-null    object \n",
      " 9   ba              396 non-null    object \n",
      " 10  bgr             356 non-null    float64\n",
      " 11  bu              381 non-null    float64\n",
      " 12  sc              383 non-null    float64\n",
      " 13  sod             313 non-null    float64\n",
      " 14  pot             312 non-null    float64\n",
      " 15  hemo            348 non-null    float64\n",
      " 16  pcv             314 non-null    float64\n",
      " 17  wc              294 non-null    float64\n",
      " 18  rc              269 non-null    float64\n",
      " 19  htn             398 non-null    object \n",
      " 20  dm              392 non-null    object \n",
      " 21  cad             396 non-null    object \n",
      " 22  appet           399 non-null    object \n",
      " 23  pe              399 non-null    object \n",
      " 24  ane             399 non-null    object \n",
      " 25  classification  398 non-null    object \n",
      "dtypes: float64(15), object(11)\n",
      "memory usage: 81.4+ KB\n"
     ]
    }
   ],
   "source": [
    "data.info()"
   ]
  },
  {
   "cell_type": "code",
   "execution_count": 8,
   "id": "5968a402",
   "metadata": {
    "execution": {
     "iopub.execute_input": "2022-07-09T13:41:59.919116Z",
     "iopub.status.busy": "2022-07-09T13:41:59.918085Z",
     "iopub.status.idle": "2022-07-09T13:41:59.929236Z",
     "shell.execute_reply": "2022-07-09T13:41:59.928025Z"
    },
    "papermill": {
     "duration": 0.038262,
     "end_time": "2022-07-09T13:41:59.931512",
     "exception": false,
     "start_time": "2022-07-09T13:41:59.893250",
     "status": "completed"
    },
    "tags": []
   },
   "outputs": [
    {
     "data": {
      "text/plain": [
       "id                  1\n",
       "age                15\n",
       "bp                 12\n",
       "sg                 47\n",
       "al                 46\n",
       "su                 49\n",
       "rbc               152\n",
       "pc                 65\n",
       "pcc                 4\n",
       "ba                  4\n",
       "bgr                44\n",
       "bu                 19\n",
       "sc                 17\n",
       "sod                87\n",
       "pot                88\n",
       "hemo               52\n",
       "pcv                86\n",
       "wc                106\n",
       "rc                131\n",
       "htn                 2\n",
       "dm                  8\n",
       "cad                 4\n",
       "appet               1\n",
       "pe                  1\n",
       "ane                 1\n",
       "classification      2\n",
       "dtype: int64"
      ]
     },
     "execution_count": 8,
     "metadata": {},
     "output_type": "execute_result"
    }
   ],
   "source": [
    "data.isnull().sum()"
   ]
  },
  {
   "cell_type": "code",
   "execution_count": 9,
   "id": "ec796967",
   "metadata": {
    "execution": {
     "iopub.execute_input": "2022-07-09T13:41:59.982681Z",
     "iopub.status.busy": "2022-07-09T13:41:59.982192Z",
     "iopub.status.idle": "2022-07-09T13:42:00.037478Z",
     "shell.execute_reply": "2022-07-09T13:42:00.036201Z"
    },
    "papermill": {
     "duration": 0.084415,
     "end_time": "2022-07-09T13:42:00.040169",
     "exception": false,
     "start_time": "2022-07-09T13:41:59.955754",
     "status": "completed"
    },
    "tags": []
   },
   "outputs": [
    {
     "data": {
      "text/html": [
       "<div>\n",
       "<style scoped>\n",
       "    .dataframe tbody tr th:only-of-type {\n",
       "        vertical-align: middle;\n",
       "    }\n",
       "\n",
       "    .dataframe tbody tr th {\n",
       "        vertical-align: top;\n",
       "    }\n",
       "\n",
       "    .dataframe thead th {\n",
       "        text-align: right;\n",
       "    }\n",
       "</style>\n",
       "<table border=\"1\" class=\"dataframe\">\n",
       "  <thead>\n",
       "    <tr style=\"text-align: right;\">\n",
       "      <th></th>\n",
       "      <th>id</th>\n",
       "      <th>age</th>\n",
       "      <th>bp</th>\n",
       "      <th>sg</th>\n",
       "      <th>al</th>\n",
       "      <th>su</th>\n",
       "      <th>bgr</th>\n",
       "      <th>bu</th>\n",
       "      <th>sc</th>\n",
       "      <th>sod</th>\n",
       "      <th>pot</th>\n",
       "      <th>hemo</th>\n",
       "      <th>pcv</th>\n",
       "      <th>wc</th>\n",
       "      <th>rc</th>\n",
       "    </tr>\n",
       "  </thead>\n",
       "  <tbody>\n",
       "    <tr>\n",
       "      <th>count</th>\n",
       "      <td>399.000000</td>\n",
       "      <td>385.000000</td>\n",
       "      <td>388.000000</td>\n",
       "      <td>353.000000</td>\n",
       "      <td>354.000000</td>\n",
       "      <td>351.000000</td>\n",
       "      <td>356.000000</td>\n",
       "      <td>381.000000</td>\n",
       "      <td>383.000000</td>\n",
       "      <td>313.000000</td>\n",
       "      <td>312.000000</td>\n",
       "      <td>348.000000</td>\n",
       "      <td>314.000000</td>\n",
       "      <td>294.000000</td>\n",
       "      <td>269.000000</td>\n",
       "    </tr>\n",
       "    <tr>\n",
       "      <th>mean</th>\n",
       "      <td>199.892231</td>\n",
       "      <td>51.615584</td>\n",
       "      <td>76.469072</td>\n",
       "      <td>1.017408</td>\n",
       "      <td>1.016949</td>\n",
       "      <td>0.450142</td>\n",
       "      <td>148.036517</td>\n",
       "      <td>57.425722</td>\n",
       "      <td>3.072454</td>\n",
       "      <td>137.528754</td>\n",
       "      <td>4.627244</td>\n",
       "      <td>12.526437</td>\n",
       "      <td>38.687898</td>\n",
       "      <td>8406.122449</td>\n",
       "      <td>4.707435</td>\n",
       "    </tr>\n",
       "    <tr>\n",
       "      <th>std</th>\n",
       "      <td>115.492678</td>\n",
       "      <td>17.270301</td>\n",
       "      <td>13.683637</td>\n",
       "      <td>0.005717</td>\n",
       "      <td>1.352679</td>\n",
       "      <td>1.099191</td>\n",
       "      <td>79.281714</td>\n",
       "      <td>50.503006</td>\n",
       "      <td>5.741126</td>\n",
       "      <td>10.408752</td>\n",
       "      <td>3.193904</td>\n",
       "      <td>2.912587</td>\n",
       "      <td>9.156679</td>\n",
       "      <td>2944.474190</td>\n",
       "      <td>1.025323</td>\n",
       "    </tr>\n",
       "    <tr>\n",
       "      <th>min</th>\n",
       "      <td>0.000000</td>\n",
       "      <td>2.000000</td>\n",
       "      <td>50.000000</td>\n",
       "      <td>1.005000</td>\n",
       "      <td>0.000000</td>\n",
       "      <td>0.000000</td>\n",
       "      <td>22.000000</td>\n",
       "      <td>1.500000</td>\n",
       "      <td>0.400000</td>\n",
       "      <td>4.500000</td>\n",
       "      <td>2.500000</td>\n",
       "      <td>3.100000</td>\n",
       "      <td>9.000000</td>\n",
       "      <td>2200.000000</td>\n",
       "      <td>2.100000</td>\n",
       "    </tr>\n",
       "    <tr>\n",
       "      <th>25%</th>\n",
       "      <td>100.500000</td>\n",
       "      <td>42.000000</td>\n",
       "      <td>70.000000</td>\n",
       "      <td>1.010000</td>\n",
       "      <td>0.000000</td>\n",
       "      <td>0.000000</td>\n",
       "      <td>99.000000</td>\n",
       "      <td>27.000000</td>\n",
       "      <td>0.900000</td>\n",
       "      <td>135.000000</td>\n",
       "      <td>3.800000</td>\n",
       "      <td>10.300000</td>\n",
       "      <td>32.000000</td>\n",
       "      <td>6500.000000</td>\n",
       "      <td>3.900000</td>\n",
       "    </tr>\n",
       "    <tr>\n",
       "      <th>50%</th>\n",
       "      <td>200.000000</td>\n",
       "      <td>55.000000</td>\n",
       "      <td>80.000000</td>\n",
       "      <td>1.020000</td>\n",
       "      <td>0.000000</td>\n",
       "      <td>0.000000</td>\n",
       "      <td>121.000000</td>\n",
       "      <td>42.000000</td>\n",
       "      <td>1.300000</td>\n",
       "      <td>138.000000</td>\n",
       "      <td>4.400000</td>\n",
       "      <td>12.650000</td>\n",
       "      <td>40.000000</td>\n",
       "      <td>8000.000000</td>\n",
       "      <td>4.800000</td>\n",
       "    </tr>\n",
       "    <tr>\n",
       "      <th>75%</th>\n",
       "      <td>299.500000</td>\n",
       "      <td>65.000000</td>\n",
       "      <td>80.000000</td>\n",
       "      <td>1.020000</td>\n",
       "      <td>2.000000</td>\n",
       "      <td>0.000000</td>\n",
       "      <td>163.000000</td>\n",
       "      <td>66.000000</td>\n",
       "      <td>2.800000</td>\n",
       "      <td>142.000000</td>\n",
       "      <td>4.900000</td>\n",
       "      <td>15.000000</td>\n",
       "      <td>46.000000</td>\n",
       "      <td>9800.000000</td>\n",
       "      <td>5.400000</td>\n",
       "    </tr>\n",
       "    <tr>\n",
       "      <th>max</th>\n",
       "      <td>399.000000</td>\n",
       "      <td>90.000000</td>\n",
       "      <td>180.000000</td>\n",
       "      <td>1.025000</td>\n",
       "      <td>5.000000</td>\n",
       "      <td>5.000000</td>\n",
       "      <td>490.000000</td>\n",
       "      <td>391.000000</td>\n",
       "      <td>76.000000</td>\n",
       "      <td>163.000000</td>\n",
       "      <td>47.000000</td>\n",
       "      <td>17.800000</td>\n",
       "      <td>54.000000</td>\n",
       "      <td>26400.000000</td>\n",
       "      <td>8.000000</td>\n",
       "    </tr>\n",
       "  </tbody>\n",
       "</table>\n",
       "</div>"
      ],
      "text/plain": [
       "               id         age          bp          sg          al          su  \\\n",
       "count  399.000000  385.000000  388.000000  353.000000  354.000000  351.000000   \n",
       "mean   199.892231   51.615584   76.469072    1.017408    1.016949    0.450142   \n",
       "std    115.492678   17.270301   13.683637    0.005717    1.352679    1.099191   \n",
       "min      0.000000    2.000000   50.000000    1.005000    0.000000    0.000000   \n",
       "25%    100.500000   42.000000   70.000000    1.010000    0.000000    0.000000   \n",
       "50%    200.000000   55.000000   80.000000    1.020000    0.000000    0.000000   \n",
       "75%    299.500000   65.000000   80.000000    1.020000    2.000000    0.000000   \n",
       "max    399.000000   90.000000  180.000000    1.025000    5.000000    5.000000   \n",
       "\n",
       "              bgr          bu          sc         sod         pot        hemo  \\\n",
       "count  356.000000  381.000000  383.000000  313.000000  312.000000  348.000000   \n",
       "mean   148.036517   57.425722    3.072454  137.528754    4.627244   12.526437   \n",
       "std     79.281714   50.503006    5.741126   10.408752    3.193904    2.912587   \n",
       "min     22.000000    1.500000    0.400000    4.500000    2.500000    3.100000   \n",
       "25%     99.000000   27.000000    0.900000  135.000000    3.800000   10.300000   \n",
       "50%    121.000000   42.000000    1.300000  138.000000    4.400000   12.650000   \n",
       "75%    163.000000   66.000000    2.800000  142.000000    4.900000   15.000000   \n",
       "max    490.000000  391.000000   76.000000  163.000000   47.000000   17.800000   \n",
       "\n",
       "              pcv            wc          rc  \n",
       "count  314.000000    294.000000  269.000000  \n",
       "mean    38.687898   8406.122449    4.707435  \n",
       "std      9.156679   2944.474190    1.025323  \n",
       "min      9.000000   2200.000000    2.100000  \n",
       "25%     32.000000   6500.000000    3.900000  \n",
       "50%     40.000000   8000.000000    4.800000  \n",
       "75%     46.000000   9800.000000    5.400000  \n",
       "max     54.000000  26400.000000    8.000000  "
      ]
     },
     "execution_count": 9,
     "metadata": {},
     "output_type": "execute_result"
    }
   ],
   "source": [
    "data.describe()"
   ]
  },
  {
   "cell_type": "markdown",
   "id": "e046b1dd",
   "metadata": {
    "papermill": {
     "duration": 0.024146,
     "end_time": "2022-07-09T13:42:00.089321",
     "exception": false,
     "start_time": "2022-07-09T13:42:00.065175",
     "status": "completed"
    },
    "tags": []
   },
   "source": [
    "We can see from the results that outliers will exist and since our data is small so they would result in a bit of a problem for our classification model. Hence we will perform Data cleaning."
   ]
  },
  {
   "cell_type": "markdown",
   "id": "4c73d75d",
   "metadata": {
    "papermill": {
     "duration": 0.024798,
     "end_time": "2022-07-09T13:42:00.139552",
     "exception": false,
     "start_time": "2022-07-09T13:42:00.114754",
     "status": "completed"
    },
    "tags": []
   },
   "source": [
    "---\n",
    "## Data Cleaning"
   ]
  },
  {
   "cell_type": "markdown",
   "id": "69f154fd",
   "metadata": {
    "papermill": {
     "duration": 0.024055,
     "end_time": "2022-07-09T13:42:00.188006",
     "exception": false,
     "start_time": "2022-07-09T13:42:00.163951",
     "status": "completed"
    },
    "tags": []
   },
   "source": [
    "Firstly checking for duplicate data and removing it."
   ]
  },
  {
   "cell_type": "code",
   "execution_count": 10,
   "id": "6ac265b2",
   "metadata": {
    "execution": {
     "iopub.execute_input": "2022-07-09T13:42:00.238240Z",
     "iopub.status.busy": "2022-07-09T13:42:00.237773Z",
     "iopub.status.idle": "2022-07-09T13:42:00.251040Z",
     "shell.execute_reply": "2022-07-09T13:42:00.249795Z"
    },
    "papermill": {
     "duration": 0.041133,
     "end_time": "2022-07-09T13:42:00.253351",
     "exception": false,
     "start_time": "2022-07-09T13:42:00.212218",
     "status": "completed"
    },
    "tags": []
   },
   "outputs": [
    {
     "data": {
      "text/plain": [
       "0"
      ]
     },
     "execution_count": 10,
     "metadata": {},
     "output_type": "execute_result"
    }
   ],
   "source": [
    "data.duplicated().sum()"
   ]
  },
  {
   "cell_type": "markdown",
   "id": "8b1a3060",
   "metadata": {
    "papermill": {
     "duration": 0.024111,
     "end_time": "2022-07-09T13:42:00.301855",
     "exception": false,
     "start_time": "2022-07-09T13:42:00.277744",
     "status": "completed"
    },
    "tags": []
   },
   "source": [
    "Secondly, looking for missing values"
   ]
  },
  {
   "cell_type": "code",
   "execution_count": 11,
   "id": "7e25f419",
   "metadata": {
    "execution": {
     "iopub.execute_input": "2022-07-09T13:42:00.352684Z",
     "iopub.status.busy": "2022-07-09T13:42:00.352234Z",
     "iopub.status.idle": "2022-07-09T13:42:00.361848Z",
     "shell.execute_reply": "2022-07-09T13:42:00.360652Z"
    },
    "papermill": {
     "duration": 0.03809,
     "end_time": "2022-07-09T13:42:00.364204",
     "exception": false,
     "start_time": "2022-07-09T13:42:00.326114",
     "status": "completed"
    },
    "tags": []
   },
   "outputs": [
    {
     "data": {
      "text/plain": [
       "id                  1\n",
       "age                15\n",
       "bp                 12\n",
       "sg                 47\n",
       "al                 46\n",
       "su                 49\n",
       "rbc               152\n",
       "pc                 65\n",
       "pcc                 4\n",
       "ba                  4\n",
       "bgr                44\n",
       "bu                 19\n",
       "sc                 17\n",
       "sod                87\n",
       "pot                88\n",
       "hemo               52\n",
       "pcv                86\n",
       "wc                106\n",
       "rc                131\n",
       "htn                 2\n",
       "dm                  8\n",
       "cad                 4\n",
       "appet               1\n",
       "pe                  1\n",
       "ane                 1\n",
       "classification      2\n",
       "dtype: int64"
      ]
     },
     "execution_count": 11,
     "metadata": {},
     "output_type": "execute_result"
    }
   ],
   "source": [
    "data.isnull().sum()"
   ]
  },
  {
   "cell_type": "code",
   "execution_count": 12,
   "id": "66493722",
   "metadata": {
    "execution": {
     "iopub.execute_input": "2022-07-09T13:42:00.415089Z",
     "iopub.status.busy": "2022-07-09T13:42:00.414608Z",
     "iopub.status.idle": "2022-07-09T13:42:00.818893Z",
     "shell.execute_reply": "2022-07-09T13:42:00.817540Z"
    },
    "papermill": {
     "duration": 0.433092,
     "end_time": "2022-07-09T13:42:00.821802",
     "exception": false,
     "start_time": "2022-07-09T13:42:00.388710",
     "status": "completed"
    },
    "tags": []
   },
   "outputs": [
    {
     "data": {
      "text/plain": [
       "<AxesSubplot:>"
      ]
     },
     "execution_count": 12,
     "metadata": {},
     "output_type": "execute_result"
    },
    {
     "data": {
      "image/png": "[encoded data removed]",
      "text/plain": [
       "<Figure size 432x288 with 2 Axes>"
      ]
     },
     "metadata": {
      "needs_background": "light"
     },
     "output_type": "display_data"
    }
   ],
   "source": [
    "sns.heatmap(data.isnull(), cmap = \"YlGn\")"
   ]
  },
  {
   "cell_type": "markdown",
   "id": "3a0a3681",
   "metadata": {
    "execution": {
     "iopub.execute_input": "2022-07-09T10:10:16.404236Z",
     "iopub.status.busy": "2022-07-09T10:10:16.403841Z",
     "iopub.status.idle": "2022-07-09T10:10:16.412048Z",
     "shell.execute_reply": "2022-07-09T10:10:16.410685Z",
     "shell.execute_reply.started": "2022-07-09T10:10:16.404204Z"
    },
    "papermill": {
     "duration": 0.024362,
     "end_time": "2022-07-09T13:42:00.871259",
     "exception": false,
     "start_time": "2022-07-09T13:42:00.846897",
     "status": "completed"
    },
    "tags": []
   },
   "source": [
    "Calculating percentage of missing data in each columns"
   ]
  },
  {
   "cell_type": "code",
   "execution_count": 13,
   "id": "38090790",
   "metadata": {
    "execution": {
     "iopub.execute_input": "2022-07-09T13:42:00.922614Z",
     "iopub.status.busy": "2022-07-09T13:42:00.922047Z",
     "iopub.status.idle": "2022-07-09T13:42:00.935994Z",
     "shell.execute_reply": "2022-07-09T13:42:00.934600Z"
    },
    "papermill": {
     "duration": 0.04262,
     "end_time": "2022-07-09T13:42:00.938575",
     "exception": false,
     "start_time": "2022-07-09T13:42:00.895955",
     "status": "completed"
    },
    "tags": []
   },
   "outputs": [
    {
     "name": "stdout",
     "output_type": "stream",
     "text": [
      "id - 0% \tmissing data\n",
      "age - 4% \tmissing data\n",
      "bp - 3% \tmissing data\n",
      "sg - 12% \tmissing data\n",
      "al - 12% \tmissing data\n",
      "su - 12% \tmissing data\n",
      "rbc - 38% \tmissing data\n",
      "pc - 16% \tmissing data\n",
      "pcc - 1% \tmissing data\n",
      "ba - 1% \tmissing data\n",
      "bgr - 11% \tmissing data\n",
      "bu - 5% \tmissing data\n",
      "sc - 4% \tmissing data\n",
      "sod - 22% \tmissing data\n",
      "pot - 22% \tmissing data\n",
      "hemo - 13% \tmissing data\n",
      "pcv - 22% \tmissing data\n",
      "wc - 26% \tmissing data\n",
      "rc - 33% \tmissing data\n",
      "htn - 0% \tmissing data\n",
      "dm - 2% \tmissing data\n",
      "cad - 1% \tmissing data\n",
      "appet - 0% \tmissing data\n",
      "pe - 0% \tmissing data\n",
      "ane - 0% \tmissing data\n",
      "classification - 0% \tmissing data\n"
     ]
    }
   ],
   "source": [
    "for col in data.columns:\n",
    "    missing = np.mean(data[col].isnull())\n",
    "    print('{} - {}% \\tmissing data'.format(col, round(missing*100)))"
   ]
  },
  {
   "cell_type": "markdown",
   "id": "16569392",
   "metadata": {
    "papermill": {
     "duration": 0.024103,
     "end_time": "2022-07-09T13:42:00.987642",
     "exception": false,
     "start_time": "2022-07-09T13:42:00.963539",
     "status": "completed"
    },
    "tags": []
   },
   "source": [
    "We note here that majorly 6 columns have more than 20% data loss and we can observe that these 6 columns will have a high percentage of impact on the results."
   ]
  },
  {
   "cell_type": "code",
   "execution_count": 14,
   "id": "d30abbbb",
   "metadata": {
    "execution": {
     "iopub.execute_input": "2022-07-09T13:42:01.039062Z",
     "iopub.status.busy": "2022-07-09T13:42:01.038613Z",
     "iopub.status.idle": "2022-07-09T13:42:01.044983Z",
     "shell.execute_reply": "2022-07-09T13:42:01.043703Z"
    },
    "papermill": {
     "duration": 0.034605,
     "end_time": "2022-07-09T13:42:01.047050",
     "exception": false,
     "start_time": "2022-07-09T13:42:01.012445",
     "status": "completed"
    },
    "tags": []
   },
   "outputs": [],
   "source": [
    "data_copy = data.copy()\n",
    "matplotlib.rcParams['figure.figsize'] = (8,5)"
   ]
  },
  {
   "cell_type": "markdown",
   "id": "ef3795d1",
   "metadata": {
    "papermill": {
     "duration": 0.02549,
     "end_time": "2022-07-09T13:42:01.097238",
     "exception": false,
     "start_time": "2022-07-09T13:42:01.071748",
     "status": "completed"
    },
    "tags": []
   },
   "source": [
    "## Let's look at the numerical columns "
   ]
  },
  {
   "cell_type": "markdown",
   "id": "d2c02e2d",
   "metadata": {
    "papermill": {
     "duration": 0.024602,
     "end_time": "2022-07-09T13:42:01.146489",
     "exception": false,
     "start_time": "2022-07-09T13:42:01.121887",
     "status": "completed"
    },
    "tags": []
   },
   "source": [
    "**Age column**"
   ]
  },
  {
   "cell_type": "code",
   "execution_count": 15,
   "id": "2e692f7e",
   "metadata": {
    "execution": {
     "iopub.execute_input": "2022-07-09T13:42:01.197969Z",
     "iopub.status.busy": "2022-07-09T13:42:01.197531Z",
     "iopub.status.idle": "2022-07-09T13:42:01.462216Z",
     "shell.execute_reply": "2022-07-09T13:42:01.460623Z"
    },
    "papermill": {
     "duration": 0.293709,
     "end_time": "2022-07-09T13:42:01.464967",
     "exception": false,
     "start_time": "2022-07-09T13:42:01.171258",
     "status": "completed"
    },
    "tags": []
   },
   "outputs": [
    {
     "data": {
      "text/plain": [
       "<matplotlib.legend.Legend at 0x7f853d5d3d90>"
      ]
     },
     "execution_count": 15,
     "metadata": {},
     "output_type": "execute_result"
    },
    {
     "data": {
      "image/png": "[encoded data removed]",
      "text/plain": [
       "<Figure size 576x360 with 1 Axes>"
      ]
     },
     "metadata": {
      "needs_background": "light"
     },
     "output_type": "display_data"
    }
   ],
   "source": [
    "mean = data_copy.age.mean()\n",
    "median = data_copy.age.median()\n",
    "data_copy['age_mean'] = data_copy.age.fillna(mean)\n",
    "data_copy['age_median'] = data_copy.age.fillna(median)\n",
    "data_copy['new_age'] = data_copy['age'].fillna(method='ffill')\n",
    "\n",
    "sns.kdeplot(data_copy['age_mean'], color = 'red', label = \"Mean\")\n",
    "sns.kdeplot(data_copy['age_median'], color = 'blue', label = \"Median\")\n",
    "sns.kdeplot(data_copy['new_age'], color = 'yellow', label = \"ffill\")\n",
    "sns.kdeplot(data_copy['age'], color = 'black', label = \"Original\")\n",
    "plt.legend()"
   ]
  },
  {
   "cell_type": "markdown",
   "id": "a0c33ea1",
   "metadata": {
    "papermill": {
     "duration": 0.025708,
     "end_time": "2022-07-09T13:42:01.516249",
     "exception": false,
     "start_time": "2022-07-09T13:42:01.490541",
     "status": "completed"
    },
    "tags": []
   },
   "source": [
    "We can see the ffill has the best congruent distribution curve on the original distribution curve so, it is the best suited for age column."
   ]
  },
  {
   "cell_type": "code",
   "execution_count": 16,
   "id": "f9db25ce",
   "metadata": {
    "execution": {
     "iopub.execute_input": "2022-07-09T13:42:01.570033Z",
     "iopub.status.busy": "2022-07-09T13:42:01.569137Z",
     "iopub.status.idle": "2022-07-09T13:42:01.577257Z",
     "shell.execute_reply": "2022-07-09T13:42:01.576435Z"
    },
    "papermill": {
     "duration": 0.037137,
     "end_time": "2022-07-09T13:42:01.579172",
     "exception": false,
     "start_time": "2022-07-09T13:42:01.542035",
     "status": "completed"
    },
    "tags": []
   },
   "outputs": [
    {
     "data": {
      "text/plain": [
       "0"
      ]
     },
     "execution_count": 16,
     "metadata": {},
     "output_type": "execute_result"
    }
   ],
   "source": [
    "data['age'] = data_copy['new_age']\n",
    "data['age'].isnull().sum()"
   ]
  },
  {
   "cell_type": "markdown",
   "id": "b47b7b08",
   "metadata": {
    "papermill": {
     "duration": 0.025112,
     "end_time": "2022-07-09T13:42:01.630435",
     "exception": false,
     "start_time": "2022-07-09T13:42:01.605323",
     "status": "completed"
    },
    "tags": []
   },
   "source": [
    "**bp column**"
   ]
  },
  {
   "cell_type": "code",
   "execution_count": 17,
   "id": "52fed128",
   "metadata": {
    "execution": {
     "iopub.execute_input": "2022-07-09T13:42:01.685229Z",
     "iopub.status.busy": "2022-07-09T13:42:01.684165Z",
     "iopub.status.idle": "2022-07-09T13:42:01.969858Z",
     "shell.execute_reply": "2022-07-09T13:42:01.968595Z"
    },
    "papermill": {
     "duration": 0.31628,
     "end_time": "2022-07-09T13:42:01.972481",
     "exception": false,
     "start_time": "2022-07-09T13:42:01.656201",
     "status": "completed"
    },
    "tags": []
   },
   "outputs": [
    {
     "data": {
      "text/plain": [
       "<matplotlib.legend.Legend at 0x7f853d67ecd0>"
      ]
     },
     "execution_count": 17,
     "metadata": {},
     "output_type": "execute_result"
    },
    {
     "data": {
      "image/png": "[encoded data removed]",
      "text/plain": [
       "<Figure size 576x360 with 1 Axes>"
      ]
     },
     "metadata": {
      "needs_background": "light"
     },
     "output_type": "display_data"
    }
   ],
   "source": [
    "mean = data_copy.bp.mean()\n",
    "median = data_copy.bp.median()\n",
    "data_copy['bp_mean'] = data_copy.bp.fillna(mean)\n",
    "data_copy['bp_median'] = data_copy.bp.fillna(median)\n",
    "data_copy['new_bp'] = data_copy.bp.fillna(method = 'ffill')\n",
    "\n",
    "sns.kdeplot(data_copy['bp_mean'], color = 'red', label = 'Mean')\n",
    "sns.kdeplot(data_copy['bp_median'], color = 'blue', label = 'Median')\n",
    "sns.kdeplot(data_copy['new_bp'], color='yellow', label = 'ffill')\n",
    "sns.kdeplot(data_copy['bp'], color = 'black', label = 'Original')\n",
    "plt.legend()"
   ]
  },
  {
   "cell_type": "markdown",
   "id": "76f6b491",
   "metadata": {
    "papermill": {
     "duration": 0.02567,
     "end_time": "2022-07-09T13:42:02.024919",
     "exception": false,
     "start_time": "2022-07-09T13:42:01.999249",
     "status": "completed"
    },
    "tags": []
   },
   "source": [
    "Similarly we can observe that ffill is the best method to use in order to compensate for the missing values"
   ]
  },
  {
   "cell_type": "code",
   "execution_count": 18,
   "id": "6101ae8d",
   "metadata": {
    "execution": {
     "iopub.execute_input": "2022-07-09T13:42:02.079166Z",
     "iopub.status.busy": "2022-07-09T13:42:02.078066Z",
     "iopub.status.idle": "2022-07-09T13:42:02.085837Z",
     "shell.execute_reply": "2022-07-09T13:42:02.084961Z"
    },
    "papermill": {
     "duration": 0.036977,
     "end_time": "2022-07-09T13:42:02.087776",
     "exception": false,
     "start_time": "2022-07-09T13:42:02.050799",
     "status": "completed"
    },
    "tags": []
   },
   "outputs": [
    {
     "data": {
      "text/plain": [
       "0"
      ]
     },
     "execution_count": 18,
     "metadata": {},
     "output_type": "execute_result"
    }
   ],
   "source": [
    "data['bp'] = data_copy['new_bp']\n",
    "data['bp'].isnull().sum()"
   ]
  },
  {
   "cell_type": "markdown",
   "id": "17cc0c33",
   "metadata": {
    "papermill": {
     "duration": 0.025748,
     "end_time": "2022-07-09T13:42:02.140730",
     "exception": false,
     "start_time": "2022-07-09T13:42:02.114982",
     "status": "completed"
    },
    "tags": []
   },
   "source": [
    "**sg column**"
   ]
  },
  {
   "cell_type": "code",
   "execution_count": 19,
   "id": "b56362de",
   "metadata": {
    "execution": {
     "iopub.execute_input": "2022-07-09T13:42:02.197183Z",
     "iopub.status.busy": "2022-07-09T13:42:02.196429Z",
     "iopub.status.idle": "2022-07-09T13:42:02.459676Z",
     "shell.execute_reply": "2022-07-09T13:42:02.458803Z"
    },
    "papermill": {
     "duration": 0.294838,
     "end_time": "2022-07-09T13:42:02.461953",
     "exception": false,
     "start_time": "2022-07-09T13:42:02.167115",
     "status": "completed"
    },
    "tags": []
   },
   "outputs": [
    {
     "data": {
      "text/plain": [
       "<matplotlib.legend.Legend at 0x7f8535454790>"
      ]
     },
     "execution_count": 19,
     "metadata": {},
     "output_type": "execute_result"
    },
    {
     "data": {
      "image/png": "[encoded data removed]",
      "text/plain": [
       "<Figure size 576x360 with 1 Axes>"
      ]
     },
     "metadata": {
      "needs_background": "light"
     },
     "output_type": "display_data"
    }
   ],
   "source": [
    "mean = data_copy.sg.mean()\n",
    "median = data_copy.sg.median()\n",
    "data_copy['mean'] = data_copy.sg.fillna(mean)\n",
    "data_copy['median'] = data_copy.sg.fillna(median)\n",
    "data_copy['new_sg'] = data_copy.sg.fillna(method = 'ffill')\n",
    "\n",
    "sns.kdeplot(data_copy['mean'], color = 'red', label = 'Mean')\n",
    "sns.kdeplot(data_copy['median'], color = 'blue', label = 'Median')\n",
    "sns.kdeplot(data_copy['new_sg'], color='yellow', label = 'ffill')\n",
    "sns.kdeplot(data_copy['sg'], color = 'black', label = 'Original')\n",
    "plt.legend()"
   ]
  },
  {
   "cell_type": "code",
   "execution_count": 20,
   "id": "5d2d05f0",
   "metadata": {
    "execution": {
     "iopub.execute_input": "2022-07-09T13:42:02.518122Z",
     "iopub.status.busy": "2022-07-09T13:42:02.517671Z",
     "iopub.status.idle": "2022-07-09T13:42:02.527265Z",
     "shell.execute_reply": "2022-07-09T13:42:02.526370Z"
    },
    "papermill": {
     "duration": 0.040121,
     "end_time": "2022-07-09T13:42:02.529357",
     "exception": false,
     "start_time": "2022-07-09T13:42:02.489236",
     "status": "completed"
    },
    "tags": []
   },
   "outputs": [
    {
     "data": {
      "text/plain": [
       "0"
      ]
     },
     "execution_count": 20,
     "metadata": {},
     "output_type": "execute_result"
    }
   ],
   "source": [
    "data['sg'] = data_copy['new_sg']\n",
    "data['sg'].isnull().sum()"
   ]
  },
  {
   "cell_type": "markdown",
   "id": "4693e610",
   "metadata": {
    "papermill": {
     "duration": 0.026617,
     "end_time": "2022-07-09T13:42:02.583039",
     "exception": false,
     "start_time": "2022-07-09T13:42:02.556422",
     "status": "completed"
    },
    "tags": []
   },
   "source": [
    "**al column**"
   ]
  },
  {
   "cell_type": "code",
   "execution_count": 21,
   "id": "3251ed51",
   "metadata": {
    "execution": {
     "iopub.execute_input": "2022-07-09T13:42:02.640680Z",
     "iopub.status.busy": "2022-07-09T13:42:02.639248Z",
     "iopub.status.idle": "2022-07-09T13:42:02.909426Z",
     "shell.execute_reply": "2022-07-09T13:42:02.908080Z"
    },
    "papermill": {
     "duration": 0.301019,
     "end_time": "2022-07-09T13:42:02.912105",
     "exception": false,
     "start_time": "2022-07-09T13:42:02.611086",
     "status": "completed"
    },
    "tags": []
   },
   "outputs": [
    {
     "data": {
      "text/plain": [
       "<matplotlib.legend.Legend at 0x7f8535327390>"
      ]
     },
     "execution_count": 21,
     "metadata": {},
     "output_type": "execute_result"
    },
    {
     "data": {
      "image/png": "[encoded data removed]",
      "text/plain": [
       "<Figure size 576x360 with 1 Axes>"
      ]
     },
     "metadata": {
      "needs_background": "light"
     },
     "output_type": "display_data"
    }
   ],
   "source": [
    "mean = data_copy.al.mean()\n",
    "median = data_copy.al.median()\n",
    "data_copy['mean'] = data_copy.al.fillna(mean)\n",
    "data_copy['median'] = data_copy.al.fillna(median)\n",
    "data_copy['new_al'] = data_copy.al.fillna(method = 'ffill')\n",
    "\n",
    "sns.kdeplot(data_copy['mean'], color = 'red', label = 'Mean')\n",
    "sns.kdeplot(data_copy['median'], color = 'blue', label = 'Median')\n",
    "sns.kdeplot(data_copy['new_al'], color='yellow', label = 'ffill')\n",
    "sns.kdeplot(data_copy['al'], color = 'black', label = 'Original')\n",
    "plt.legend()"
   ]
  },
  {
   "cell_type": "code",
   "execution_count": 22,
   "id": "d3c09989",
   "metadata": {
    "execution": {
     "iopub.execute_input": "2022-07-09T13:42:02.970187Z",
     "iopub.status.busy": "2022-07-09T13:42:02.969769Z",
     "iopub.status.idle": "2022-07-09T13:42:02.978180Z",
     "shell.execute_reply": "2022-07-09T13:42:02.976816Z"
    },
    "papermill": {
     "duration": 0.040165,
     "end_time": "2022-07-09T13:42:02.980438",
     "exception": false,
     "start_time": "2022-07-09T13:42:02.940273",
     "status": "completed"
    },
    "tags": []
   },
   "outputs": [
    {
     "data": {
      "text/plain": [
       "0"
      ]
     },
     "execution_count": 22,
     "metadata": {},
     "output_type": "execute_result"
    }
   ],
   "source": [
    "data['al'] = data_copy['new_al']\n",
    "data['al'].isnull().sum()"
   ]
  },
  {
   "cell_type": "markdown",
   "id": "6d48025a",
   "metadata": {
    "papermill": {
     "duration": 0.027635,
     "end_time": "2022-07-09T13:42:03.035453",
     "exception": false,
     "start_time": "2022-07-09T13:42:03.007818",
     "status": "completed"
    },
    "tags": []
   },
   "source": [
    "**su columns**"
   ]
  },
  {
   "cell_type": "code",
   "execution_count": 23,
   "id": "9a7fd04f",
   "metadata": {
    "execution": {
     "iopub.execute_input": "2022-07-09T13:42:03.106409Z",
     "iopub.status.busy": "2022-07-09T13:42:03.105952Z",
     "iopub.status.idle": "2022-07-09T13:42:03.323135Z",
     "shell.execute_reply": "2022-07-09T13:42:03.322186Z"
    },
    "papermill": {
     "duration": 0.261673,
     "end_time": "2022-07-09T13:42:03.325650",
     "exception": false,
     "start_time": "2022-07-09T13:42:03.063977",
     "status": "completed"
    },
    "tags": []
   },
   "outputs": [
    {
     "data": {
      "text/plain": [
       "<matplotlib.legend.Legend at 0x7f8535314190>"
      ]
     },
     "execution_count": 23,
     "metadata": {},
     "output_type": "execute_result"
    },
    {
     "data": {
      "image/png": "[encoded data removed]",
      "text/plain": [
       "<Figure size 576x360 with 1 Axes>"
      ]
     },
     "metadata": {
      "needs_background": "light"
     },
     "output_type": "display_data"
    }
   ],
   "source": [
    "mean = data_copy.su.mean()\n",
    "median = data_copy.su.median()\n",
    "data_copy['mean'] = data_copy.su.fillna(mean)\n",
    "data_copy['median'] = data_copy.su.fillna(median)\n",
    "data_copy['new_su'] = data_copy.su.fillna(method = 'ffill')\n",
    "\n",
    "sns.kdeplot(data_copy['mean'], color = 'red', label = 'Mean')\n",
    "sns.kdeplot(data_copy['median'], color = 'blue', label = 'Median')\n",
    "sns.kdeplot(data_copy['new_su'], color='yellow', label = 'ffill')\n",
    "sns.kdeplot(data_copy['su'], color = 'black', label = 'Original')\n",
    "plt.legend()"
   ]
  },
  {
   "cell_type": "code",
   "execution_count": 24,
   "id": "8424f55b",
   "metadata": {
    "execution": {
     "iopub.execute_input": "2022-07-09T13:42:03.383521Z",
     "iopub.status.busy": "2022-07-09T13:42:03.383034Z",
     "iopub.status.idle": "2022-07-09T13:42:03.393682Z",
     "shell.execute_reply": "2022-07-09T13:42:03.392796Z"
    },
    "papermill": {
     "duration": 0.042253,
     "end_time": "2022-07-09T13:42:03.395608",
     "exception": false,
     "start_time": "2022-07-09T13:42:03.353355",
     "status": "completed"
    },
    "tags": []
   },
   "outputs": [
    {
     "data": {
      "text/plain": [
       "0"
      ]
     },
     "execution_count": 24,
     "metadata": {},
     "output_type": "execute_result"
    }
   ],
   "source": [
    "data['su'] = data_copy['new_su']\n",
    "data['su'].isnull().sum()"
   ]
  },
  {
   "cell_type": "markdown",
   "id": "ae193b0e",
   "metadata": {
    "papermill": {
     "duration": 0.027704,
     "end_time": "2022-07-09T13:42:03.451253",
     "exception": false,
     "start_time": "2022-07-09T13:42:03.423549",
     "status": "completed"
    },
    "tags": []
   },
   "source": [
    "**bgr column**"
   ]
  },
  {
   "cell_type": "code",
   "execution_count": 25,
   "id": "794f50d5",
   "metadata": {
    "execution": {
     "iopub.execute_input": "2022-07-09T13:42:03.509775Z",
     "iopub.status.busy": "2022-07-09T13:42:03.508651Z",
     "iopub.status.idle": "2022-07-09T13:42:03.771622Z",
     "shell.execute_reply": "2022-07-09T13:42:03.770371Z"
    },
    "papermill": {
     "duration": 0.295309,
     "end_time": "2022-07-09T13:42:03.774415",
     "exception": false,
     "start_time": "2022-07-09T13:42:03.479106",
     "status": "completed"
    },
    "tags": []
   },
   "outputs": [
    {
     "data": {
      "text/plain": [
       "<matplotlib.legend.Legend at 0x7f8535249d90>"
      ]
     },
     "execution_count": 25,
     "metadata": {},
     "output_type": "execute_result"
    },
    {
     "data": {
      "image/png": "[encoded data removed]",
      "text/plain": [
       "<Figure size 576x360 with 1 Axes>"
      ]
     },
     "metadata": {
      "needs_background": "light"
     },
     "output_type": "display_data"
    }
   ],
   "source": [
    "mean = data_copy.bgr.mean()\n",
    "median = data_copy.bgr.median()\n",
    "data_copy['mean'] = data_copy.bgr.fillna(mean)\n",
    "data_copy['median'] = data_copy.bgr.fillna(median)\n",
    "data_copy['new_bgr'] = data_copy.bgr.fillna(method = 'ffill')\n",
    "\n",
    "sns.kdeplot(data_copy['mean'], color = 'red', label = 'Mean')\n",
    "sns.kdeplot(data_copy['median'], color = 'blue', label = 'Median')\n",
    "sns.kdeplot(data_copy['new_bgr'], color='yellow', label = 'ffill')\n",
    "sns.kdeplot(data_copy['bgr'], color = 'black', label = 'Original')\n",
    "plt.legend()"
   ]
  },
  {
   "cell_type": "code",
   "execution_count": 26,
   "id": "258ec46f",
   "metadata": {
    "execution": {
     "iopub.execute_input": "2022-07-09T13:42:03.834664Z",
     "iopub.status.busy": "2022-07-09T13:42:03.834183Z",
     "iopub.status.idle": "2022-07-09T13:42:03.842686Z",
     "shell.execute_reply": "2022-07-09T13:42:03.841480Z"
    },
    "papermill": {
     "duration": 0.041241,
     "end_time": "2022-07-09T13:42:03.844929",
     "exception": false,
     "start_time": "2022-07-09T13:42:03.803688",
     "status": "completed"
    },
    "tags": []
   },
   "outputs": [
    {
     "data": {
      "text/plain": [
       "0"
      ]
     },
     "execution_count": 26,
     "metadata": {},
     "output_type": "execute_result"
    }
   ],
   "source": [
    "data['bgr'] = data_copy['new_bgr']\n",
    "data['bgr'].isnull().sum()"
   ]
  },
  {
   "cell_type": "markdown",
   "id": "02dadbda",
   "metadata": {
    "papermill": {
     "duration": 0.02934,
     "end_time": "2022-07-09T13:42:03.903021",
     "exception": false,
     "start_time": "2022-07-09T13:42:03.873681",
     "status": "completed"
    },
    "tags": []
   },
   "source": [
    "**bu column**"
   ]
  },
  {
   "cell_type": "code",
   "execution_count": 27,
   "id": "b1439205",
   "metadata": {
    "execution": {
     "iopub.execute_input": "2022-07-09T13:42:03.963586Z",
     "iopub.status.busy": "2022-07-09T13:42:03.962755Z",
     "iopub.status.idle": "2022-07-09T13:42:04.228630Z",
     "shell.execute_reply": "2022-07-09T13:42:04.227601Z"
    },
    "papermill": {
     "duration": 0.29918,
     "end_time": "2022-07-09T13:42:04.231249",
     "exception": false,
     "start_time": "2022-07-09T13:42:03.932069",
     "status": "completed"
    },
    "tags": []
   },
   "outputs": [
    {
     "data": {
      "text/plain": [
       "<matplotlib.legend.Legend at 0x7f8535160950>"
      ]
     },
     "execution_count": 27,
     "metadata": {},
     "output_type": "execute_result"
    },
    {
     "data": {
      "image/png": "[encoded data removed]",
      "text/plain": [
       "<Figure size 576x360 with 1 Axes>"
      ]
     },
     "metadata": {
      "needs_background": "light"
     },
     "output_type": "display_data"
    }
   ],
   "source": [
    "mean = data_copy.bu.mean()\n",
    "median = data_copy.bu.median()\n",
    "data_copy['mean'] = data_copy.bu.fillna(mean)\n",
    "data_copy['median'] = data_copy.bu.fillna(median)\n",
    "data_copy['new_bu'] = data_copy.bu.fillna(method = 'ffill')\n",
    "\n",
    "sns.kdeplot(data_copy['mean'], color = 'red', label = 'Mean')\n",
    "sns.kdeplot(data_copy['median'], color = 'blue', label = 'Median')\n",
    "sns.kdeplot(data_copy['new_bu'], color='yellow', label = 'ffill')\n",
    "sns.kdeplot(data_copy['bu'], color = 'black', label = 'Original')\n",
    "plt.legend()"
   ]
  },
  {
   "cell_type": "code",
   "execution_count": 28,
   "id": "3bd63816",
   "metadata": {
    "execution": {
     "iopub.execute_input": "2022-07-09T13:42:04.291831Z",
     "iopub.status.busy": "2022-07-09T13:42:04.291346Z",
     "iopub.status.idle": "2022-07-09T13:42:04.300753Z",
     "shell.execute_reply": "2022-07-09T13:42:04.299835Z"
    },
    "papermill": {
     "duration": 0.042439,
     "end_time": "2022-07-09T13:42:04.302896",
     "exception": false,
     "start_time": "2022-07-09T13:42:04.260457",
     "status": "completed"
    },
    "tags": []
   },
   "outputs": [
    {
     "data": {
      "text/plain": [
       "0"
      ]
     },
     "execution_count": 28,
     "metadata": {},
     "output_type": "execute_result"
    }
   ],
   "source": [
    "data['bu'] = data_copy['mean']\n",
    "data['bu'].isnull().sum()"
   ]
  },
  {
   "cell_type": "markdown",
   "id": "97cb1ce5",
   "metadata": {
    "papermill": {
     "duration": 0.029361,
     "end_time": "2022-07-09T13:42:04.361499",
     "exception": false,
     "start_time": "2022-07-09T13:42:04.332138",
     "status": "completed"
    },
    "tags": []
   },
   "source": [
    "**sc column**"
   ]
  },
  {
   "cell_type": "code",
   "execution_count": 29,
   "id": "d4d62f54",
   "metadata": {
    "execution": {
     "iopub.execute_input": "2022-07-09T13:42:04.423227Z",
     "iopub.status.busy": "2022-07-09T13:42:04.422510Z",
     "iopub.status.idle": "2022-07-09T13:42:04.694419Z",
     "shell.execute_reply": "2022-07-09T13:42:04.693128Z"
    },
    "papermill": {
     "duration": 0.305794,
     "end_time": "2022-07-09T13:42:04.696907",
     "exception": false,
     "start_time": "2022-07-09T13:42:04.391113",
     "status": "completed"
    },
    "tags": []
   },
   "outputs": [
    {
     "data": {
      "text/plain": [
       "<matplotlib.legend.Legend at 0x7f853510c810>"
      ]
     },
     "execution_count": 29,
     "metadata": {},
     "output_type": "execute_result"
    },
    {
     "data": {
      "image/png": "[encoded data removed]",
      "text/plain": [
       "<Figure size 576x360 with 1 Axes>"
      ]
     },
     "metadata": {
      "needs_background": "light"
     },
     "output_type": "display_data"
    }
   ],
   "source": [
    "mean = data_copy.sc.mean()\n",
    "median = data_copy.sc.median()\n",
    "data_copy['mean'] = data_copy.sc.fillna(mean)\n",
    "data_copy['median'] = data_copy.sc.fillna(median)\n",
    "data_copy['new_sc'] = data_copy.sc.fillna(method = 'ffill')\n",
    "\n",
    "sns.kdeplot(data_copy['mean'], color = 'red', label = 'Mean')\n",
    "sns.kdeplot(data_copy['median'], color = 'blue', label = 'Median')\n",
    "sns.kdeplot(data_copy['new_sc'], color='yellow', label = 'ffill')\n",
    "sns.kdeplot(data_copy['sc'], color = 'black', label = 'Original')\n",
    "plt.legend()"
   ]
  },
  {
   "cell_type": "code",
   "execution_count": 30,
   "id": "4cc3e029",
   "metadata": {
    "execution": {
     "iopub.execute_input": "2022-07-09T13:42:04.761362Z",
     "iopub.status.busy": "2022-07-09T13:42:04.760454Z",
     "iopub.status.idle": "2022-07-09T13:42:04.769730Z",
     "shell.execute_reply": "2022-07-09T13:42:04.768667Z"
    },
    "papermill": {
     "duration": 0.044087,
     "end_time": "2022-07-09T13:42:04.772004",
     "exception": false,
     "start_time": "2022-07-09T13:42:04.727917",
     "status": "completed"
    },
    "tags": []
   },
   "outputs": [
    {
     "data": {
      "text/plain": [
       "0"
      ]
     },
     "execution_count": 30,
     "metadata": {},
     "output_type": "execute_result"
    }
   ],
   "source": [
    "data['sc'] = data_copy['mean']\n",
    "data['sc'].isnull().sum()"
   ]
  },
  {
   "cell_type": "markdown",
   "id": "b0cdbf41",
   "metadata": {
    "papermill": {
     "duration": 0.0302,
     "end_time": "2022-07-09T13:42:04.833815",
     "exception": false,
     "start_time": "2022-07-09T13:42:04.803615",
     "status": "completed"
    },
    "tags": []
   },
   "source": [
    "**sod column**"
   ]
  },
  {
   "cell_type": "code",
   "execution_count": 31,
   "id": "367d3819",
   "metadata": {
    "execution": {
     "iopub.execute_input": "2022-07-09T13:42:04.896540Z",
     "iopub.status.busy": "2022-07-09T13:42:04.896072Z",
     "iopub.status.idle": "2022-07-09T13:42:05.179024Z",
     "shell.execute_reply": "2022-07-09T13:42:05.177651Z"
    },
    "papermill": {
     "duration": 0.317537,
     "end_time": "2022-07-09T13:42:05.181671",
     "exception": false,
     "start_time": "2022-07-09T13:42:04.864134",
     "status": "completed"
    },
    "tags": []
   },
   "outputs": [
    {
     "data": {
      "text/plain": [
       "<matplotlib.legend.Legend at 0x7f8535059dd0>"
      ]
     },
     "execution_count": 31,
     "metadata": {},
     "output_type": "execute_result"
    },
    {
     "data": {
      "image/png": "[encoded data removed]",
      "text/plain": [
       "<Figure size 576x360 with 1 Axes>"
      ]
     },
     "metadata": {
      "needs_background": "light"
     },
     "output_type": "display_data"
    }
   ],
   "source": [
    "mean = data_copy.sod.mean()\n",
    "median = data_copy.sod.median()\n",
    "data_copy['mean'] = data_copy.sod.fillna(mean)\n",
    "data_copy['median'] = data_copy.sod.fillna(median)\n",
    "data_copy['new_sod'] = data_copy.sod.fillna(method = 'ffill')\n",
    "\n",
    "sns.kdeplot(data_copy['mean'], color = 'red', label = 'Mean')\n",
    "sns.kdeplot(data_copy['median'], color = 'blue', label = 'Median')\n",
    "sns.kdeplot(data_copy['new_sod'], color='yellow', label = 'ffill')\n",
    "sns.kdeplot(data_copy['sod'], color = 'black', label = 'Original')\n",
    "plt.legend()"
   ]
  },
  {
   "cell_type": "code",
   "execution_count": 32,
   "id": "70e4563e",
   "metadata": {
    "execution": {
     "iopub.execute_input": "2022-07-09T13:42:05.246402Z",
     "iopub.status.busy": "2022-07-09T13:42:05.245146Z",
     "iopub.status.idle": "2022-07-09T13:42:05.254475Z",
     "shell.execute_reply": "2022-07-09T13:42:05.253680Z"
    },
    "papermill": {
     "duration": 0.043981,
     "end_time": "2022-07-09T13:42:05.256422",
     "exception": false,
     "start_time": "2022-07-09T13:42:05.212441",
     "status": "completed"
    },
    "tags": []
   },
   "outputs": [
    {
     "data": {
      "text/plain": [
       "3"
      ]
     },
     "execution_count": 32,
     "metadata": {},
     "output_type": "execute_result"
    }
   ],
   "source": [
    "data['sod'] = data_copy['new_sod']\n",
    "data['sod'].isnull().sum()"
   ]
  },
  {
   "cell_type": "code",
   "execution_count": 33,
   "id": "13054025",
   "metadata": {
    "execution": {
     "iopub.execute_input": "2022-07-09T13:42:05.320987Z",
     "iopub.status.busy": "2022-07-09T13:42:05.320136Z",
     "iopub.status.idle": "2022-07-09T13:42:05.329760Z",
     "shell.execute_reply": "2022-07-09T13:42:05.328347Z"
    },
    "papermill": {
     "duration": 0.044657,
     "end_time": "2022-07-09T13:42:05.332213",
     "exception": false,
     "start_time": "2022-07-09T13:42:05.287556",
     "status": "completed"
    },
    "tags": []
   },
   "outputs": [
    {
     "name": "stdout",
     "output_type": "stream",
     "text": [
      "0\n"
     ]
    }
   ],
   "source": [
    "data_copy['sod'] = data['sod']\n",
    "sod_mean = data_copy.sod.mean()\n",
    "data_copy['mean'] = data_copy.sod.fillna(mean)\n",
    "data['sod'] = data_copy['mean']\n",
    "print(data['sod'].isnull().sum())"
   ]
  },
  {
   "cell_type": "markdown",
   "id": "5bd45bfe",
   "metadata": {
    "papermill": {
     "duration": 0.030709,
     "end_time": "2022-07-09T13:42:05.393787",
     "exception": false,
     "start_time": "2022-07-09T13:42:05.363078",
     "status": "completed"
    },
    "tags": []
   },
   "source": [
    "**pot columns**"
   ]
  },
  {
   "cell_type": "code",
   "execution_count": 34,
   "id": "45bcc3d8",
   "metadata": {
    "execution": {
     "iopub.execute_input": "2022-07-09T13:42:05.457411Z",
     "iopub.status.busy": "2022-07-09T13:42:05.456694Z",
     "iopub.status.idle": "2022-07-09T13:42:05.724414Z",
     "shell.execute_reply": "2022-07-09T13:42:05.723565Z"
    },
    "papermill": {
     "duration": 0.302253,
     "end_time": "2022-07-09T13:42:05.726667",
     "exception": false,
     "start_time": "2022-07-09T13:42:05.424414",
     "status": "completed"
    },
    "tags": []
   },
   "outputs": [
    {
     "data": {
      "text/plain": [
       "<matplotlib.legend.Legend at 0x7f8534f5da10>"
      ]
     },
     "execution_count": 34,
     "metadata": {},
     "output_type": "execute_result"
    },
    {
     "data": {
      "image/png": "[encoded data removed]",
      "text/plain": [
       "<Figure size 576x360 with 1 Axes>"
      ]
     },
     "metadata": {
      "needs_background": "light"
     },
     "output_type": "display_data"
    }
   ],
   "source": [
    "mean = data_copy.pot.mean()\n",
    "median = data_copy.pot.median()\n",
    "data_copy['mean'] = data_copy.pot.fillna(mean)\n",
    "data_copy['median'] = data_copy.pot.fillna(median)\n",
    "data_copy['new_pot'] = data_copy.pot.fillna(method = 'ffill')\n",
    "\n",
    "sns.kdeplot(data_copy['mean'], color = 'red', label = 'Mean')\n",
    "sns.kdeplot(data_copy['median'], color = 'blue', label = 'Median')\n",
    "sns.kdeplot(data_copy['new_pot'], color='yellow', label = 'ffill')\n",
    "sns.kdeplot(data_copy['pot'], color = 'black', label = 'Original')\n",
    "plt.legend()"
   ]
  },
  {
   "cell_type": "code",
   "execution_count": 35,
   "id": "fc2e5737",
   "metadata": {
    "execution": {
     "iopub.execute_input": "2022-07-09T13:42:05.794201Z",
     "iopub.status.busy": "2022-07-09T13:42:05.792893Z",
     "iopub.status.idle": "2022-07-09T13:42:05.802227Z",
     "shell.execute_reply": "2022-07-09T13:42:05.801121Z"
    },
    "papermill": {
     "duration": 0.045576,
     "end_time": "2022-07-09T13:42:05.804449",
     "exception": false,
     "start_time": "2022-07-09T13:42:05.758873",
     "status": "completed"
    },
    "tags": []
   },
   "outputs": [
    {
     "data": {
      "text/plain": [
       "3"
      ]
     },
     "execution_count": 35,
     "metadata": {},
     "output_type": "execute_result"
    }
   ],
   "source": [
    "data['pot'] = data_copy['new_pot']\n",
    "data['pot'].isnull().sum()"
   ]
  },
  {
   "cell_type": "code",
   "execution_count": 36,
   "id": "e34d4d67",
   "metadata": {
    "execution": {
     "iopub.execute_input": "2022-07-09T13:42:05.870468Z",
     "iopub.status.busy": "2022-07-09T13:42:05.869714Z",
     "iopub.status.idle": "2022-07-09T13:42:05.877782Z",
     "shell.execute_reply": "2022-07-09T13:42:05.876599Z"
    },
    "papermill": {
     "duration": 0.044396,
     "end_time": "2022-07-09T13:42:05.880550",
     "exception": false,
     "start_time": "2022-07-09T13:42:05.836154",
     "status": "completed"
    },
    "tags": []
   },
   "outputs": [
    {
     "name": "stdout",
     "output_type": "stream",
     "text": [
      "0\n"
     ]
    }
   ],
   "source": [
    "data_copy['pot'] = data['pot']\n",
    "mean = data_copy.pot.mean()\n",
    "data_copy['mean'] = data_copy.pot.fillna(mean)\n",
    "data['pot'] = data_copy['mean']\n",
    "print(data['pot'].isnull().sum())"
   ]
  },
  {
   "cell_type": "markdown",
   "id": "3f72e0b5",
   "metadata": {
    "papermill": {
     "duration": 0.031027,
     "end_time": "2022-07-09T13:42:05.943274",
     "exception": false,
     "start_time": "2022-07-09T13:42:05.912247",
     "status": "completed"
    },
    "tags": []
   },
   "source": [
    "**hemo column**"
   ]
  },
  {
   "cell_type": "code",
   "execution_count": 37,
   "id": "41530547",
   "metadata": {
    "execution": {
     "iopub.execute_input": "2022-07-09T13:42:06.009543Z",
     "iopub.status.busy": "2022-07-09T13:42:06.008731Z",
     "iopub.status.idle": "2022-07-09T13:42:06.293781Z",
     "shell.execute_reply": "2022-07-09T13:42:06.292462Z"
    },
    "papermill": {
     "duration": 0.321119,
     "end_time": "2022-07-09T13:42:06.296505",
     "exception": false,
     "start_time": "2022-07-09T13:42:05.975386",
     "status": "completed"
    },
    "tags": []
   },
   "outputs": [
    {
     "data": {
      "text/plain": [
       "<matplotlib.legend.Legend at 0x7f8534efdfd0>"
      ]
     },
     "execution_count": 37,
     "metadata": {},
     "output_type": "execute_result"
    },
    {
     "data": {
      "image/png": "[encoded data removed]",
      "text/plain": [
       "<Figure size 576x360 with 1 Axes>"
      ]
     },
     "metadata": {
      "needs_background": "light"
     },
     "output_type": "display_data"
    }
   ],
   "source": [
    "mean = data_copy.hemo.mean()\n",
    "median = data_copy.hemo.median()\n",
    "data_copy['mean'] = data_copy.hemo.fillna(mean)\n",
    "data_copy['median'] = data_copy.hemo.fillna(median)\n",
    "data_copy['new_hemo'] = data_copy.hemo.fillna(method = 'ffill')\n",
    "\n",
    "sns.kdeplot(data_copy['mean'], color = 'red', label = 'Mean')\n",
    "sns.kdeplot(data_copy['median'], color = 'blue', label = 'Median')\n",
    "sns.kdeplot(data_copy['new_hemo'], color='yellow', label = 'ffill')\n",
    "sns.kdeplot(data_copy['hemo'], color = 'black', label = 'Original')\n",
    "plt.legend()"
   ]
  },
  {
   "cell_type": "code",
   "execution_count": 38,
   "id": "436d5cea",
   "metadata": {
    "execution": {
     "iopub.execute_input": "2022-07-09T13:42:06.362779Z",
     "iopub.status.busy": "2022-07-09T13:42:06.362303Z",
     "iopub.status.idle": "2022-07-09T13:42:06.370550Z",
     "shell.execute_reply": "2022-07-09T13:42:06.369696Z"
    },
    "papermill": {
     "duration": 0.043446,
     "end_time": "2022-07-09T13:42:06.372498",
     "exception": false,
     "start_time": "2022-07-09T13:42:06.329052",
     "status": "completed"
    },
    "tags": []
   },
   "outputs": [
    {
     "data": {
      "text/plain": [
       "0"
      ]
     },
     "execution_count": 38,
     "metadata": {},
     "output_type": "execute_result"
    }
   ],
   "source": [
    "data['hemo'] = data_copy['new_hemo']\n",
    "data['hemo'].isnull().sum()"
   ]
  },
  {
   "cell_type": "markdown",
   "id": "6a9180c4",
   "metadata": {
    "papermill": {
     "duration": 0.031862,
     "end_time": "2022-07-09T13:42:06.436572",
     "exception": false,
     "start_time": "2022-07-09T13:42:06.404710",
     "status": "completed"
    },
    "tags": []
   },
   "source": [
    "## Let's deal with the categorical columns"
   ]
  },
  {
   "cell_type": "code",
   "execution_count": 39,
   "id": "5cffad0e",
   "metadata": {
    "execution": {
     "iopub.execute_input": "2022-07-09T13:42:06.503978Z",
     "iopub.status.busy": "2022-07-09T13:42:06.503219Z",
     "iopub.status.idle": "2022-07-09T13:42:06.511061Z",
     "shell.execute_reply": "2022-07-09T13:42:06.509875Z"
    },
    "papermill": {
     "duration": 0.045176,
     "end_time": "2022-07-09T13:42:06.514018",
     "exception": false,
     "start_time": "2022-07-09T13:42:06.468842",
     "status": "completed"
    },
    "tags": []
   },
   "outputs": [
    {
     "name": "stdout",
     "output_type": "stream",
     "text": [
      "['rbc' 'pc' 'pcc' 'ba' 'htn' 'dm' 'cad' 'appet' 'pe' 'ane'\n",
      " 'classification']\n"
     ]
    }
   ],
   "source": [
    "data_categorical = data.select_dtypes(exclude = [np.number])\n",
    "categorical_cols = data_categorical.columns.values\n",
    "print(categorical_cols)"
   ]
  },
  {
   "cell_type": "markdown",
   "id": "ef312458",
   "metadata": {
    "papermill": {
     "duration": 0.03155,
     "end_time": "2022-07-09T13:42:06.578566",
     "exception": false,
     "start_time": "2022-07-09T13:42:06.547016",
     "status": "completed"
    },
    "tags": []
   },
   "source": [
    "**rbc column**"
   ]
  },
  {
   "cell_type": "code",
   "execution_count": 40,
   "id": "26d1b2d3",
   "metadata": {
    "execution": {
     "iopub.execute_input": "2022-07-09T13:42:06.646161Z",
     "iopub.status.busy": "2022-07-09T13:42:06.644936Z",
     "iopub.status.idle": "2022-07-09T13:42:06.652485Z",
     "shell.execute_reply": "2022-07-09T13:42:06.651407Z"
    },
    "papermill": {
     "duration": 0.043259,
     "end_time": "2022-07-09T13:42:06.654527",
     "exception": false,
     "start_time": "2022-07-09T13:42:06.611268",
     "status": "completed"
    },
    "tags": []
   },
   "outputs": [
    {
     "data": {
      "text/plain": [
       "152"
      ]
     },
     "execution_count": 40,
     "metadata": {},
     "output_type": "execute_result"
    }
   ],
   "source": [
    "data['rbc'].isnull().sum()"
   ]
  },
  {
   "cell_type": "code",
   "execution_count": 41,
   "id": "f226d06f",
   "metadata": {
    "execution": {
     "iopub.execute_input": "2022-07-09T13:42:06.721340Z",
     "iopub.status.busy": "2022-07-09T13:42:06.720684Z",
     "iopub.status.idle": "2022-07-09T13:42:06.728143Z",
     "shell.execute_reply": "2022-07-09T13:42:06.727334Z"
    },
    "papermill": {
     "duration": 0.04329,
     "end_time": "2022-07-09T13:42:06.730059",
     "exception": false,
     "start_time": "2022-07-09T13:42:06.686769",
     "status": "completed"
    },
    "tags": []
   },
   "outputs": [
    {
     "data": {
      "text/plain": [
       "normal      201\n",
       "abnormal     47\n",
       "Name: rbc, dtype: int64"
      ]
     },
     "execution_count": 41,
     "metadata": {},
     "output_type": "execute_result"
    }
   ],
   "source": [
    "data['rbc'].value_counts()"
   ]
  },
  {
   "cell_type": "code",
   "execution_count": 42,
   "id": "ab112582",
   "metadata": {
    "execution": {
     "iopub.execute_input": "2022-07-09T13:42:06.797612Z",
     "iopub.status.busy": "2022-07-09T13:42:06.797125Z",
     "iopub.status.idle": "2022-07-09T13:42:06.982226Z",
     "shell.execute_reply": "2022-07-09T13:42:06.981353Z"
    },
    "papermill": {
     "duration": 0.22131,
     "end_time": "2022-07-09T13:42:06.984516",
     "exception": false,
     "start_time": "2022-07-09T13:42:06.763206",
     "status": "completed"
    },
    "tags": []
   },
   "outputs": [
    {
     "data": {
      "text/plain": [
       "<AxesSubplot:>"
      ]
     },
     "execution_count": 42,
     "metadata": {},
     "output_type": "execute_result"
    },
    {
     "data": {
      "image/png": "[encoded data removed]",
      "text/plain": [
       "<Figure size 576x360 with 1 Axes>"
      ]
     },
     "metadata": {
      "needs_background": "light"
     },
     "output_type": "display_data"
    }
   ],
   "source": [
    "data['rbc'].value_counts().plot.bar()"
   ]
  },
  {
   "cell_type": "code",
   "execution_count": 43,
   "id": "742fef51",
   "metadata": {
    "execution": {
     "iopub.execute_input": "2022-07-09T13:42:07.053093Z",
     "iopub.status.busy": "2022-07-09T13:42:07.052438Z",
     "iopub.status.idle": "2022-07-09T13:42:07.061554Z",
     "shell.execute_reply": "2022-07-09T13:42:07.060218Z"
    },
    "papermill": {
     "duration": 0.046463,
     "end_time": "2022-07-09T13:42:07.063966",
     "exception": false,
     "start_time": "2022-07-09T13:42:07.017503",
     "status": "completed"
    },
    "tags": []
   },
   "outputs": [
    {
     "data": {
      "text/plain": [
       "2"
      ]
     },
     "execution_count": 43,
     "metadata": {},
     "output_type": "execute_result"
    }
   ],
   "source": [
    "data['rbc'].fillna(method = 'ffill', inplace = True)\n",
    "data['rbc'].isnull().sum()"
   ]
  },
  {
   "cell_type": "code",
   "execution_count": 44,
   "id": "18f572c1",
   "metadata": {
    "execution": {
     "iopub.execute_input": "2022-07-09T13:42:07.134883Z",
     "iopub.status.busy": "2022-07-09T13:42:07.134020Z",
     "iopub.status.idle": "2022-07-09T13:42:07.145058Z",
     "shell.execute_reply": "2022-07-09T13:42:07.143766Z"
    },
    "papermill": {
     "duration": 0.049512,
     "end_time": "2022-07-09T13:42:07.147493",
     "exception": false,
     "start_time": "2022-07-09T13:42:07.097981",
     "status": "completed"
    },
    "tags": []
   },
   "outputs": [
    {
     "data": {
      "text/plain": [
       "normal      291\n",
       "abnormal    109\n",
       "Name: rbc, dtype: int64"
      ]
     },
     "execution_count": 44,
     "metadata": {},
     "output_type": "execute_result"
    }
   ],
   "source": [
    "data['rbc'].fillna('normal', inplace = True)\n",
    "data['rbc'].value_counts()"
   ]
  },
  {
   "cell_type": "markdown",
   "id": "3b6b7ccf",
   "metadata": {
    "papermill": {
     "duration": 0.033224,
     "end_time": "2022-07-09T13:42:07.214874",
     "exception": false,
     "start_time": "2022-07-09T13:42:07.181650",
     "status": "completed"
    },
    "tags": []
   },
   "source": [
    "**pc column**"
   ]
  },
  {
   "cell_type": "code",
   "execution_count": 45,
   "id": "297b8824",
   "metadata": {
    "execution": {
     "iopub.execute_input": "2022-07-09T13:42:07.284733Z",
     "iopub.status.busy": "2022-07-09T13:42:07.283103Z",
     "iopub.status.idle": "2022-07-09T13:42:07.294070Z",
     "shell.execute_reply": "2022-07-09T13:42:07.292791Z"
    },
    "papermill": {
     "duration": 0.048817,
     "end_time": "2022-07-09T13:42:07.296724",
     "exception": false,
     "start_time": "2022-07-09T13:42:07.247907",
     "status": "completed"
    },
    "tags": []
   },
   "outputs": [
    {
     "data": {
      "text/plain": [
       "65"
      ]
     },
     "execution_count": 45,
     "metadata": {},
     "output_type": "execute_result"
    }
   ],
   "source": [
    "data['pc'].isnull().sum()"
   ]
  },
  {
   "cell_type": "code",
   "execution_count": 46,
   "id": "91df190c",
   "metadata": {
    "execution": {
     "iopub.execute_input": "2022-07-09T13:42:07.366586Z",
     "iopub.status.busy": "2022-07-09T13:42:07.366069Z",
     "iopub.status.idle": "2022-07-09T13:42:07.375566Z",
     "shell.execute_reply": "2022-07-09T13:42:07.374406Z"
    },
    "papermill": {
     "duration": 0.047146,
     "end_time": "2022-07-09T13:42:07.377866",
     "exception": false,
     "start_time": "2022-07-09T13:42:07.330720",
     "status": "completed"
    },
    "tags": []
   },
   "outputs": [
    {
     "data": {
      "text/plain": [
       "normal      259\n",
       "abnormal     76\n",
       "Name: pc, dtype: int64"
      ]
     },
     "execution_count": 46,
     "metadata": {},
     "output_type": "execute_result"
    }
   ],
   "source": [
    "data['pc'].value_counts()"
   ]
  },
  {
   "cell_type": "code",
   "execution_count": 47,
   "id": "b74cb7a5",
   "metadata": {
    "execution": {
     "iopub.execute_input": "2022-07-09T13:42:07.447904Z",
     "iopub.status.busy": "2022-07-09T13:42:07.447086Z",
     "iopub.status.idle": "2022-07-09T13:42:07.805032Z",
     "shell.execute_reply": "2022-07-09T13:42:07.803814Z"
    },
    "papermill": {
     "duration": 0.396349,
     "end_time": "2022-07-09T13:42:07.807751",
     "exception": false,
     "start_time": "2022-07-09T13:42:07.411402",
     "status": "completed"
    },
    "tags": []
   },
   "outputs": [
    {
     "data": {
      "text/plain": [
       "<AxesSubplot:>"
      ]
     },
     "execution_count": 47,
     "metadata": {},
     "output_type": "execute_result"
    },
    {
     "data": {
      "image/png": "[encoded data removed]",
      "text/plain": [
       "<Figure size 576x360 with 1 Axes>"
      ]
     },
     "metadata": {
      "needs_background": "light"
     },
     "output_type": "display_data"
    }
   ],
   "source": [
    "data['pc'].value_counts().plot.bar()"
   ]
  },
  {
   "cell_type": "code",
   "execution_count": 48,
   "id": "0eb61ae1",
   "metadata": {
    "execution": {
     "iopub.execute_input": "2022-07-09T13:42:07.879064Z",
     "iopub.status.busy": "2022-07-09T13:42:07.877692Z",
     "iopub.status.idle": "2022-07-09T13:42:07.888395Z",
     "shell.execute_reply": "2022-07-09T13:42:07.887379Z"
    },
    "papermill": {
     "duration": 0.049019,
     "end_time": "2022-07-09T13:42:07.890482",
     "exception": false,
     "start_time": "2022-07-09T13:42:07.841463",
     "status": "completed"
    },
    "tags": []
   },
   "outputs": [
    {
     "data": {
      "text/plain": [
       "normal      309\n",
       "abnormal     91\n",
       "Name: pc, dtype: int64"
      ]
     },
     "execution_count": 48,
     "metadata": {},
     "output_type": "execute_result"
    }
   ],
   "source": [
    "data['pc'].fillna(method = 'ffill', inplace = True)\n",
    "data['pc'].value_counts()"
   ]
  },
  {
   "cell_type": "markdown",
   "id": "8d47262f",
   "metadata": {
    "papermill": {
     "duration": 0.03439,
     "end_time": "2022-07-09T13:42:07.959851",
     "exception": false,
     "start_time": "2022-07-09T13:42:07.925461",
     "status": "completed"
    },
    "tags": []
   },
   "source": [
    "**pcc column**"
   ]
  },
  {
   "cell_type": "code",
   "execution_count": 49,
   "id": "66c242b9",
   "metadata": {
    "execution": {
     "iopub.execute_input": "2022-07-09T13:42:08.031665Z",
     "iopub.status.busy": "2022-07-09T13:42:08.030858Z",
     "iopub.status.idle": "2022-07-09T13:42:08.039797Z",
     "shell.execute_reply": "2022-07-09T13:42:08.037837Z"
    },
    "papermill": {
     "duration": 0.048088,
     "end_time": "2022-07-09T13:42:08.043134",
     "exception": false,
     "start_time": "2022-07-09T13:42:07.995046",
     "status": "completed"
    },
    "tags": []
   },
   "outputs": [
    {
     "data": {
      "text/plain": [
       "4"
      ]
     },
     "execution_count": 49,
     "metadata": {},
     "output_type": "execute_result"
    }
   ],
   "source": [
    "data['pcc'].isnull().sum()"
   ]
  },
  {
   "cell_type": "code",
   "execution_count": 50,
   "id": "6c804e1a",
   "metadata": {
    "execution": {
     "iopub.execute_input": "2022-07-09T13:42:08.149691Z",
     "iopub.status.busy": "2022-07-09T13:42:08.148883Z",
     "iopub.status.idle": "2022-07-09T13:42:08.158085Z",
     "shell.execute_reply": "2022-07-09T13:42:08.157329Z"
    },
    "papermill": {
     "duration": 0.081392,
     "end_time": "2022-07-09T13:42:08.160249",
     "exception": false,
     "start_time": "2022-07-09T13:42:08.078857",
     "status": "completed"
    },
    "tags": []
   },
   "outputs": [
    {
     "data": {
      "text/plain": [
       "notpresent    354\n",
       "present        42\n",
       "Name: pcc, dtype: int64"
      ]
     },
     "execution_count": 50,
     "metadata": {},
     "output_type": "execute_result"
    }
   ],
   "source": [
    "data['pcc'].value_counts()"
   ]
  },
  {
   "cell_type": "code",
   "execution_count": 51,
   "id": "0efd4573",
   "metadata": {
    "execution": {
     "iopub.execute_input": "2022-07-09T13:42:08.230337Z",
     "iopub.status.busy": "2022-07-09T13:42:08.229881Z",
     "iopub.status.idle": "2022-07-09T13:42:08.398418Z",
     "shell.execute_reply": "2022-07-09T13:42:08.397448Z"
    },
    "papermill": {
     "duration": 0.206119,
     "end_time": "2022-07-09T13:42:08.400793",
     "exception": false,
     "start_time": "2022-07-09T13:42:08.194674",
     "status": "completed"
    },
    "tags": []
   },
   "outputs": [
    {
     "data": {
      "text/plain": [
       "<AxesSubplot:>"
      ]
     },
     "execution_count": 51,
     "metadata": {},
     "output_type": "execute_result"
    },
    {
     "data": {
      "image/png": "[encoded data removed]",
      "text/plain": [
       "<Figure size 576x360 with 1 Axes>"
      ]
     },
     "metadata": {
      "needs_background": "light"
     },
     "output_type": "display_data"
    }
   ],
   "source": [
    "data['pcc'].value_counts().plot.bar()"
   ]
  },
  {
   "cell_type": "code",
   "execution_count": 52,
   "id": "ebb79d3c",
   "metadata": {
    "execution": {
     "iopub.execute_input": "2022-07-09T13:42:08.470992Z",
     "iopub.status.busy": "2022-07-09T13:42:08.469530Z",
     "iopub.status.idle": "2022-07-09T13:42:08.479565Z",
     "shell.execute_reply": "2022-07-09T13:42:08.478535Z"
    },
    "papermill": {
     "duration": 0.047227,
     "end_time": "2022-07-09T13:42:08.481764",
     "exception": false,
     "start_time": "2022-07-09T13:42:08.434537",
     "status": "completed"
    },
    "tags": []
   },
   "outputs": [
    {
     "data": {
      "text/plain": [
       "notpresent    358\n",
       "present        42\n",
       "Name: pcc, dtype: int64"
      ]
     },
     "execution_count": 52,
     "metadata": {},
     "output_type": "execute_result"
    }
   ],
   "source": [
    "data['pcc'].fillna(method = 'ffill', inplace = True)\n",
    "data['pcc'].value_counts()"
   ]
  },
  {
   "cell_type": "markdown",
   "id": "de4bb370",
   "metadata": {
    "papermill": {
     "duration": 0.033415,
     "end_time": "2022-07-09T13:42:08.548992",
     "exception": false,
     "start_time": "2022-07-09T13:42:08.515577",
     "status": "completed"
    },
    "tags": []
   },
   "source": [
    "**ba column**"
   ]
  },
  {
   "cell_type": "code",
   "execution_count": 53,
   "id": "1e7f8810",
   "metadata": {
    "execution": {
     "iopub.execute_input": "2022-07-09T13:42:08.619890Z",
     "iopub.status.busy": "2022-07-09T13:42:08.618688Z",
     "iopub.status.idle": "2022-07-09T13:42:08.625722Z",
     "shell.execute_reply": "2022-07-09T13:42:08.624935Z"
    },
    "papermill": {
     "duration": 0.044357,
     "end_time": "2022-07-09T13:42:08.627539",
     "exception": false,
     "start_time": "2022-07-09T13:42:08.583182",
     "status": "completed"
    },
    "tags": []
   },
   "outputs": [
    {
     "data": {
      "text/plain": [
       "4"
      ]
     },
     "execution_count": 53,
     "metadata": {},
     "output_type": "execute_result"
    }
   ],
   "source": [
    "data['ba'].isnull().sum()"
   ]
  },
  {
   "cell_type": "code",
   "execution_count": 54,
   "id": "18bc160b",
   "metadata": {
    "execution": {
     "iopub.execute_input": "2022-07-09T13:42:08.697245Z",
     "iopub.status.busy": "2022-07-09T13:42:08.696407Z",
     "iopub.status.idle": "2022-07-09T13:42:08.704262Z",
     "shell.execute_reply": "2022-07-09T13:42:08.703504Z"
    },
    "papermill": {
     "duration": 0.044907,
     "end_time": "2022-07-09T13:42:08.706167",
     "exception": false,
     "start_time": "2022-07-09T13:42:08.661260",
     "status": "completed"
    },
    "tags": []
   },
   "outputs": [
    {
     "data": {
      "text/plain": [
       "notpresent    374\n",
       "present        22\n",
       "Name: ba, dtype: int64"
      ]
     },
     "execution_count": 54,
     "metadata": {},
     "output_type": "execute_result"
    }
   ],
   "source": [
    "data['ba'].value_counts()"
   ]
  },
  {
   "cell_type": "code",
   "execution_count": 55,
   "id": "533a9a42",
   "metadata": {
    "execution": {
     "iopub.execute_input": "2022-07-09T13:42:08.776380Z",
     "iopub.status.busy": "2022-07-09T13:42:08.775388Z",
     "iopub.status.idle": "2022-07-09T13:42:08.952757Z",
     "shell.execute_reply": "2022-07-09T13:42:08.951362Z"
    },
    "papermill": {
     "duration": 0.215114,
     "end_time": "2022-07-09T13:42:08.955111",
     "exception": false,
     "start_time": "2022-07-09T13:42:08.739997",
     "status": "completed"
    },
    "tags": []
   },
   "outputs": [
    {
     "data": {
      "text/plain": [
       "<AxesSubplot:>"
      ]
     },
     "execution_count": 55,
     "metadata": {},
     "output_type": "execute_result"
    },
    {
     "data": {
      "image/png": "[encoded data removed]",
      "text/plain": [
       "<Figure size 576x360 with 1 Axes>"
      ]
     },
     "metadata": {
      "needs_background": "light"
     },
     "output_type": "display_data"
    }
   ],
   "source": [
    "data['ba'].value_counts().plot.bar()"
   ]
  },
  {
   "cell_type": "code",
   "execution_count": 56,
   "id": "09fd6a1a",
   "metadata": {
    "execution": {
     "iopub.execute_input": "2022-07-09T13:42:09.028058Z",
     "iopub.status.busy": "2022-07-09T13:42:09.027164Z",
     "iopub.status.idle": "2022-07-09T13:42:09.037492Z",
     "shell.execute_reply": "2022-07-09T13:42:09.036603Z"
    },
    "papermill": {
     "duration": 0.049398,
     "end_time": "2022-07-09T13:42:09.039571",
     "exception": false,
     "start_time": "2022-07-09T13:42:08.990173",
     "status": "completed"
    },
    "tags": []
   },
   "outputs": [
    {
     "data": {
      "text/plain": [
       "notpresent    378\n",
       "present        22\n",
       "Name: ba, dtype: int64"
      ]
     },
     "execution_count": 56,
     "metadata": {},
     "output_type": "execute_result"
    }
   ],
   "source": [
    "data['ba'].fillna(method = 'ffill', inplace = True)\n",
    "data['ba'].value_counts()"
   ]
  },
  {
   "cell_type": "markdown",
   "id": "d5a74d2b",
   "metadata": {
    "papermill": {
     "duration": 0.034369,
     "end_time": "2022-07-09T13:42:09.214812",
     "exception": false,
     "start_time": "2022-07-09T13:42:09.180443",
     "status": "completed"
    },
    "tags": []
   },
   "source": [
    "**htn column**"
   ]
  },
  {
   "cell_type": "code",
   "execution_count": 57,
   "id": "3ff5fc5d",
   "metadata": {
    "execution": {
     "iopub.execute_input": "2022-07-09T13:42:09.286914Z",
     "iopub.status.busy": "2022-07-09T13:42:09.286462Z",
     "iopub.status.idle": "2022-07-09T13:42:09.293432Z",
     "shell.execute_reply": "2022-07-09T13:42:09.292572Z"
    },
    "papermill": {
     "duration": 0.045716,
     "end_time": "2022-07-09T13:42:09.295403",
     "exception": false,
     "start_time": "2022-07-09T13:42:09.249687",
     "status": "completed"
    },
    "tags": []
   },
   "outputs": [
    {
     "data": {
      "text/plain": [
       "2"
      ]
     },
     "execution_count": 57,
     "metadata": {},
     "output_type": "execute_result"
    }
   ],
   "source": [
    "data['htn'].isnull().sum()"
   ]
  },
  {
   "cell_type": "code",
   "execution_count": 58,
   "id": "3d3c1d83",
   "metadata": {
    "execution": {
     "iopub.execute_input": "2022-07-09T13:42:09.367712Z",
     "iopub.status.busy": "2022-07-09T13:42:09.366907Z",
     "iopub.status.idle": "2022-07-09T13:42:09.374698Z",
     "shell.execute_reply": "2022-07-09T13:42:09.373843Z"
    },
    "papermill": {
     "duration": 0.04614,
     "end_time": "2022-07-09T13:42:09.376723",
     "exception": false,
     "start_time": "2022-07-09T13:42:09.330583",
     "status": "completed"
    },
    "tags": []
   },
   "outputs": [
    {
     "data": {
      "text/plain": [
       "no     251\n",
       "yes    147\n",
       "Name: htn, dtype: int64"
      ]
     },
     "execution_count": 58,
     "metadata": {},
     "output_type": "execute_result"
    }
   ],
   "source": [
    "data['htn'].value_counts()"
   ]
  },
  {
   "cell_type": "code",
   "execution_count": 59,
   "id": "1b9efc45",
   "metadata": {
    "execution": {
     "iopub.execute_input": "2022-07-09T13:42:09.449403Z",
     "iopub.status.busy": "2022-07-09T13:42:09.448598Z",
     "iopub.status.idle": "2022-07-09T13:42:09.457929Z",
     "shell.execute_reply": "2022-07-09T13:42:09.456797Z"
    },
    "papermill": {
     "duration": 0.048086,
     "end_time": "2022-07-09T13:42:09.460146",
     "exception": false,
     "start_time": "2022-07-09T13:42:09.412060",
     "status": "completed"
    },
    "tags": []
   },
   "outputs": [
    {
     "data": {
      "text/plain": [
       "no     253\n",
       "yes    147\n",
       "Name: htn, dtype: int64"
      ]
     },
     "execution_count": 59,
     "metadata": {},
     "output_type": "execute_result"
    }
   ],
   "source": [
    "data['htn'].fillna(method = 'ffill', inplace = True)\n",
    "data['htn'].value_counts()"
   ]
  },
  {
   "cell_type": "markdown",
   "id": "f0ba5ba4",
   "metadata": {
    "papermill": {
     "duration": 0.034377,
     "end_time": "2022-07-09T13:42:09.530364",
     "exception": false,
     "start_time": "2022-07-09T13:42:09.495987",
     "status": "completed"
    },
    "tags": []
   },
   "source": [
    "**dm column**"
   ]
  },
  {
   "cell_type": "code",
   "execution_count": 60,
   "id": "1667ed01",
   "metadata": {
    "execution": {
     "iopub.execute_input": "2022-07-09T13:42:09.602275Z",
     "iopub.status.busy": "2022-07-09T13:42:09.601519Z",
     "iopub.status.idle": "2022-07-09T13:42:09.608061Z",
     "shell.execute_reply": "2022-07-09T13:42:09.607330Z"
    },
    "papermill": {
     "duration": 0.044762,
     "end_time": "2022-07-09T13:42:09.609964",
     "exception": false,
     "start_time": "2022-07-09T13:42:09.565202",
     "status": "completed"
    },
    "tags": []
   },
   "outputs": [
    {
     "data": {
      "text/plain": [
       "8"
      ]
     },
     "execution_count": 60,
     "metadata": {},
     "output_type": "execute_result"
    }
   ],
   "source": [
    "data['dm'].isnull().sum()"
   ]
  },
  {
   "cell_type": "code",
   "execution_count": 61,
   "id": "25cfccec",
   "metadata": {
    "execution": {
     "iopub.execute_input": "2022-07-09T13:42:09.683985Z",
     "iopub.status.busy": "2022-07-09T13:42:09.682955Z",
     "iopub.status.idle": "2022-07-09T13:42:09.690989Z",
     "shell.execute_reply": "2022-07-09T13:42:09.690050Z"
    },
    "papermill": {
     "duration": 0.046999,
     "end_time": "2022-07-09T13:42:09.693209",
     "exception": false,
     "start_time": "2022-07-09T13:42:09.646210",
     "status": "completed"
    },
    "tags": []
   },
   "outputs": [
    {
     "data": {
      "text/plain": [
       "no     258\n",
       "yes    134\n",
       "Name: dm, dtype: int64"
      ]
     },
     "execution_count": 61,
     "metadata": {},
     "output_type": "execute_result"
    }
   ],
   "source": [
    "data['dm'].value_counts()"
   ]
  },
  {
   "cell_type": "code",
   "execution_count": 62,
   "id": "fa42b1be",
   "metadata": {
    "execution": {
     "iopub.execute_input": "2022-07-09T13:42:09.765625Z",
     "iopub.status.busy": "2022-07-09T13:42:09.764887Z",
     "iopub.status.idle": "2022-07-09T13:42:09.773678Z",
     "shell.execute_reply": "2022-07-09T13:42:09.772605Z"
    },
    "papermill": {
     "duration": 0.047499,
     "end_time": "2022-07-09T13:42:09.775774",
     "exception": false,
     "start_time": "2022-07-09T13:42:09.728275",
     "status": "completed"
    },
    "tags": []
   },
   "outputs": [
    {
     "data": {
      "text/plain": [
       "no     263\n",
       "yes    137\n",
       "Name: dm, dtype: int64"
      ]
     },
     "execution_count": 62,
     "metadata": {},
     "output_type": "execute_result"
    }
   ],
   "source": [
    "data['dm'].fillna(method = 'ffill', inplace = True)\n",
    "data['dm'].value_counts()"
   ]
  },
  {
   "cell_type": "markdown",
   "id": "7343e659",
   "metadata": {
    "papermill": {
     "duration": 0.035745,
     "end_time": "2022-07-09T13:42:09.847218",
     "exception": false,
     "start_time": "2022-07-09T13:42:09.811473",
     "status": "completed"
    },
    "tags": []
   },
   "source": [
    "**cad column**"
   ]
  },
  {
   "cell_type": "code",
   "execution_count": 63,
   "id": "65945459",
   "metadata": {
    "execution": {
     "iopub.execute_input": "2022-07-09T13:42:09.921176Z",
     "iopub.status.busy": "2022-07-09T13:42:09.920468Z",
     "iopub.status.idle": "2022-07-09T13:42:09.927333Z",
     "shell.execute_reply": "2022-07-09T13:42:09.926493Z"
    },
    "papermill": {
     "duration": 0.046033,
     "end_time": "2022-07-09T13:42:09.929234",
     "exception": false,
     "start_time": "2022-07-09T13:42:09.883201",
     "status": "completed"
    },
    "tags": []
   },
   "outputs": [
    {
     "data": {
      "text/plain": [
       "4"
      ]
     },
     "execution_count": 63,
     "metadata": {},
     "output_type": "execute_result"
    }
   ],
   "source": [
    "data['cad'].isnull().sum()"
   ]
  },
  {
   "cell_type": "code",
   "execution_count": 64,
   "id": "54aa835a",
   "metadata": {
    "execution": {
     "iopub.execute_input": "2022-07-09T13:42:10.003531Z",
     "iopub.status.busy": "2022-07-09T13:42:10.002728Z",
     "iopub.status.idle": "2022-07-09T13:42:10.010351Z",
     "shell.execute_reply": "2022-07-09T13:42:10.009510Z"
    },
    "papermill": {
     "duration": 0.047063,
     "end_time": "2022-07-09T13:42:10.012399",
     "exception": false,
     "start_time": "2022-07-09T13:42:09.965336",
     "status": "completed"
    },
    "tags": []
   },
   "outputs": [
    {
     "data": {
      "text/plain": [
       "no     362\n",
       "yes     34\n",
       "Name: cad, dtype: int64"
      ]
     },
     "execution_count": 64,
     "metadata": {},
     "output_type": "execute_result"
    }
   ],
   "source": [
    "data['cad'].value_counts()"
   ]
  },
  {
   "cell_type": "code",
   "execution_count": 65,
   "id": "1d1634cd",
   "metadata": {
    "execution": {
     "iopub.execute_input": "2022-07-09T13:42:10.087758Z",
     "iopub.status.busy": "2022-07-09T13:42:10.087064Z",
     "iopub.status.idle": "2022-07-09T13:42:10.096708Z",
     "shell.execute_reply": "2022-07-09T13:42:10.095532Z"
    },
    "papermill": {
     "duration": 0.049781,
     "end_time": "2022-07-09T13:42:10.099238",
     "exception": false,
     "start_time": "2022-07-09T13:42:10.049457",
     "status": "completed"
    },
    "tags": []
   },
   "outputs": [
    {
     "data": {
      "text/plain": [
       "no     366\n",
       "yes     34\n",
       "Name: cad, dtype: int64"
      ]
     },
     "execution_count": 65,
     "metadata": {},
     "output_type": "execute_result"
    }
   ],
   "source": [
    "data['cad'].fillna(method = 'ffill', inplace = True)\n",
    "data['cad'].value_counts()"
   ]
  },
  {
   "cell_type": "markdown",
   "id": "09aac4ab",
   "metadata": {
    "papermill": {
     "duration": 0.03633,
     "end_time": "2022-07-09T13:42:10.172131",
     "exception": false,
     "start_time": "2022-07-09T13:42:10.135801",
     "status": "completed"
    },
    "tags": []
   },
   "source": [
    "**appet column**"
   ]
  },
  {
   "cell_type": "code",
   "execution_count": 66,
   "id": "0165b609",
   "metadata": {
    "execution": {
     "iopub.execute_input": "2022-07-09T13:42:10.245922Z",
     "iopub.status.busy": "2022-07-09T13:42:10.245508Z",
     "iopub.status.idle": "2022-07-09T13:42:10.253268Z",
     "shell.execute_reply": "2022-07-09T13:42:10.252066Z"
    },
    "papermill": {
     "duration": 0.047495,
     "end_time": "2022-07-09T13:42:10.255587",
     "exception": false,
     "start_time": "2022-07-09T13:42:10.208092",
     "status": "completed"
    },
    "tags": []
   },
   "outputs": [
    {
     "data": {
      "text/plain": [
       "1"
      ]
     },
     "execution_count": 66,
     "metadata": {},
     "output_type": "execute_result"
    }
   ],
   "source": [
    "data['appet'].isnull().sum()"
   ]
  },
  {
   "cell_type": "code",
   "execution_count": 67,
   "id": "886ef192",
   "metadata": {
    "execution": {
     "iopub.execute_input": "2022-07-09T13:42:10.330600Z",
     "iopub.status.busy": "2022-07-09T13:42:10.329336Z",
     "iopub.status.idle": "2022-07-09T13:42:10.338352Z",
     "shell.execute_reply": "2022-07-09T13:42:10.337316Z"
    },
    "papermill": {
     "duration": 0.048925,
     "end_time": "2022-07-09T13:42:10.340521",
     "exception": false,
     "start_time": "2022-07-09T13:42:10.291596",
     "status": "completed"
    },
    "tags": []
   },
   "outputs": [
    {
     "data": {
      "text/plain": [
       "good    317\n",
       "poor     82\n",
       "Name: appet, dtype: int64"
      ]
     },
     "execution_count": 67,
     "metadata": {},
     "output_type": "execute_result"
    }
   ],
   "source": [
    "data['appet'].value_counts()"
   ]
  },
  {
   "cell_type": "code",
   "execution_count": 68,
   "id": "5109d971",
   "metadata": {
    "execution": {
     "iopub.execute_input": "2022-07-09T13:42:10.415349Z",
     "iopub.status.busy": "2022-07-09T13:42:10.414562Z",
     "iopub.status.idle": "2022-07-09T13:42:10.424206Z",
     "shell.execute_reply": "2022-07-09T13:42:10.423414Z"
    },
    "papermill": {
     "duration": 0.049501,
     "end_time": "2022-07-09T13:42:10.426229",
     "exception": false,
     "start_time": "2022-07-09T13:42:10.376728",
     "status": "completed"
    },
    "tags": []
   },
   "outputs": [
    {
     "data": {
      "text/plain": [
       "good    318\n",
       "poor     82\n",
       "Name: appet, dtype: int64"
      ]
     },
     "execution_count": 68,
     "metadata": {},
     "output_type": "execute_result"
    }
   ],
   "source": [
    "data['appet'].fillna(method = 'ffill', inplace = True)\n",
    "data['appet'].value_counts()"
   ]
  },
  {
   "cell_type": "markdown",
   "id": "73183a84",
   "metadata": {
    "papermill": {
     "duration": 0.035622,
     "end_time": "2022-07-09T13:42:10.499262",
     "exception": false,
     "start_time": "2022-07-09T13:42:10.463640",
     "status": "completed"
    },
    "tags": []
   },
   "source": [
    "**pe column**"
   ]
  },
  {
   "cell_type": "code",
   "execution_count": 69,
   "id": "ddb7ec2d",
   "metadata": {
    "execution": {
     "iopub.execute_input": "2022-07-09T13:42:10.576105Z",
     "iopub.status.busy": "2022-07-09T13:42:10.574935Z",
     "iopub.status.idle": "2022-07-09T13:42:10.584142Z",
     "shell.execute_reply": "2022-07-09T13:42:10.583153Z"
    },
    "papermill": {
     "duration": 0.051441,
     "end_time": "2022-07-09T13:42:10.586463",
     "exception": false,
     "start_time": "2022-07-09T13:42:10.535022",
     "status": "completed"
    },
    "tags": []
   },
   "outputs": [
    {
     "data": {
      "text/plain": [
       "1"
      ]
     },
     "execution_count": 69,
     "metadata": {},
     "output_type": "execute_result"
    }
   ],
   "source": [
    "data['pe'].isnull().sum()"
   ]
  },
  {
   "cell_type": "code",
   "execution_count": 70,
   "id": "2260b6cb",
   "metadata": {
    "execution": {
     "iopub.execute_input": "2022-07-09T13:42:10.665977Z",
     "iopub.status.busy": "2022-07-09T13:42:10.665117Z",
     "iopub.status.idle": "2022-07-09T13:42:10.675240Z",
     "shell.execute_reply": "2022-07-09T13:42:10.674034Z"
    },
    "papermill": {
     "duration": 0.05384,
     "end_time": "2022-07-09T13:42:10.677612",
     "exception": false,
     "start_time": "2022-07-09T13:42:10.623772",
     "status": "completed"
    },
    "tags": []
   },
   "outputs": [
    {
     "data": {
      "text/plain": [
       "no     323\n",
       "yes     76\n",
       "Name: pe, dtype: int64"
      ]
     },
     "execution_count": 70,
     "metadata": {},
     "output_type": "execute_result"
    }
   ],
   "source": [
    "data['pe'].value_counts()"
   ]
  },
  {
   "cell_type": "code",
   "execution_count": 71,
   "id": "c8b5f4e8",
   "metadata": {
    "execution": {
     "iopub.execute_input": "2022-07-09T13:42:10.752454Z",
     "iopub.status.busy": "2022-07-09T13:42:10.751637Z",
     "iopub.status.idle": "2022-07-09T13:42:10.761719Z",
     "shell.execute_reply": "2022-07-09T13:42:10.760605Z"
    },
    "papermill": {
     "duration": 0.050122,
     "end_time": "2022-07-09T13:42:10.763964",
     "exception": false,
     "start_time": "2022-07-09T13:42:10.713842",
     "status": "completed"
    },
    "tags": []
   },
   "outputs": [
    {
     "data": {
      "text/plain": [
       "no     324\n",
       "yes     76\n",
       "Name: pe, dtype: int64"
      ]
     },
     "execution_count": 71,
     "metadata": {},
     "output_type": "execute_result"
    }
   ],
   "source": [
    "data['pe'].fillna(method = 'ffill', inplace = True)\n",
    "data['pe'].value_counts()"
   ]
  },
  {
   "cell_type": "markdown",
   "id": "d2d66ab3",
   "metadata": {
    "papermill": {
     "duration": 0.035496,
     "end_time": "2022-07-09T13:42:10.835614",
     "exception": false,
     "start_time": "2022-07-09T13:42:10.800118",
     "status": "completed"
    },
    "tags": []
   },
   "source": [
    "**ane column**"
   ]
  },
  {
   "cell_type": "code",
   "execution_count": 72,
   "id": "2e3d584d",
   "metadata": {
    "execution": {
     "iopub.execute_input": "2022-07-09T13:42:10.912478Z",
     "iopub.status.busy": "2022-07-09T13:42:10.911629Z",
     "iopub.status.idle": "2022-07-09T13:42:10.919745Z",
     "shell.execute_reply": "2022-07-09T13:42:10.918734Z"
    },
    "papermill": {
     "duration": 0.049895,
     "end_time": "2022-07-09T13:42:10.922402",
     "exception": false,
     "start_time": "2022-07-09T13:42:10.872507",
     "status": "completed"
    },
    "tags": []
   },
   "outputs": [
    {
     "data": {
      "text/plain": [
       "1"
      ]
     },
     "execution_count": 72,
     "metadata": {},
     "output_type": "execute_result"
    }
   ],
   "source": [
    "data['ane'].isnull().sum()"
   ]
  },
  {
   "cell_type": "code",
   "execution_count": 73,
   "id": "8340127c",
   "metadata": {
    "execution": {
     "iopub.execute_input": "2022-07-09T13:42:10.999590Z",
     "iopub.status.busy": "2022-07-09T13:42:10.998724Z",
     "iopub.status.idle": "2022-07-09T13:42:11.006506Z",
     "shell.execute_reply": "2022-07-09T13:42:11.005705Z"
    },
    "papermill": {
     "duration": 0.048303,
     "end_time": "2022-07-09T13:42:11.008482",
     "exception": false,
     "start_time": "2022-07-09T13:42:10.960179",
     "status": "completed"
    },
    "tags": []
   },
   "outputs": [
    {
     "data": {
      "text/plain": [
       "no     339\n",
       "yes     60\n",
       "Name: ane, dtype: int64"
      ]
     },
     "execution_count": 73,
     "metadata": {},
     "output_type": "execute_result"
    }
   ],
   "source": [
    "data['ane'].value_counts()"
   ]
  },
  {
   "cell_type": "code",
   "execution_count": 74,
   "id": "1378929f",
   "metadata": {
    "execution": {
     "iopub.execute_input": "2022-07-09T13:42:11.084423Z",
     "iopub.status.busy": "2022-07-09T13:42:11.083690Z",
     "iopub.status.idle": "2022-07-09T13:42:11.089004Z",
     "shell.execute_reply": "2022-07-09T13:42:11.088295Z"
    },
    "papermill": {
     "duration": 0.04606,
     "end_time": "2022-07-09T13:42:11.090917",
     "exception": false,
     "start_time": "2022-07-09T13:42:11.044857",
     "status": "completed"
    },
    "tags": []
   },
   "outputs": [],
   "source": [
    "data['ane'].fillna(method = 'ffill', inplace = True)"
   ]
  },
  {
   "cell_type": "markdown",
   "id": "e0f620c2",
   "metadata": {
    "papermill": {
     "duration": 0.03692,
     "end_time": "2022-07-09T13:42:11.165372",
     "exception": false,
     "start_time": "2022-07-09T13:42:11.128452",
     "status": "completed"
    },
    "tags": []
   },
   "source": [
    "**Now we will look at the remaining numerical columns**"
   ]
  },
  {
   "cell_type": "markdown",
   "id": "287c879e",
   "metadata": {
    "papermill": {
     "duration": 0.036414,
     "end_time": "2022-07-09T13:42:11.238648",
     "exception": false,
     "start_time": "2022-07-09T13:42:11.202234",
     "status": "completed"
    },
    "tags": []
   },
   "source": [
    "**pcv column**"
   ]
  },
  {
   "cell_type": "code",
   "execution_count": 75,
   "id": "9be48269",
   "metadata": {
    "execution": {
     "iopub.execute_input": "2022-07-09T13:42:11.314592Z",
     "iopub.status.busy": "2022-07-09T13:42:11.313767Z",
     "iopub.status.idle": "2022-07-09T13:42:11.320788Z",
     "shell.execute_reply": "2022-07-09T13:42:11.319787Z"
    },
    "papermill": {
     "duration": 0.046523,
     "end_time": "2022-07-09T13:42:11.322736",
     "exception": false,
     "start_time": "2022-07-09T13:42:11.276213",
     "status": "completed"
    },
    "tags": []
   },
   "outputs": [
    {
     "data": {
      "text/plain": [
       "86"
      ]
     },
     "execution_count": 75,
     "metadata": {},
     "output_type": "execute_result"
    }
   ],
   "source": [
    "data['pcv'].isnull().sum()"
   ]
  },
  {
   "cell_type": "code",
   "execution_count": 76,
   "id": "ede59fbf",
   "metadata": {
    "execution": {
     "iopub.execute_input": "2022-07-09T13:42:11.398368Z",
     "iopub.status.busy": "2022-07-09T13:42:11.397538Z",
     "iopub.status.idle": "2022-07-09T13:42:11.408921Z",
     "shell.execute_reply": "2022-07-09T13:42:11.407861Z"
    },
    "papermill": {
     "duration": 0.051939,
     "end_time": "2022-07-09T13:42:11.411179",
     "exception": false,
     "start_time": "2022-07-09T13:42:11.359240",
     "status": "completed"
    },
    "tags": []
   },
   "outputs": [
    {
     "data": {
      "text/plain": [
       "52.0    21\n",
       "41.0    21\n",
       "44.0    19\n",
       "48.0    19\n",
       "40.0    16\n",
       "42.0    13\n",
       "45.0    13\n",
       "32.0    12\n",
       "50.0    12\n",
       "36.0    12\n",
       "33.0    12\n",
       "28.0    12\n",
       "37.0    11\n",
       "34.0    11\n",
       "46.0     9\n",
       "30.0     9\n",
       "29.0     9\n",
       "35.0     9\n",
       "31.0     8\n",
       "24.0     7\n",
       "39.0     7\n",
       "26.0     6\n",
       "38.0     5\n",
       "53.0     4\n",
       "51.0     4\n",
       "49.0     4\n",
       "47.0     4\n",
       "54.0     4\n",
       "25.0     3\n",
       "22.0     3\n",
       "27.0     3\n",
       "19.0     2\n",
       "23.0     2\n",
       "15.0     1\n",
       "21.0     1\n",
       "20.0     1\n",
       "17.0     1\n",
       "9.0      1\n",
       "18.0     1\n",
       "16.0     1\n",
       "14.0     1\n",
       "Name: pcv, dtype: int64"
      ]
     },
     "execution_count": 76,
     "metadata": {},
     "output_type": "execute_result"
    }
   ],
   "source": [
    "data['pcv'].value_counts()"
   ]
  },
  {
   "cell_type": "code",
   "execution_count": 77,
   "id": "751b2d86",
   "metadata": {
    "execution": {
     "iopub.execute_input": "2022-07-09T13:42:11.487683Z",
     "iopub.status.busy": "2022-07-09T13:42:11.486908Z",
     "iopub.status.idle": "2022-07-09T13:42:11.749189Z",
     "shell.execute_reply": "2022-07-09T13:42:11.748024Z"
    },
    "papermill": {
     "duration": 0.303179,
     "end_time": "2022-07-09T13:42:11.751889",
     "exception": false,
     "start_time": "2022-07-09T13:42:11.448710",
     "status": "completed"
    },
    "tags": []
   },
   "outputs": [
    {
     "data": {
      "text/plain": [
       "<matplotlib.legend.Legend at 0x7f8534bad990>"
      ]
     },
     "execution_count": 77,
     "metadata": {},
     "output_type": "execute_result"
    },
    {
     "data": {
      "image/png": "[encoded data removed]",
      "text/plain": [
       "<Figure size 576x360 with 1 Axes>"
      ]
     },
     "metadata": {
      "needs_background": "light"
     },
     "output_type": "display_data"
    }
   ],
   "source": [
    "mean = data_copy.pcv.mean()\n",
    "median = data_copy.pcv.median()\n",
    "data_copy['mean'] = data_copy.pcv.fillna(mean)\n",
    "data_copy['median'] = data_copy.pcv.fillna(median)\n",
    "data_copy['new_pcv'] = data_copy['pcv'].fillna(method=\"ffill\")\n",
    "\n",
    "sns.kdeplot(data_copy['mean'],color='red',label='Mean')\n",
    "sns.kdeplot(data_copy['median'],color='blue',label='Median')\n",
    "sns.kdeplot(data_copy['new_pcv'] ,color='yellow',label='ffill')\n",
    "sns.kdeplot(data_copy['pcv'],color='black',label='Original')\n",
    "plt.legend()"
   ]
  },
  {
   "cell_type": "code",
   "execution_count": 78,
   "id": "ad297bfb",
   "metadata": {
    "execution": {
     "iopub.execute_input": "2022-07-09T13:42:11.829456Z",
     "iopub.status.busy": "2022-07-09T13:42:11.828433Z",
     "iopub.status.idle": "2022-07-09T13:42:11.834550Z",
     "shell.execute_reply": "2022-07-09T13:42:11.833227Z"
    },
    "papermill": {
     "duration": 0.047495,
     "end_time": "2022-07-09T13:42:11.836832",
     "exception": false,
     "start_time": "2022-07-09T13:42:11.789337",
     "status": "completed"
    },
    "tags": []
   },
   "outputs": [],
   "source": [
    "data['pcv'] = data_copy['new_pcv']"
   ]
  },
  {
   "cell_type": "markdown",
   "id": "b787e104",
   "metadata": {
    "papermill": {
     "duration": 0.038453,
     "end_time": "2022-07-09T13:42:11.913119",
     "exception": false,
     "start_time": "2022-07-09T13:42:11.874666",
     "status": "completed"
    },
    "tags": []
   },
   "source": [
    "**wc column**"
   ]
  },
  {
   "cell_type": "code",
   "execution_count": 79,
   "id": "5d700c4d",
   "metadata": {
    "execution": {
     "iopub.execute_input": "2022-07-09T13:42:11.990900Z",
     "iopub.status.busy": "2022-07-09T13:42:11.990024Z",
     "iopub.status.idle": "2022-07-09T13:42:12.216349Z",
     "shell.execute_reply": "2022-07-09T13:42:12.215391Z"
    },
    "papermill": {
     "duration": 0.268123,
     "end_time": "2022-07-09T13:42:12.218847",
     "exception": false,
     "start_time": "2022-07-09T13:42:11.950724",
     "status": "completed"
    },
    "tags": []
   },
   "outputs": [
    {
     "data": {
      "text/plain": [
       "<matplotlib.legend.Legend at 0x7f8534b34850>"
      ]
     },
     "execution_count": 79,
     "metadata": {},
     "output_type": "execute_result"
    },
    {
     "data": {
      "image/png": "[encoded data removed]",
      "text/plain": [
       "<Figure size 576x360 with 1 Axes>"
      ]
     },
     "metadata": {
      "needs_background": "light"
     },
     "output_type": "display_data"
    }
   ],
   "source": [
    "mean = data_copy.wc.mean()\n",
    "median = data_copy.wc.median()\n",
    "data_copy['mean'] = data_copy.wc.fillna(mean)\n",
    "data_copy['median'] = data_copy.wc.fillna(median)\n",
    "data_copy['new_wc'] = data_copy['wc'].fillna(method=\"ffill\")\n",
    "\n",
    "sns.kdeplot(data_copy['mean'],color='red',label='Mean')\n",
    "sns.kdeplot(data_copy['median'],color='blue',label='Median')\n",
    "sns.kdeplot(data_copy['new_wc'] ,color='yellow',label='ffill')\n",
    "sns.kdeplot(data_copy['wc'],color='black',label='Original')\n",
    "plt.legend()"
   ]
  },
  {
   "cell_type": "code",
   "execution_count": 80,
   "id": "10673830",
   "metadata": {
    "execution": {
     "iopub.execute_input": "2022-07-09T13:42:12.297544Z",
     "iopub.status.busy": "2022-07-09T13:42:12.296604Z",
     "iopub.status.idle": "2022-07-09T13:42:12.303018Z",
     "shell.execute_reply": "2022-07-09T13:42:12.302185Z"
    },
    "papermill": {
     "duration": 0.048479,
     "end_time": "2022-07-09T13:42:12.305567",
     "exception": false,
     "start_time": "2022-07-09T13:42:12.257088",
     "status": "completed"
    },
    "tags": []
   },
   "outputs": [],
   "source": [
    "data['wc'] = data_copy['new_wc']"
   ]
  },
  {
   "cell_type": "markdown",
   "id": "8f0fbc0e",
   "metadata": {
    "papermill": {
     "duration": 0.037434,
     "end_time": "2022-07-09T13:42:12.380742",
     "exception": false,
     "start_time": "2022-07-09T13:42:12.343308",
     "status": "completed"
    },
    "tags": []
   },
   "source": [
    "**rc column**"
   ]
  },
  {
   "cell_type": "code",
   "execution_count": 81,
   "id": "b9b5858c",
   "metadata": {
    "execution": {
     "iopub.execute_input": "2022-07-09T13:42:12.457608Z",
     "iopub.status.busy": "2022-07-09T13:42:12.457178Z",
     "iopub.status.idle": "2022-07-09T13:42:12.693067Z",
     "shell.execute_reply": "2022-07-09T13:42:12.691777Z"
    },
    "papermill": {
     "duration": 0.277415,
     "end_time": "2022-07-09T13:42:12.695512",
     "exception": false,
     "start_time": "2022-07-09T13:42:12.418097",
     "status": "completed"
    },
    "tags": []
   },
   "outputs": [
    {
     "data": {
      "text/plain": [
       "<matplotlib.legend.Legend at 0x7f8534a25c10>"
      ]
     },
     "execution_count": 81,
     "metadata": {},
     "output_type": "execute_result"
    },
    {
     "data": {
      "image/png": "[encoded data removed]",
      "text/plain": [
       "<Figure size 576x360 with 1 Axes>"
      ]
     },
     "metadata": {
      "needs_background": "light"
     },
     "output_type": "display_data"
    }
   ],
   "source": [
    "mean = data_copy.rc.mean()\n",
    "median = data_copy.rc.median()\n",
    "data_copy['mean'] = data_copy.rc.fillna(mean)\n",
    "data_copy['median'] = data_copy.rc.fillna(median)\n",
    "data_copy['new_rc'] = data_copy['rc'].fillna(method=\"ffill\")\n",
    "\n",
    "sns.kdeplot(data_copy['mean'],color='red',label='Mean')\n",
    "sns.kdeplot(data_copy['median'],color='blue',label='Median')\n",
    "sns.kdeplot(data_copy['new_rc'] ,color='yellow',label='ffill')\n",
    "sns.kdeplot(data_copy['rc'],color='black',label='Original')\n",
    "plt.legend()"
   ]
  },
  {
   "cell_type": "code",
   "execution_count": 82,
   "id": "328a17c7",
   "metadata": {
    "execution": {
     "iopub.execute_input": "2022-07-09T13:42:12.780276Z",
     "iopub.status.busy": "2022-07-09T13:42:12.779816Z",
     "iopub.status.idle": "2022-07-09T13:42:12.785609Z",
     "shell.execute_reply": "2022-07-09T13:42:12.784394Z"
    },
    "papermill": {
     "duration": 0.051402,
     "end_time": "2022-07-09T13:42:12.787945",
     "exception": false,
     "start_time": "2022-07-09T13:42:12.736543",
     "status": "completed"
    },
    "tags": []
   },
   "outputs": [],
   "source": [
    "data['rc'] = data_copy['new_rc']"
   ]
  },
  {
   "cell_type": "code",
   "execution_count": 83,
   "id": "991ee176",
   "metadata": {
    "execution": {
     "iopub.execute_input": "2022-07-09T13:42:12.868154Z",
     "iopub.status.busy": "2022-07-09T13:42:12.867654Z",
     "iopub.status.idle": "2022-07-09T13:42:12.875024Z",
     "shell.execute_reply": "2022-07-09T13:42:12.873771Z"
    },
    "papermill": {
     "duration": 0.050736,
     "end_time": "2022-07-09T13:42:12.877528",
     "exception": false,
     "start_time": "2022-07-09T13:42:12.826792",
     "status": "completed"
    },
    "tags": []
   },
   "outputs": [],
   "source": [
    "data = data.drop('id', axis = 1)"
   ]
  },
  {
   "cell_type": "markdown",
   "id": "ac06519d",
   "metadata": {
    "papermill": {
     "duration": 0.039457,
     "end_time": "2022-07-09T13:42:12.957003",
     "exception": false,
     "start_time": "2022-07-09T13:42:12.917546",
     "status": "completed"
    },
    "tags": []
   },
   "source": [
    "**Finally we will take a look at our target column**"
   ]
  },
  {
   "cell_type": "code",
   "execution_count": 84,
   "id": "808b6eee",
   "metadata": {
    "execution": {
     "iopub.execute_input": "2022-07-09T13:42:13.037405Z",
     "iopub.status.busy": "2022-07-09T13:42:13.036895Z",
     "iopub.status.idle": "2022-07-09T13:42:13.045467Z",
     "shell.execute_reply": "2022-07-09T13:42:13.044204Z"
    },
    "papermill": {
     "duration": 0.051842,
     "end_time": "2022-07-09T13:42:13.047780",
     "exception": false,
     "start_time": "2022-07-09T13:42:12.995938",
     "status": "completed"
    },
    "tags": []
   },
   "outputs": [
    {
     "data": {
      "text/plain": [
       "2"
      ]
     },
     "execution_count": 84,
     "metadata": {},
     "output_type": "execute_result"
    }
   ],
   "source": [
    "data['classification'].isnull().sum()"
   ]
  },
  {
   "cell_type": "code",
   "execution_count": 85,
   "id": "a9e3c18d",
   "metadata": {
    "execution": {
     "iopub.execute_input": "2022-07-09T13:42:13.204081Z",
     "iopub.status.busy": "2022-07-09T13:42:13.203546Z",
     "iopub.status.idle": "2022-07-09T13:42:13.211508Z",
     "shell.execute_reply": "2022-07-09T13:42:13.210593Z"
    },
    "papermill": {
     "duration": 0.124818,
     "end_time": "2022-07-09T13:42:13.213401",
     "exception": false,
     "start_time": "2022-07-09T13:42:13.088583",
     "status": "completed"
    },
    "tags": []
   },
   "outputs": [
    {
     "data": {
      "text/plain": [
       "ckd       248\n",
       "notckd    150\n",
       "Name: classification, dtype: int64"
      ]
     },
     "execution_count": 85,
     "metadata": {},
     "output_type": "execute_result"
    }
   ],
   "source": [
    "data['classification'].value_counts()"
   ]
  },
  {
   "cell_type": "code",
   "execution_count": 86,
   "id": "e406f312",
   "metadata": {
    "execution": {
     "iopub.execute_input": "2022-07-09T13:42:13.294856Z",
     "iopub.status.busy": "2022-07-09T13:42:13.294378Z",
     "iopub.status.idle": "2022-07-09T13:42:13.303923Z",
     "shell.execute_reply": "2022-07-09T13:42:13.302972Z"
    },
    "papermill": {
     "duration": 0.05322,
     "end_time": "2022-07-09T13:42:13.306119",
     "exception": false,
     "start_time": "2022-07-09T13:42:13.252899",
     "status": "completed"
    },
    "tags": []
   },
   "outputs": [
    {
     "data": {
      "text/plain": [
       "ckd       250\n",
       "notckd    150\n",
       "Name: classification, dtype: int64"
      ]
     },
     "execution_count": 86,
     "metadata": {},
     "output_type": "execute_result"
    }
   ],
   "source": [
    "data['classification'].fillna(method = 'ffill', inplace = True)\n",
    "data['classification'].value_counts()"
   ]
  },
  {
   "cell_type": "markdown",
   "id": "166dea4f",
   "metadata": {
    "papermill": {
     "duration": 0.038684,
     "end_time": "2022-07-09T13:42:13.383715",
     "exception": false,
     "start_time": "2022-07-09T13:42:13.345031",
     "status": "completed"
    },
    "tags": []
   },
   "source": [
    "We can say that there is relatively good balance between the categories of the target column and therefore we will not manipulate this natural balance."
   ]
  },
  {
   "cell_type": "markdown",
   "id": "81dffd81",
   "metadata": {
    "papermill": {
     "duration": 0.038464,
     "end_time": "2022-07-09T13:42:13.460994",
     "exception": false,
     "start_time": "2022-07-09T13:42:13.422530",
     "status": "completed"
    },
    "tags": []
   },
   "source": [
    "**Handling outliers** "
   ]
  },
  {
   "cell_type": "code",
   "execution_count": 87,
   "id": "26cb10b7",
   "metadata": {
    "execution": {
     "iopub.execute_input": "2022-07-09T13:42:13.540999Z",
     "iopub.status.busy": "2022-07-09T13:42:13.540586Z",
     "iopub.status.idle": "2022-07-09T13:42:13.547717Z",
     "shell.execute_reply": "2022-07-09T13:42:13.546808Z"
    },
    "papermill": {
     "duration": 0.049958,
     "end_time": "2022-07-09T13:42:13.549883",
     "exception": false,
     "start_time": "2022-07-09T13:42:13.499925",
     "status": "completed"
    },
    "tags": []
   },
   "outputs": [
    {
     "name": "stdout",
     "output_type": "stream",
     "text": [
      "['age' 'bp' 'sg' 'al' 'su' 'bgr' 'bu' 'sc' 'sod' 'pot' 'hemo' 'pcv' 'wc'\n",
      " 'rc']\n"
     ]
    }
   ],
   "source": [
    "data_numerical = data.select_dtypes(include = [np.number])\n",
    "numerical_cols = data_numerical.columns.values\n",
    "print(numerical_cols)"
   ]
  },
  {
   "cell_type": "code",
   "execution_count": 88,
   "id": "ec89381a",
   "metadata": {
    "execution": {
     "iopub.execute_input": "2022-07-09T13:42:13.630249Z",
     "iopub.status.busy": "2022-07-09T13:42:13.629837Z",
     "iopub.status.idle": "2022-07-09T13:42:15.680799Z",
     "shell.execute_reply": "2022-07-09T13:42:15.679515Z"
    },
    "papermill": {
     "duration": 2.093967,
     "end_time": "2022-07-09T13:42:15.683275",
     "exception": false,
     "start_time": "2022-07-09T13:42:13.589308",
     "status": "completed"
    },
    "tags": []
   },
   "outputs": [
    {
     "data": {
      "image/png": "[encoded data removed]",
      "text/plain": [
       "<Figure size 576x360 with 1 Axes>"
      ]
     },
     "metadata": {
      "needs_background": "light"
     },
     "output_type": "display_data"
    },
    {
     "data": {
      "image/png": "[encoded data removed]",
      "text/plain": [
       "<Figure size 576x360 with 1 Axes>"
      ]
     },
     "metadata": {
      "needs_background": "light"
     },
     "output_type": "display_data"
    },
    {
     "data": {
      "image/png": "[encoded data removed]",
      "text/plain": [
       "<Figure size 576x360 with 1 Axes>"
      ]
     },
     "metadata": {
      "needs_background": "light"
     },
     "output_type": "display_data"
    },
    {
     "data": {
      "image/png": "[encoded data removed]",
      "text/plain": [
       "<Figure size 576x360 with 1 Axes>"
      ]
     },
     "metadata": {
      "needs_background": "light"
     },
     "output_type": "display_data"
    },
    {
     "data": {
      "image/png": "[encoded data removed]",
      "text/plain": [
       "<Figure size 576x360 with 1 Axes>"
      ]
     },
     "metadata": {
      "needs_background": "light"
     },
     "output_type": "display_data"
    },
    {
     "data": {
      "image/png": "[encoded data removed]",
      "text/plain": [
       "<Figure size 576x360 with 1 Axes>"
      ]
     },
     "metadata": {
      "needs_background": "light"
     },
     "output_type": "display_data"
    },
    {
     "data": {
      "image/png": "[encoded data removed]",
      "text/plain": [
       "<Figure size 576x360 with 1 Axes>"
      ]
     },
     "metadata": {
      "needs_background": "light"
     },
     "output_type": "display_data"
    },
    {
     "data": {
      "image/png": "[encoded data removed]",
      "text/plain": [
       "<Figure size 576x360 with 1 Axes>"
      ]
     },
     "metadata": {
      "needs_background": "light"
     },
     "output_type": "display_data"
    },
    {
     "data": {
      "image/png": "[encoded data removed]",
      "text/plain": [
       "<Figure size 576x360 with 1 Axes>"
      ]
     },
     "metadata": {
      "needs_background": "light"
     },
     "output_type": "display_data"
    },
    {
     "data": {
      "image/png": "[encoded data removed]",
      "text/plain": [
       "<Figure size 576x360 with 1 Axes>"
      ]
     },
     "metadata": {
      "needs_background": "light"
     },
     "output_type": "display_data"
    },
    {
     "data": {
      "image/png": "[encoded data removed]",
      "text/plain": [
       "<Figure size 576x360 with 1 Axes>"
      ]
     },
     "metadata": {
      "needs_background": "light"
     },
     "output_type": "display_data"
    },
    {
     "data": {
      "image/png": "[encoded data removed]",
      "text/plain": [
       "<Figure size 576x360 with 1 Axes>"
      ]
     },
     "metadata": {
      "needs_background": "light"
     },
     "output_type": "display_data"
    },
    {
     "data": {
      "image/png": "[encoded data removed]",
      "text/plain": [
       "<Figure size 576x360 with 1 Axes>"
      ]
     },
     "metadata": {
      "needs_background": "light"
     },
     "output_type": "display_data"
    },
    {
     "data": {
      "image/png": "[encoded data removed]",
      "text/plain": [
       "<Figure size 576x360 with 1 Axes>"
      ]
     },
     "metadata": {
      "needs_background": "light"
     },
     "output_type": "display_data"
    }
   ],
   "source": [
    "for i in data_numerical.columns:\n",
    "    sns.boxplot(data_numerical[i])\n",
    "    plt.title(i)\n",
    "    plt.show()"
   ]
  },
  {
   "cell_type": "markdown",
   "id": "138e10ac",
   "metadata": {
    "papermill": {
     "duration": 0.041831,
     "end_time": "2022-07-09T13:42:15.767451",
     "exception": false,
     "start_time": "2022-07-09T13:42:15.725620",
     "status": "completed"
    },
    "tags": []
   },
   "source": [
    "Splitting data"
   ]
  },
  {
   "cell_type": "code",
   "execution_count": 89,
   "id": "401b0bf4",
   "metadata": {
    "execution": {
     "iopub.execute_input": "2022-07-09T13:42:15.853704Z",
     "iopub.status.busy": "2022-07-09T13:42:15.852472Z",
     "iopub.status.idle": "2022-07-09T13:42:15.859542Z",
     "shell.execute_reply": "2022-07-09T13:42:15.858627Z"
    },
    "papermill": {
     "duration": 0.052447,
     "end_time": "2022-07-09T13:42:15.861711",
     "exception": false,
     "start_time": "2022-07-09T13:42:15.809264",
     "status": "completed"
    },
    "tags": []
   },
   "outputs": [],
   "source": [
    "target = data['classification']\n",
    "features = data.drop(['classification'], axis = 1)"
   ]
  },
  {
   "cell_type": "markdown",
   "id": "53b195c3",
   "metadata": {
    "papermill": {
     "duration": 0.042474,
     "end_time": "2022-07-09T13:42:15.946526",
     "exception": false,
     "start_time": "2022-07-09T13:42:15.904052",
     "status": "completed"
    },
    "tags": []
   },
   "source": [
    "Data transformation"
   ]
  },
  {
   "cell_type": "code",
   "execution_count": 90,
   "id": "8eb8babb",
   "metadata": {
    "execution": {
     "iopub.execute_input": "2022-07-09T13:42:16.033494Z",
     "iopub.status.busy": "2022-07-09T13:42:16.032622Z",
     "iopub.status.idle": "2022-07-09T13:42:16.197562Z",
     "shell.execute_reply": "2022-07-09T13:42:16.196371Z"
    },
    "papermill": {
     "duration": 0.211726,
     "end_time": "2022-07-09T13:42:16.200581",
     "exception": false,
     "start_time": "2022-07-09T13:42:15.988855",
     "status": "completed"
    },
    "tags": []
   },
   "outputs": [],
   "source": [
    "from sklearn.preprocessing import LabelEncoder\n",
    "le = LabelEncoder()\n",
    "y = le.fit_transform(target)"
   ]
  },
  {
   "cell_type": "code",
   "execution_count": 91,
   "id": "500d16a9",
   "metadata": {
    "execution": {
     "iopub.execute_input": "2022-07-09T13:42:16.287098Z",
     "iopub.status.busy": "2022-07-09T13:42:16.286627Z",
     "iopub.status.idle": "2022-07-09T13:42:16.301104Z",
     "shell.execute_reply": "2022-07-09T13:42:16.299922Z"
    },
    "papermill": {
     "duration": 0.060552,
     "end_time": "2022-07-09T13:42:16.303520",
     "exception": false,
     "start_time": "2022-07-09T13:42:16.242968",
     "status": "completed"
    },
    "tags": []
   },
   "outputs": [],
   "source": [
    "le = LabelEncoder()\n",
    "\n",
    "for i in features.select_dtypes(exclude = [np.number]).columns:\n",
    "    features[i] = le.fit_transform(data[i])"
   ]
  },
  {
   "cell_type": "markdown",
   "id": "74b177e4",
   "metadata": {
    "papermill": {
     "duration": 0.041705,
     "end_time": "2022-07-09T13:42:16.387357",
     "exception": false,
     "start_time": "2022-07-09T13:42:16.345652",
     "status": "completed"
    },
    "tags": []
   },
   "source": [
    "Scaling data"
   ]
  },
  {
   "cell_type": "code",
   "execution_count": 92,
   "id": "6fed84dc",
   "metadata": {
    "execution": {
     "iopub.execute_input": "2022-07-09T13:42:16.473081Z",
     "iopub.status.busy": "2022-07-09T13:42:16.472247Z",
     "iopub.status.idle": "2022-07-09T13:42:16.484093Z",
     "shell.execute_reply": "2022-07-09T13:42:16.482909Z"
    },
    "papermill": {
     "duration": 0.057379,
     "end_time": "2022-07-09T13:42:16.486628",
     "exception": false,
     "start_time": "2022-07-09T13:42:16.429249",
     "status": "completed"
    },
    "tags": []
   },
   "outputs": [
    {
     "data": {
      "text/plain": [
       "MinMaxScaler()"
      ]
     },
     "execution_count": 92,
     "metadata": {},
     "output_type": "execute_result"
    }
   ],
   "source": [
    "from sklearn.preprocessing import MinMaxScaler\n",
    "minmax = MinMaxScaler()\n",
    "minmax.fit(features)"
   ]
  },
  {
   "cell_type": "code",
   "execution_count": 93,
   "id": "39a720c8",
   "metadata": {
    "execution": {
     "iopub.execute_input": "2022-07-09T13:42:16.574447Z",
     "iopub.status.busy": "2022-07-09T13:42:16.573649Z",
     "iopub.status.idle": "2022-07-09T13:42:16.583118Z",
     "shell.execute_reply": "2022-07-09T13:42:16.581276Z"
    },
    "papermill": {
     "duration": 0.055869,
     "end_time": "2022-07-09T13:42:16.585496",
     "exception": false,
     "start_time": "2022-07-09T13:42:16.529627",
     "status": "completed"
    },
    "tags": []
   },
   "outputs": [
    {
     "name": "stdout",
     "output_type": "stream",
     "text": [
      "[[0.52272727 0.23076923 0.75       ... 0.         0.         0.        ]\n",
      " [0.05681818 0.         0.75       ... 0.         0.         0.        ]\n",
      " [0.68181818 0.23076923 0.25       ... 1.         0.         1.        ]\n",
      " ...\n",
      " [0.11363636 0.23076923 0.75       ... 0.         0.         0.        ]\n",
      " [0.17045455 0.07692308 1.         ... 0.         0.         0.        ]\n",
      " [0.63636364 0.23076923 1.         ... 0.         0.         0.        ]]\n"
     ]
    }
   ],
   "source": [
    "new_features = minmax.transform(features)\n",
    "print(new_features)"
   ]
  },
  {
   "cell_type": "code",
   "execution_count": 94,
   "id": "6a7ebc02",
   "metadata": {
    "execution": {
     "iopub.execute_input": "2022-07-09T13:42:16.673376Z",
     "iopub.status.busy": "2022-07-09T13:42:16.672551Z",
     "iopub.status.idle": "2022-07-09T13:42:16.678119Z",
     "shell.execute_reply": "2022-07-09T13:42:16.676733Z"
    },
    "papermill": {
     "duration": 0.053161,
     "end_time": "2022-07-09T13:42:16.680503",
     "exception": false,
     "start_time": "2022-07-09T13:42:16.627342",
     "status": "completed"
    },
    "tags": []
   },
   "outputs": [
    {
     "name": "stdout",
     "output_type": "stream",
     "text": [
      "(400, 24)\n"
     ]
    }
   ],
   "source": [
    "print(new_features.shape)"
   ]
  },
  {
   "cell_type": "code",
   "execution_count": 95,
   "id": "48c1ba69",
   "metadata": {
    "execution": {
     "iopub.execute_input": "2022-07-09T13:42:16.767552Z",
     "iopub.status.busy": "2022-07-09T13:42:16.767102Z",
     "iopub.status.idle": "2022-07-09T13:42:16.832942Z",
     "shell.execute_reply": "2022-07-09T13:42:16.831379Z"
    },
    "papermill": {
     "duration": 0.112613,
     "end_time": "2022-07-09T13:42:16.835415",
     "exception": false,
     "start_time": "2022-07-09T13:42:16.722802",
     "status": "completed"
    },
    "tags": []
   },
   "outputs": [
    {
     "name": "stdout",
     "output_type": "stream",
     "text": [
      "(360, 24) (40, 24) (360,) (40,)\n"
     ]
    }
   ],
   "source": [
    "from sklearn.model_selection import train_test_split\n",
    "x_train, x_test, y_train, y_test = train_test_split(new_features, y, test_size = 0.1, random_state = 0)\n",
    "print(x_train.shape, x_test.shape, y_train.shape, y_test.shape)"
   ]
  },
  {
   "cell_type": "markdown",
   "id": "9c446a99",
   "metadata": {
    "papermill": {
     "duration": 0.042107,
     "end_time": "2022-07-09T13:42:16.919738",
     "exception": false,
     "start_time": "2022-07-09T13:42:16.877631",
     "status": "completed"
    },
    "tags": []
   },
   "source": [
    "## Model creation"
   ]
  },
  {
   "cell_type": "code",
   "execution_count": 96,
   "id": "87131f62",
   "metadata": {
    "execution": {
     "iopub.execute_input": "2022-07-09T13:42:17.008423Z",
     "iopub.status.busy": "2022-07-09T13:42:17.007627Z",
     "iopub.status.idle": "2022-07-09T13:42:17.226939Z",
     "shell.execute_reply": "2022-07-09T13:42:17.225664Z"
    },
    "papermill": {
     "duration": 0.266379,
     "end_time": "2022-07-09T13:42:17.229949",
     "exception": false,
     "start_time": "2022-07-09T13:42:16.963570",
     "status": "completed"
    },
    "tags": []
   },
   "outputs": [],
   "source": [
    "from sklearn.ensemble import RandomForestClassifier\n",
    "from sklearn.tree import DecisionTreeClassifier\n",
    "from sklearn.ensemble import GradientBoostingClassifier\n",
    "from sklearn.ensemble import AdaBoostClassifier\n",
    "from sklearn.linear_model import LogisticRegression\n",
    "\n",
    "from sklearn.metrics import confusion_matrix, classification_report, roc_auc_score, precision_recall_curve, roc_curve, auc, average_precision_score"
   ]
  },
  {
   "cell_type": "code",
   "execution_count": 97,
   "id": "f5d77546",
   "metadata": {
    "execution": {
     "iopub.execute_input": "2022-07-09T13:42:17.316356Z",
     "iopub.status.busy": "2022-07-09T13:42:17.315916Z",
     "iopub.status.idle": "2022-07-09T13:42:17.782302Z",
     "shell.execute_reply": "2022-07-09T13:42:17.780160Z"
    },
    "papermill": {
     "duration": 0.513071,
     "end_time": "2022-07-09T13:42:17.785016",
     "exception": false,
     "start_time": "2022-07-09T13:42:17.271945",
     "status": "completed"
    },
    "tags": []
   },
   "outputs": [
    {
     "name": "stdout",
     "output_type": "stream",
     "text": [
      "techniques......\n",
      "######################### RF #########################\n",
      "Training Accuracy = 1.000\n",
      "Test Accuracy = 1.000\n",
      "ROC_AUC_score : 1.000000\n",
      "\n",
      " --------------- CLASSIFICATION REPORT ---------------\n",
      "              precision    recall  f1-score   support\n",
      "\n",
      "           0       1.00      1.00      1.00        28\n",
      "           1       1.00      1.00      1.00        12\n",
      "\n",
      "    accuracy                           1.00        40\n",
      "   macro avg       1.00      1.00      1.00        40\n",
      "weighted avg       1.00      1.00      1.00        40\n",
      " \n",
      "\n",
      "\n",
      "\n",
      "######################### DT #########################\n",
      "Training Accuracy = 1.000\n",
      "Test Accuracy = 1.000\n",
      "ROC_AUC_score : 1.000000\n",
      "\n",
      " --------------- CLASSIFICATION REPORT ---------------\n",
      "              precision    recall  f1-score   support\n",
      "\n",
      "           0       1.00      1.00      1.00        28\n",
      "           1       1.00      1.00      1.00        12\n",
      "\n",
      "    accuracy                           1.00        40\n",
      "   macro avg       1.00      1.00      1.00        40\n",
      "weighted avg       1.00      1.00      1.00        40\n",
      " \n",
      "\n",
      "\n",
      "\n",
      "######################### GB #########################\n",
      "Training Accuracy = 1.000\n",
      "Test Accuracy = 1.000\n",
      "ROC_AUC_score : 1.000000\n",
      "\n",
      " --------------- CLASSIFICATION REPORT ---------------\n",
      "              precision    recall  f1-score   support\n",
      "\n",
      "           0       1.00      1.00      1.00        28\n",
      "           1       1.00      1.00      1.00        12\n",
      "\n",
      "    accuracy                           1.00        40\n",
      "   macro avg       1.00      1.00      1.00        40\n",
      "weighted avg       1.00      1.00      1.00        40\n",
      " \n",
      "\n",
      "\n",
      "\n",
      "######################### AB #########################\n",
      "Training Accuracy = 1.000\n",
      "Test Accuracy = 1.000\n",
      "ROC_AUC_score : 1.000000\n",
      "\n",
      " --------------- CLASSIFICATION REPORT ---------------\n",
      "              precision    recall  f1-score   support\n",
      "\n",
      "           0       1.00      1.00      1.00        28\n",
      "           1       1.00      1.00      1.00        12\n",
      "\n",
      "    accuracy                           1.00        40\n",
      "   macro avg       1.00      1.00      1.00        40\n",
      "weighted avg       1.00      1.00      1.00        40\n",
      " \n",
      "\n",
      "\n",
      "\n",
      "######################### LR #########################\n",
      "Training Accuracy = 0.989\n",
      "Test Accuracy = 1.000\n",
      "ROC_AUC_score : 1.000000\n",
      "\n",
      " --------------- CLASSIFICATION REPORT ---------------\n",
      "              precision    recall  f1-score   support\n",
      "\n",
      "           0       1.00      1.00      1.00        28\n",
      "           1       1.00      1.00      1.00        12\n",
      "\n",
      "    accuracy                           1.00        40\n",
      "   macro avg       1.00      1.00      1.00        40\n",
      "weighted avg       1.00      1.00      1.00        40\n",
      " \n",
      "\n",
      "\n",
      "\n"
     ]
    }
   ],
   "source": [
    "def beautiful(techniques):\n",
    "    print(techniques)\n",
    "    model_name = [\"RF\", \"DT\", 'GB', 'AB', 'LR']\n",
    "    RFC = RandomForestClassifier(random_state = 0)\n",
    "    DTC = DecisionTreeClassifier(random_state = 0)\n",
    "    GBM = GradientBoostingClassifier(random_state = 0)\n",
    "    ABC = AdaBoostClassifier(random_state = 0)\n",
    "    LRC = LogisticRegression(random_state = 0)\n",
    "\n",
    "    for clf,i in zip([RFC, DTC, GBM, ABC, LRC], model_name):\n",
    "        model = clf.fit(x_train, y_train)\n",
    "        y_pred = model.predict(x_test)\n",
    "        y_pred_prob = model.predict_proba(x_test)[:,1]\n",
    "        print(\"#\"*25,i,\"#\"*25)\n",
    "        print(\"Training Accuracy = {:.3f}\".format(model.score(x_train, y_train)))\n",
    "        print(\"Test Accuracy = {:.3f}\".format(model.score(x_test, y_test)))\n",
    "        print(\"ROC_AUC_score : %.6f\" % (roc_auc_score(y_test, y_pred)))\n",
    "        #Confusion Matrix\n",
    "        #print(confusion_matrix =confusion_matrix(y_test, y_pred))\n",
    "        \n",
    "        print(\"\\n\",\"-\"*15,\"CLASSIFICATION REPORT\",\"-\"*15)\n",
    "        print(classification_report(y_test, y_pred), \"\\n\\n\\n\")\n",
    "        \n",
    "beautiful(\"techniques......\")"
   ]
  },
  {
   "cell_type": "code",
   "execution_count": null,
   "id": "a9c26143",
   "metadata": {
    "papermill": {
     "duration": 0.042889,
     "end_time": "2022-07-09T13:42:17.870798",
     "exception": false,
     "start_time": "2022-07-09T13:42:17.827909",
     "status": "completed"
    },
    "tags": []
   },
   "outputs": [],
   "source": []
  }
 ],
 "metadata": {
  "kernelspec": {
   "display_name": "Python 3",
   "language": "python",
   "name": "python3"
  },
  "language_info": {
   "codemirror_mode": {
    "name": "ipython",
    "version": 3
   },
   "file_extension": ".py",
   "mimetype": "text/x-python",
   "name": "python",
   "nbconvert_exporter": "python",
   "pygments_lexer": "ipython3",
   "version": "3.7.12"
  },
  "papermill": {
   "default_parameters": {},
   "duration": 30.10224,
   "end_time": "2022-07-09T13:42:19.139034",
   "environment_variables": {},
   "exception": null,
   "input_path": "__notebook__.ipynb",
   "output_path": "__notebook__.ipynb",
   "parameters": {},
   "start_time": "2022-07-09T13:41:49.036794",
   "version": "2.3.4"
  }
 },
 "nbformat": 4,
 "nbformat_minor": 5
}
