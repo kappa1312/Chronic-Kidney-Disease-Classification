{
 "cells": [
  {
   "cell_type": "code",
   "execution_count": 1,
   "id": "368c42e7",
   "metadata": {
    "_cell_guid": "b1076dfc-b9ad-4769-8c92-a6c4dae69d19",
    "_uuid": "8f2839f25d086af736a60e9eeb907d3b93b6e0e5",
    "execution": {
     "iopub.execute_input": "2022-07-12T10:55:57.517241Z",
     "iopub.status.busy": "2022-07-12T10:55:57.516674Z",
     "iopub.status.idle": "2022-07-12T10:55:58.709797Z",
     "shell.execute_reply": "2022-07-12T10:55:58.708581Z"
    },
    "papermill": {
     "duration": 1.210749,
     "end_time": "2022-07-12T10:55:58.712820",
     "exception": false,
     "start_time": "2022-07-12T10:55:57.502071",
     "status": "completed"
    },
    "tags": []
   },
   "outputs": [],
   "source": [
    "import numpy as np\n",
    "import pandas as pd\n",
    "import matplotlib.pyplot as plt\n",
    "import seaborn as sns\n",
    "%matplotlib inline\n",
    "import warnings\n",
    "import matplotlib\n",
    "warnings.filterwarnings('ignore')"
   ]
  },
  {
   "cell_type": "code",
   "execution_count": 2,
   "id": "0ceec1c1",
   "metadata": {
    "execution": {
     "iopub.execute_input": "2022-07-12T10:55:58.738544Z",
     "iopub.status.busy": "2022-07-12T10:55:58.738135Z",
     "iopub.status.idle": "2022-07-12T10:55:58.761145Z",
     "shell.execute_reply": "2022-07-12T10:55:58.760256Z"
    },
    "papermill": {
     "duration": 0.039058,
     "end_time": "2022-07-12T10:55:58.763572",
     "exception": false,
     "start_time": "2022-07-12T10:55:58.724514",
     "status": "completed"
    },
    "tags": []
   },
   "outputs": [],
   "source": [
    "missing_values=['\\t43' , '\\t?' , '\\tno' , '\\tyes' , ' yes', np.nan , 'NaN', 'ckd\\t']\n",
    "data = pd.read_csv('../input/ckdisease/kidney_disease.csv', na_values = missing_values)"
   ]
  },
  {
   "cell_type": "code",
   "execution_count": 3,
   "id": "611a7d7e",
   "metadata": {
    "execution": {
     "iopub.execute_input": "2022-07-12T10:55:58.788462Z",
     "iopub.status.busy": "2022-07-12T10:55:58.787762Z",
     "iopub.status.idle": "2022-07-12T10:55:58.795549Z",
     "shell.execute_reply": "2022-07-12T10:55:58.794817Z"
    },
    "papermill": {
     "duration": 0.022847,
     "end_time": "2022-07-12T10:55:58.797803",
     "exception": false,
     "start_time": "2022-07-12T10:55:58.774956",
     "status": "completed"
    },
    "tags": []
   },
   "outputs": [
    {
     "data": {
      "text/plain": [
       "(400, 26)"
      ]
     },
     "execution_count": 3,
     "metadata": {},
     "output_type": "execute_result"
    }
   ],
   "source": [
    "data.shape"
   ]
  },
  {
   "cell_type": "code",
   "execution_count": 4,
   "id": "9490b12c",
   "metadata": {
    "execution": {
     "iopub.execute_input": "2022-07-12T10:55:58.825354Z",
     "iopub.status.busy": "2022-07-12T10:55:58.824394Z",
     "iopub.status.idle": "2022-07-12T10:55:58.831140Z",
     "shell.execute_reply": "2022-07-12T10:55:58.830047Z"
    },
    "papermill": {
     "duration": 0.023667,
     "end_time": "2022-07-12T10:55:58.833796",
     "exception": false,
     "start_time": "2022-07-12T10:55:58.810129",
     "status": "completed"
    },
    "tags": []
   },
   "outputs": [
    {
     "data": {
      "text/plain": [
       "Index(['id', 'age', 'bp', 'sg', 'al', 'su', 'rbc', 'pc', 'pcc', 'ba', 'bgr',\n",
       "       'bu', 'sc', 'sod', 'pot', 'hemo', 'pcv', 'wc', 'rc', 'htn', 'dm', 'cad',\n",
       "       'appet', 'pe', 'ane', 'classification'],\n",
       "      dtype='object')"
      ]
     },
     "execution_count": 4,
     "metadata": {},
     "output_type": "execute_result"
    }
   ],
   "source": [
    "data.columns"
   ]
  },
  {
   "cell_type": "code",
   "execution_count": 5,
   "id": "6713af2f",
   "metadata": {
    "execution": {
     "iopub.execute_input": "2022-07-12T10:55:58.859868Z",
     "iopub.status.busy": "2022-07-12T10:55:58.859450Z",
     "iopub.status.idle": "2022-07-12T10:55:58.889618Z",
     "shell.execute_reply": "2022-07-12T10:55:58.888772Z"
    },
    "papermill": {
     "duration": 0.046616,
     "end_time": "2022-07-12T10:55:58.892074",
     "exception": false,
     "start_time": "2022-07-12T10:55:58.845458",
     "status": "completed"
    },
    "tags": []
   },
   "outputs": [
    {
     "name": "stdout",
     "output_type": "stream",
     "text": [
      "<class 'pandas.core.frame.DataFrame'>\n",
      "RangeIndex: 400 entries, 0 to 399\n",
      "Data columns (total 26 columns):\n",
      " #   Column          Non-Null Count  Dtype  \n",
      "---  ------          --------------  -----  \n",
      " 0   id              399 non-null    float64\n",
      " 1   age             385 non-null    float64\n",
      " 2   bp              388 non-null    float64\n",
      " 3   sg              353 non-null    float64\n",
      " 4   al              354 non-null    float64\n",
      " 5   su              351 non-null    float64\n",
      " 6   rbc             248 non-null    object \n",
      " 7   pc              335 non-null    object \n",
      " 8   pcc             396 non-null    object \n",
      " 9   ba              396 non-null    object \n",
      " 10  bgr             356 non-null    float64\n",
      " 11  bu              381 non-null    float64\n",
      " 12  sc              383 non-null    float64\n",
      " 13  sod             313 non-null    float64\n",
      " 14  pot             312 non-null    float64\n",
      " 15  hemo            348 non-null    float64\n",
      " 16  pcv             314 non-null    float64\n",
      " 17  wc              294 non-null    float64\n",
      " 18  rc              269 non-null    float64\n",
      " 19  htn             398 non-null    object \n",
      " 20  dm              392 non-null    object \n",
      " 21  cad             396 non-null    object \n",
      " 22  appet           399 non-null    object \n",
      " 23  pe              399 non-null    object \n",
      " 24  ane             399 non-null    object \n",
      " 25  classification  398 non-null    object \n",
      "dtypes: float64(15), object(11)\n",
      "memory usage: 81.4+ KB\n"
     ]
    }
   ],
   "source": [
    "data.info()"
   ]
  },
  {
   "cell_type": "code",
   "execution_count": 6,
   "id": "de5ed1eb",
   "metadata": {
    "execution": {
     "iopub.execute_input": "2022-07-12T10:55:58.918465Z",
     "iopub.status.busy": "2022-07-12T10:55:58.917729Z",
     "iopub.status.idle": "2022-07-12T10:56:00.157997Z",
     "shell.execute_reply": "2022-07-12T10:56:00.156631Z"
    },
    "papermill": {
     "duration": 1.258771,
     "end_time": "2022-07-12T10:56:00.162943",
     "exception": false,
     "start_time": "2022-07-12T10:55:58.904172",
     "status": "completed"
    },
    "tags": []
   },
   "outputs": [
    {
     "data": {
      "image/png": "[encoded data removed]",
      "text/plain": [
       "<Figure size 1000x1000 with 2 Axes>"
      ]
     },
     "metadata": {
      "needs_background": "light"
     },
     "output_type": "display_data"
    }
   ],
   "source": [
    "plt.figure(figsize = (10,10), dpi=100)\n",
    "data.corr()\n",
    "dataplot = sns.heatmap(data.corr(), cmap=\"YlGnBu\", annot=True)\n",
    "plt.show()"
   ]
  },
  {
   "cell_type": "markdown",
   "id": "3c30a7a8",
   "metadata": {
    "papermill": {
     "duration": 0.014571,
     "end_time": "2022-07-12T10:56:00.192014",
     "exception": false,
     "start_time": "2022-07-12T10:56:00.177443",
     "status": "completed"
    },
    "tags": []
   },
   "source": [
    "Firstly we will check for duplicate data and remove it"
   ]
  },
  {
   "cell_type": "code",
   "execution_count": 7,
   "id": "0ac08bff",
   "metadata": {
    "execution": {
     "iopub.execute_input": "2022-07-12T10:56:00.225006Z",
     "iopub.status.busy": "2022-07-12T10:56:00.222877Z",
     "iopub.status.idle": "2022-07-12T10:56:00.237041Z",
     "shell.execute_reply": "2022-07-12T10:56:00.236198Z"
    },
    "papermill": {
     "duration": 0.0323,
     "end_time": "2022-07-12T10:56:00.239253",
     "exception": false,
     "start_time": "2022-07-12T10:56:00.206953",
     "status": "completed"
    },
    "tags": []
   },
   "outputs": [
    {
     "data": {
      "text/plain": [
       "0"
      ]
     },
     "execution_count": 7,
     "metadata": {},
     "output_type": "execute_result"
    }
   ],
   "source": [
    "data.duplicated().sum()"
   ]
  },
  {
   "cell_type": "markdown",
   "id": "e8c637fc",
   "metadata": {
    "papermill": {
     "duration": 0.014056,
     "end_time": "2022-07-12T10:56:00.267882",
     "exception": false,
     "start_time": "2022-07-12T10:56:00.253826",
     "status": "completed"
    },
    "tags": []
   },
   "source": [
    "Now we will look for missing values"
   ]
  },
  {
   "cell_type": "code",
   "execution_count": 8,
   "id": "6c488471",
   "metadata": {
    "execution": {
     "iopub.execute_input": "2022-07-12T10:56:00.298903Z",
     "iopub.status.busy": "2022-07-12T10:56:00.298240Z",
     "iopub.status.idle": "2022-07-12T10:56:00.307244Z",
     "shell.execute_reply": "2022-07-12T10:56:00.306379Z"
    },
    "papermill": {
     "duration": 0.026858,
     "end_time": "2022-07-12T10:56:00.309275",
     "exception": false,
     "start_time": "2022-07-12T10:56:00.282417",
     "status": "completed"
    },
    "tags": []
   },
   "outputs": [
    {
     "data": {
      "text/plain": [
       "id                  1\n",
       "age                15\n",
       "bp                 12\n",
       "sg                 47\n",
       "al                 46\n",
       "su                 49\n",
       "rbc               152\n",
       "pc                 65\n",
       "pcc                 4\n",
       "ba                  4\n",
       "bgr                44\n",
       "bu                 19\n",
       "sc                 17\n",
       "sod                87\n",
       "pot                88\n",
       "hemo               52\n",
       "pcv                86\n",
       "wc                106\n",
       "rc                131\n",
       "htn                 2\n",
       "dm                  8\n",
       "cad                 4\n",
       "appet               1\n",
       "pe                  1\n",
       "ane                 1\n",
       "classification      2\n",
       "dtype: int64"
      ]
     },
     "execution_count": 8,
     "metadata": {},
     "output_type": "execute_result"
    }
   ],
   "source": [
    "data.isnull().sum()"
   ]
  },
  {
   "cell_type": "code",
   "execution_count": 9,
   "id": "f0e397b0",
   "metadata": {
    "execution": {
     "iopub.execute_input": "2022-07-12T10:56:00.339792Z",
     "iopub.status.busy": "2022-07-12T10:56:00.339364Z",
     "iopub.status.idle": "2022-07-12T10:56:00.352625Z",
     "shell.execute_reply": "2022-07-12T10:56:00.351778Z"
    },
    "papermill": {
     "duration": 0.031466,
     "end_time": "2022-07-12T10:56:00.355071",
     "exception": false,
     "start_time": "2022-07-12T10:56:00.323605",
     "status": "completed"
    },
    "tags": []
   },
   "outputs": [
    {
     "name": "stdout",
     "output_type": "stream",
     "text": [
      "id - 0% \tmissing data\n",
      "age - 4% \tmissing data\n",
      "bp - 3% \tmissing data\n",
      "sg - 12% \tmissing data\n",
      "al - 12% \tmissing data\n",
      "su - 12% \tmissing data\n",
      "rbc - 38% \tmissing data\n",
      "pc - 16% \tmissing data\n",
      "pcc - 1% \tmissing data\n",
      "ba - 1% \tmissing data\n",
      "bgr - 11% \tmissing data\n",
      "bu - 5% \tmissing data\n",
      "sc - 4% \tmissing data\n",
      "sod - 22% \tmissing data\n",
      "pot - 22% \tmissing data\n",
      "hemo - 13% \tmissing data\n",
      "pcv - 22% \tmissing data\n",
      "wc - 26% \tmissing data\n",
      "rc - 33% \tmissing data\n",
      "htn - 0% \tmissing data\n",
      "dm - 2% \tmissing data\n",
      "cad - 1% \tmissing data\n",
      "appet - 0% \tmissing data\n",
      "pe - 0% \tmissing data\n",
      "ane - 0% \tmissing data\n",
      "classification - 0% \tmissing data\n"
     ]
    }
   ],
   "source": [
    "for col in data.columns:\n",
    "    missing = np.mean(data[col].isnull())\n",
    "    print('{} - {}% \\tmissing data'.format(col, round(missing*100)))"
   ]
  },
  {
   "cell_type": "code",
   "execution_count": 10,
   "id": "4724c2af",
   "metadata": {
    "execution": {
     "iopub.execute_input": "2022-07-12T10:56:00.385930Z",
     "iopub.status.busy": "2022-07-12T10:56:00.385520Z",
     "iopub.status.idle": "2022-07-12T10:56:00.391074Z",
     "shell.execute_reply": "2022-07-12T10:56:00.389838Z"
    },
    "papermill": {
     "duration": 0.023753,
     "end_time": "2022-07-12T10:56:00.393277",
     "exception": false,
     "start_time": "2022-07-12T10:56:00.369524",
     "status": "completed"
    },
    "tags": []
   },
   "outputs": [],
   "source": [
    "data_copy = data.copy()"
   ]
  },
  {
   "cell_type": "markdown",
   "id": "92e6d760",
   "metadata": {
    "papermill": {
     "duration": 0.014139,
     "end_time": "2022-07-12T10:56:00.421969",
     "exception": false,
     "start_time": "2022-07-12T10:56:00.407830",
     "status": "completed"
    },
    "tags": []
   },
   "source": [
    "**Firstly we will solve for numerical columns**"
   ]
  },
  {
   "cell_type": "code",
   "execution_count": 11,
   "id": "8817d90c",
   "metadata": {
    "execution": {
     "iopub.execute_input": "2022-07-12T10:56:00.452802Z",
     "iopub.status.busy": "2022-07-12T10:56:00.452367Z",
     "iopub.status.idle": "2022-07-12T10:56:00.461552Z",
     "shell.execute_reply": "2022-07-12T10:56:00.460700Z"
    },
    "papermill": {
     "duration": 0.027707,
     "end_time": "2022-07-12T10:56:00.463940",
     "exception": false,
     "start_time": "2022-07-12T10:56:00.436233",
     "status": "completed"
    },
    "tags": []
   },
   "outputs": [],
   "source": [
    "data_numerical = data.drop('id', axis=1).select_dtypes(include = [np.number])\n",
    "numerical_cols = data_numerical.columns.values"
   ]
  },
  {
   "cell_type": "code",
   "execution_count": 12,
   "id": "10366523",
   "metadata": {
    "execution": {
     "iopub.execute_input": "2022-07-12T10:56:00.496321Z",
     "iopub.status.busy": "2022-07-12T10:56:00.495543Z",
     "iopub.status.idle": "2022-07-12T10:56:00.500596Z",
     "shell.execute_reply": "2022-07-12T10:56:00.499776Z"
    },
    "papermill": {
     "duration": 0.023947,
     "end_time": "2022-07-12T10:56:00.502960",
     "exception": false,
     "start_time": "2022-07-12T10:56:00.479013",
     "status": "completed"
    },
    "tags": []
   },
   "outputs": [],
   "source": [
    "numerical_mean = ['bu', 'sc']\n",
    "numerical_ffill = ['age', 'bp', 'sg', 'al', 'su', 'bgr', 'sod',\n",
    "                   'pot', 'hemo', 'pcv', 'wc', 'rc']"
   ]
  },
  {
   "cell_type": "code",
   "execution_count": 13,
   "id": "9d85fbb5",
   "metadata": {
    "execution": {
     "iopub.execute_input": "2022-07-12T10:56:00.534236Z",
     "iopub.status.busy": "2022-07-12T10:56:00.533613Z",
     "iopub.status.idle": "2022-07-12T10:56:00.539682Z",
     "shell.execute_reply": "2022-07-12T10:56:00.538782Z"
    },
    "papermill": {
     "duration": 0.024486,
     "end_time": "2022-07-12T10:56:00.542113",
     "exception": false,
     "start_time": "2022-07-12T10:56:00.517627",
     "status": "completed"
    },
    "tags": []
   },
   "outputs": [],
   "source": [
    "data_categorical = data.select_dtypes(exclude = [np.number])\n",
    "categorical_cols = data_categorical.columns.values"
   ]
  },
  {
   "cell_type": "code",
   "execution_count": 14,
   "id": "240b9e87",
   "metadata": {
    "execution": {
     "iopub.execute_input": "2022-07-12T10:56:00.574177Z",
     "iopub.status.busy": "2022-07-12T10:56:00.573324Z",
     "iopub.status.idle": "2022-07-12T10:56:00.592515Z",
     "shell.execute_reply": "2022-07-12T10:56:00.591746Z"
    },
    "papermill": {
     "duration": 0.037479,
     "end_time": "2022-07-12T10:56:00.594760",
     "exception": false,
     "start_time": "2022-07-12T10:56:00.557281",
     "status": "completed"
    },
    "tags": []
   },
   "outputs": [
    {
     "data": {
      "text/plain": [
       "id                 1\n",
       "age                0\n",
       "bp                 0\n",
       "sg                 0\n",
       "al                 0\n",
       "su                 0\n",
       "rbc                2\n",
       "pc                 0\n",
       "pcc                0\n",
       "ba                 0\n",
       "bgr                0\n",
       "bu                19\n",
       "sc                17\n",
       "sod                3\n",
       "pot                3\n",
       "hemo               0\n",
       "pcv                0\n",
       "wc                 0\n",
       "rc                 0\n",
       "htn                0\n",
       "dm                 0\n",
       "cad                0\n",
       "appet              0\n",
       "pe                 0\n",
       "ane                0\n",
       "classification     0\n",
       "dtype: int64"
      ]
     },
     "execution_count": 14,
     "metadata": {},
     "output_type": "execute_result"
    }
   ],
   "source": [
    "data[numerical_ffill] = data[numerical_ffill].fillna(method = 'ffill')\n",
    "data[categorical_cols] = data[categorical_cols].fillna(method = 'ffill')\n",
    "data.isnull().sum()"
   ]
  },
  {
   "cell_type": "code",
   "execution_count": 15,
   "id": "dc8567ff",
   "metadata": {
    "execution": {
     "iopub.execute_input": "2022-07-12T10:56:00.626264Z",
     "iopub.status.busy": "2022-07-12T10:56:00.625670Z",
     "iopub.status.idle": "2022-07-12T10:56:00.631107Z",
     "shell.execute_reply": "2022-07-12T10:56:00.630075Z"
    },
    "papermill": {
     "duration": 0.024309,
     "end_time": "2022-07-12T10:56:00.633614",
     "exception": false,
     "start_time": "2022-07-12T10:56:00.609305",
     "status": "completed"
    },
    "tags": []
   },
   "outputs": [],
   "source": [
    "data['rbc'].fillna('normal', inplace = True)"
   ]
  },
  {
   "cell_type": "code",
   "execution_count": 16,
   "id": "7f4cbb1f",
   "metadata": {
    "execution": {
     "iopub.execute_input": "2022-07-12T10:56:00.665283Z",
     "iopub.status.busy": "2022-07-12T10:56:00.664632Z",
     "iopub.status.idle": "2022-07-12T10:56:01.043413Z",
     "shell.execute_reply": "2022-07-12T10:56:01.042113Z"
    },
    "papermill": {
     "duration": 0.397948,
     "end_time": "2022-07-12T10:56:01.046209",
     "exception": false,
     "start_time": "2022-07-12T10:56:00.648261",
     "status": "completed"
    },
    "tags": []
   },
   "outputs": [],
   "source": [
    "from sklearn.compose import ColumnTransformer\n",
    "from sklearn.pipeline import Pipeline\n",
    "from sklearn.impute import SimpleImputer\n",
    "from sklearn.preprocessing import LabelEncoder, OneHotEncoder"
   ]
  },
  {
   "cell_type": "code",
   "execution_count": 17,
   "id": "a3d80ae7",
   "metadata": {
    "execution": {
     "iopub.execute_input": "2022-07-12T10:56:01.078358Z",
     "iopub.status.busy": "2022-07-12T10:56:01.077722Z",
     "iopub.status.idle": "2022-07-12T10:56:01.083252Z",
     "shell.execute_reply": "2022-07-12T10:56:01.082216Z"
    },
    "papermill": {
     "duration": 0.024747,
     "end_time": "2022-07-12T10:56:01.085760",
     "exception": false,
     "start_time": "2022-07-12T10:56:01.061013",
     "status": "completed"
    },
    "tags": []
   },
   "outputs": [],
   "source": [
    "data.drop('id', axis=1, inplace = True)"
   ]
  },
  {
   "cell_type": "code",
   "execution_count": 18,
   "id": "28274cb4",
   "metadata": {
    "execution": {
     "iopub.execute_input": "2022-07-12T10:56:01.118381Z",
     "iopub.status.busy": "2022-07-12T10:56:01.117783Z",
     "iopub.status.idle": "2022-07-12T10:56:01.123369Z",
     "shell.execute_reply": "2022-07-12T10:56:01.122536Z"
    },
    "papermill": {
     "duration": 0.024566,
     "end_time": "2022-07-12T10:56:01.125631",
     "exception": false,
     "start_time": "2022-07-12T10:56:01.101065",
     "status": "completed"
    },
    "tags": []
   },
   "outputs": [],
   "source": [
    "target = data['classification']\n",
    "features = data.drop(['classification'], axis = 1)"
   ]
  },
  {
   "cell_type": "code",
   "execution_count": 19,
   "id": "6b181659",
   "metadata": {
    "execution": {
     "iopub.execute_input": "2022-07-12T10:56:01.157614Z",
     "iopub.status.busy": "2022-07-12T10:56:01.157156Z",
     "iopub.status.idle": "2022-07-12T10:56:01.181253Z",
     "shell.execute_reply": "2022-07-12T10:56:01.180122Z"
    },
    "papermill": {
     "duration": 0.043084,
     "end_time": "2022-07-12T10:56:01.183895",
     "exception": false,
     "start_time": "2022-07-12T10:56:01.140811",
     "status": "completed"
    },
    "tags": []
   },
   "outputs": [],
   "source": [
    "#Define pipeline\n",
    "mean_Imputer = Pipeline(steps=[(\"imputer\", SimpleImputer(strategy = \"mean\"))])\n",
    "preprocessor = ColumnTransformer(transformers = [(\"mean imputer 1\", mean_Imputer, numerical_mean),\n",
    "                                 (\"mean imputer 2\", mean_Imputer, numerical_ffill)])\n",
    "preprocessor.fit(data)\n",
    "data_new = preprocessor.transform(data)"
   ]
  },
  {
   "cell_type": "code",
   "execution_count": 20,
   "id": "a525bb18",
   "metadata": {
    "execution": {
     "iopub.execute_input": "2022-07-12T10:56:01.215904Z",
     "iopub.status.busy": "2022-07-12T10:56:01.215482Z",
     "iopub.status.idle": "2022-07-12T10:56:01.222739Z",
     "shell.execute_reply": "2022-07-12T10:56:01.221826Z"
    },
    "papermill": {
     "duration": 0.025991,
     "end_time": "2022-07-12T10:56:01.224998",
     "exception": false,
     "start_time": "2022-07-12T10:56:01.199007",
     "status": "completed"
    },
    "tags": []
   },
   "outputs": [
    {
     "data": {
      "text/plain": [
       "Index(['bu', 'sc', 'age', 'bp', 'sg', 'al', 'su', 'bgr', 'sod', 'pot', 'hemo',\n",
       "       'pcv', 'wc', 'rc'],\n",
       "      dtype='object')"
      ]
     },
     "execution_count": 20,
     "metadata": {},
     "output_type": "execute_result"
    }
   ],
   "source": [
    "data_clean = pd.DataFrame(data_new, columns = numerical_mean+numerical_ffill)\n",
    "data_clean.columns"
   ]
  },
  {
   "cell_type": "code",
   "execution_count": 21,
   "id": "1184749b",
   "metadata": {
    "execution": {
     "iopub.execute_input": "2022-07-12T10:56:01.257580Z",
     "iopub.status.busy": "2022-07-12T10:56:01.256795Z",
     "iopub.status.idle": "2022-07-12T10:56:01.265021Z",
     "shell.execute_reply": "2022-07-12T10:56:01.263669Z"
    },
    "papermill": {
     "duration": 0.027814,
     "end_time": "2022-07-12T10:56:01.267553",
     "exception": false,
     "start_time": "2022-07-12T10:56:01.239739",
     "status": "completed"
    },
    "tags": []
   },
   "outputs": [],
   "source": [
    "df = data_clean.join(data[categorical_cols])"
   ]
  },
  {
   "cell_type": "code",
   "execution_count": 22,
   "id": "9736b699",
   "metadata": {
    "execution": {
     "iopub.execute_input": "2022-07-12T10:56:01.300115Z",
     "iopub.status.busy": "2022-07-12T10:56:01.299390Z",
     "iopub.status.idle": "2022-07-12T10:56:01.308010Z",
     "shell.execute_reply": "2022-07-12T10:56:01.305927Z"
    },
    "papermill": {
     "duration": 0.027934,
     "end_time": "2022-07-12T10:56:01.310684",
     "exception": false,
     "start_time": "2022-07-12T10:56:01.282750",
     "status": "completed"
    },
    "tags": []
   },
   "outputs": [
    {
     "name": "stdout",
     "output_type": "stream",
     "text": [
      "['bu' 'sc' 'age' 'bp' 'sg' 'al' 'su' 'bgr' 'sod' 'pot' 'hemo' 'pcv' 'wc'\n",
      " 'rc']\n"
     ]
    }
   ],
   "source": [
    "df_numerical = df.select_dtypes(include = [np.number])\n",
    "numerical_cols = df_numerical.columns.values\n",
    "print(numerical_cols)"
   ]
  },
  {
   "cell_type": "code",
   "execution_count": 23,
   "id": "4d107070",
   "metadata": {
    "execution": {
     "iopub.execute_input": "2022-07-12T10:56:01.343265Z",
     "iopub.status.busy": "2022-07-12T10:56:01.342843Z",
     "iopub.status.idle": "2022-07-12T10:56:03.270308Z",
     "shell.execute_reply": "2022-07-12T10:56:03.268996Z"
    },
    "papermill": {
     "duration": 1.947046,
     "end_time": "2022-07-12T10:56:03.273121",
     "exception": false,
     "start_time": "2022-07-12T10:56:01.326075",
     "status": "completed"
    },
    "tags": []
   },
   "outputs": [
    {
     "data": {
      "image/png": "[encoded data removed]",
      "text/plain": [
       "<Figure size 432x288 with 1 Axes>"
      ]
     },
     "metadata": {
      "needs_background": "light"
     },
     "output_type": "display_data"
    },
    {
     "data": {
      "image/png": "[encoded data removed]",
      "text/plain": [
       "<Figure size 432x288 with 1 Axes>"
      ]
     },
     "metadata": {
      "needs_background": "light"
     },
     "output_type": "display_data"
    },
    {
     "data": {
      "image/png": "[encoded data removed]",
      "text/plain": [
       "<Figure size 432x288 with 1 Axes>"
      ]
     },
     "metadata": {
      "needs_background": "light"
     },
     "output_type": "display_data"
    },
    {
     "data": {
      "image/png": "[encoded data removed]",
      "text/plain": [
       "<Figure size 432x288 with 1 Axes>"
      ]
     },
     "metadata": {
      "needs_background": "light"
     },
     "output_type": "display_data"
    },
    {
     "data": {
      "image/png": "[encoded data removed]",
      "text/plain": [
       "<Figure size 432x288 with 1 Axes>"
      ]
     },
     "metadata": {
      "needs_background": "light"
     },
     "output_type": "display_data"
    },
    {
     "data": {
      "image/png": "[encoded data removed]",
      "text/plain": [
       "<Figure size 432x288 with 1 Axes>"
      ]
     },
     "metadata": {
      "needs_background": "light"
     },
     "output_type": "display_data"
    },
    {
     "data": {
      "image/png": "[encoded data removed]",
      "text/plain": [
       "<Figure size 432x288 with 1 Axes>"
      ]
     },
     "metadata": {
      "needs_background": "light"
     },
     "output_type": "display_data"
    },
    {
     "data": {
      "image/png": "[encoded data removed]",
      "text/plain": [
       "<Figure size 432x288 with 1 Axes>"
      ]
     },
     "metadata": {
      "needs_background": "light"
     },
     "output_type": "display_data"
    },
    {
     "data": {
      "image/png": "[encoded data removed]",
      "text/plain": [
       "<Figure size 432x288 with 1 Axes>"
      ]
     },
     "metadata": {
      "needs_background": "light"
     },
     "output_type": "display_data"
    },
    {
     "data": {
      "image/png": "[encoded data removed]",
      "text/plain": [
       "<Figure size 432x288 with 1 Axes>"
      ]
     },
     "metadata": {
      "needs_background": "light"
     },
     "output_type": "display_data"
    },
    {
     "data": {
      "image/png": "[encoded data removed]",
      "text/plain": [
       "<Figure size 432x288 with 1 Axes>"
      ]
     },
     "metadata": {
      "needs_background": "light"
     },
     "output_type": "display_data"
    },
    {
     "data": {
      "image/png": "[encoded data removed]",
      "text/plain": [
       "<Figure size 432x288 with 1 Axes>"
      ]
     },
     "metadata": {
      "needs_background": "light"
     },
     "output_type": "display_data"
    },
    {
     "data": {
      "image/png": "[encoded data removed]",
      "text/plain": [
       "<Figure size 432x288 with 1 Axes>"
      ]
     },
     "metadata": {
      "needs_background": "light"
     },
     "output_type": "display_data"
    },
    {
     "data": {
      "image/png": "[encoded data removed]",
      "text/plain": [
       "<Figure size 432x288 with 1 Axes>"
      ]
     },
     "metadata": {
      "needs_background": "light"
     },
     "output_type": "display_data"
    }
   ],
   "source": [
    "for i in data_numerical.columns:\n",
    "    sns.boxplot(df_numerical[i])\n",
    "    plt.title(i)\n",
    "    plt.show()"
   ]
  },
  {
   "cell_type": "code",
   "execution_count": 24,
   "id": "a76be9ff",
   "metadata": {
    "execution": {
     "iopub.execute_input": "2022-07-12T10:56:03.314107Z",
     "iopub.status.busy": "2022-07-12T10:56:03.313075Z",
     "iopub.status.idle": "2022-07-12T10:56:03.320798Z",
     "shell.execute_reply": "2022-07-12T10:56:03.319851Z"
    },
    "papermill": {
     "duration": 0.03165,
     "end_time": "2022-07-12T10:56:03.323068",
     "exception": false,
     "start_time": "2022-07-12T10:56:03.291418",
     "status": "completed"
    },
    "tags": []
   },
   "outputs": [],
   "source": [
    "target = df['classification']\n",
    "features = df.drop(['classification'], axis = 1)"
   ]
  },
  {
   "cell_type": "code",
   "execution_count": 25,
   "id": "2a7624ec",
   "metadata": {
    "execution": {
     "iopub.execute_input": "2022-07-12T10:56:03.360700Z",
     "iopub.status.busy": "2022-07-12T10:56:03.360288Z",
     "iopub.status.idle": "2022-07-12T10:56:03.365385Z",
     "shell.execute_reply": "2022-07-12T10:56:03.364583Z"
    },
    "papermill": {
     "duration": 0.026242,
     "end_time": "2022-07-12T10:56:03.367801",
     "exception": false,
     "start_time": "2022-07-12T10:56:03.341559",
     "status": "completed"
    },
    "tags": []
   },
   "outputs": [],
   "source": [
    "from sklearn.preprocessing import LabelEncoder\n",
    "le = LabelEncoder()\n",
    "y = le.fit_transform(target)"
   ]
  },
  {
   "cell_type": "code",
   "execution_count": 26,
   "id": "f4c1088d",
   "metadata": {
    "execution": {
     "iopub.execute_input": "2022-07-12T10:56:03.405343Z",
     "iopub.status.busy": "2022-07-12T10:56:03.404570Z",
     "iopub.status.idle": "2022-07-12T10:56:03.416260Z",
     "shell.execute_reply": "2022-07-12T10:56:03.415056Z"
    },
    "papermill": {
     "duration": 0.033598,
     "end_time": "2022-07-12T10:56:03.418909",
     "exception": false,
     "start_time": "2022-07-12T10:56:03.385311",
     "status": "completed"
    },
    "tags": []
   },
   "outputs": [],
   "source": [
    "le = LabelEncoder()\n",
    "\n",
    "for i in features.select_dtypes(exclude = [np.number]).columns:\n",
    "    features[i] = le.fit_transform(data[i])"
   ]
  },
  {
   "cell_type": "code",
   "execution_count": 27,
   "id": "a9825728",
   "metadata": {
    "execution": {
     "iopub.execute_input": "2022-07-12T10:56:03.457249Z",
     "iopub.status.busy": "2022-07-12T10:56:03.456842Z",
     "iopub.status.idle": "2022-07-12T10:56:03.469307Z",
     "shell.execute_reply": "2022-07-12T10:56:03.468366Z"
    },
    "papermill": {
     "duration": 0.034053,
     "end_time": "2022-07-12T10:56:03.471576",
     "exception": false,
     "start_time": "2022-07-12T10:56:03.437523",
     "status": "completed"
    },
    "tags": []
   },
   "outputs": [
    {
     "data": {
      "text/plain": [
       "MinMaxScaler()"
      ]
     },
     "execution_count": 27,
     "metadata": {},
     "output_type": "execute_result"
    }
   ],
   "source": [
    "from sklearn.preprocessing import MinMaxScaler\n",
    "minmax = MinMaxScaler()\n",
    "minmax.fit(features)"
   ]
  },
  {
   "cell_type": "code",
   "execution_count": 28,
   "id": "6b27cc66",
   "metadata": {
    "execution": {
     "iopub.execute_input": "2022-07-12T10:56:03.510409Z",
     "iopub.status.busy": "2022-07-12T10:56:03.509144Z",
     "iopub.status.idle": "2022-07-12T10:56:03.519627Z",
     "shell.execute_reply": "2022-07-12T10:56:03.518037Z"
    },
    "papermill": {
     "duration": 0.032696,
     "end_time": "2022-07-12T10:56:03.522130",
     "exception": false,
     "start_time": "2022-07-12T10:56:03.489434",
     "status": "completed"
    },
    "tags": []
   },
   "outputs": [
    {
     "name": "stdout",
     "output_type": "stream",
     "text": [
      "[[0.0885751  0.01058201 0.52272727 ... 0.         0.         0.        ]\n",
      " [0.042362   0.00529101 0.05681818 ... 0.         0.         0.        ]\n",
      " [0.1322208  0.01851852 0.68181818 ... 1.         0.         1.        ]\n",
      " ...\n",
      " [0.06290116 0.0026455  0.11363636 ... 0.         0.         0.        ]\n",
      " [0.12451861 0.00793651 0.17045455 ... 0.         0.         0.        ]\n",
      " [0.042362   0.00925926 0.63636364 ... 0.         0.         0.        ]]\n"
     ]
    }
   ],
   "source": [
    "new_features = minmax.transform(features)\n",
    "print(new_features)"
   ]
  },
  {
   "cell_type": "code",
   "execution_count": 29,
   "id": "c5c35448",
   "metadata": {
    "execution": {
     "iopub.execute_input": "2022-07-12T10:56:03.559446Z",
     "iopub.status.busy": "2022-07-12T10:56:03.559067Z",
     "iopub.status.idle": "2022-07-12T10:56:03.564537Z",
     "shell.execute_reply": "2022-07-12T10:56:03.563166Z"
    },
    "papermill": {
     "duration": 0.02768,
     "end_time": "2022-07-12T10:56:03.567518",
     "exception": false,
     "start_time": "2022-07-12T10:56:03.539838",
     "status": "completed"
    },
    "tags": []
   },
   "outputs": [
    {
     "name": "stdout",
     "output_type": "stream",
     "text": [
      "(400, 24)\n"
     ]
    }
   ],
   "source": [
    "print(new_features.shape)"
   ]
  },
  {
   "cell_type": "code",
   "execution_count": 30,
   "id": "6b825121",
   "metadata": {
    "execution": {
     "iopub.execute_input": "2022-07-12T10:56:03.606171Z",
     "iopub.status.busy": "2022-07-12T10:56:03.605496Z",
     "iopub.status.idle": "2022-07-12T10:56:03.613749Z",
     "shell.execute_reply": "2022-07-12T10:56:03.612258Z"
    },
    "papermill": {
     "duration": 0.032019,
     "end_time": "2022-07-12T10:56:03.618042",
     "exception": false,
     "start_time": "2022-07-12T10:56:03.586023",
     "status": "completed"
    },
    "tags": []
   },
   "outputs": [
    {
     "name": "stdout",
     "output_type": "stream",
     "text": [
      "(320, 24) (80, 24) (320,) (80,)\n"
     ]
    }
   ],
   "source": [
    "from sklearn.model_selection import train_test_split\n",
    "x_train, x_test, y_train, y_test = train_test_split(new_features, y, test_size = 0.2, random_state = 42)\n",
    "print(x_train.shape, x_test.shape, y_train.shape, y_test.shape)"
   ]
  },
  {
   "cell_type": "code",
   "execution_count": 31,
   "id": "a1b94656",
   "metadata": {
    "execution": {
     "iopub.execute_input": "2022-07-12T10:56:03.662322Z",
     "iopub.status.busy": "2022-07-12T10:56:03.661788Z",
     "iopub.status.idle": "2022-07-12T10:56:03.770157Z",
     "shell.execute_reply": "2022-07-12T10:56:03.768877Z"
    },
    "papermill": {
     "duration": 0.134561,
     "end_time": "2022-07-12T10:56:03.773813",
     "exception": false,
     "start_time": "2022-07-12T10:56:03.639252",
     "status": "completed"
    },
    "tags": []
   },
   "outputs": [],
   "source": [
    "from sklearn.ensemble import RandomForestClassifier\n",
    "from sklearn.tree import DecisionTreeClassifier\n",
    "from sklearn.ensemble import GradientBoostingClassifier\n",
    "from sklearn.linear_model import LogisticRegression\n",
    "from sklearn.svm import SVC\n",
    "from sklearn.model_selection import cross_val_score\n",
    "from sklearn.metrics import confusion_matrix, classification_report, roc_auc_score, roc_curve, accuracy_score"
   ]
  },
  {
   "cell_type": "code",
   "execution_count": 32,
   "id": "4d631f19",
   "metadata": {
    "execution": {
     "iopub.execute_input": "2022-07-12T10:56:03.826297Z",
     "iopub.status.busy": "2022-07-12T10:56:03.825479Z",
     "iopub.status.idle": "2022-07-12T10:56:03.834930Z",
     "shell.execute_reply": "2022-07-12T10:56:03.833915Z"
    },
    "papermill": {
     "duration": 0.03172,
     "end_time": "2022-07-12T10:56:03.838099",
     "exception": false,
     "start_time": "2022-07-12T10:56:03.806379",
     "status": "completed"
    },
    "tags": []
   },
   "outputs": [],
   "source": [
    "def check(model, title = \"Default\"):\n",
    "    %time model.fit(x_train, y_train)\n",
    "    preds = model.predict(x_test)\n",
    "    print(confusion_matrix(y_test, preds))\n",
    "    scores = round(cross_val_score(model, new_features, y, cv = 5).mean(), 5)\n",
    "    auc_score = roc_auc_score(y_test, preds)\n",
    "    print('Accuracy for', title, ':', model.score(x_test, y_test))\n",
    "    print('ROC AUC Score: ', auc_score)\n",
    "    print('Cross-Validation Score: ', scores, '\\n')"
   ]
  },
  {
   "cell_type": "code",
   "execution_count": 33,
   "id": "a22c8615",
   "metadata": {
    "execution": {
     "iopub.execute_input": "2022-07-12T10:56:03.881659Z",
     "iopub.status.busy": "2022-07-12T10:56:03.881258Z",
     "iopub.status.idle": "2022-07-12T10:56:05.105142Z",
     "shell.execute_reply": "2022-07-12T10:56:05.103555Z"
    },
    "papermill": {
     "duration": 1.246014,
     "end_time": "2022-07-12T10:56:05.107832",
     "exception": false,
     "start_time": "2022-07-12T10:56:03.861818",
     "status": "completed"
    },
    "tags": []
   },
   "outputs": [
    {
     "name": "stdout",
     "output_type": "stream",
     "text": [
      "CPU times: user 195 ms, sys: 416 µs, total: 195 ms\n",
      "Wall time: 207 ms\n",
      "[[52  0]\n",
      " [ 0 28]]\n",
      "Accuracy for RFC : 1.0\n",
      "ROC AUC Score:  1.0\n",
      "Cross-Validation Score:  1.0 \n",
      "\n"
     ]
    }
   ],
   "source": [
    "rfc = RandomForestClassifier()\n",
    "check(rfc, \"RFC\")"
   ]
  },
  {
   "cell_type": "code",
   "execution_count": 34,
   "id": "b4205673",
   "metadata": {
    "execution": {
     "iopub.execute_input": "2022-07-12T10:56:05.148692Z",
     "iopub.status.busy": "2022-07-12T10:56:05.147933Z",
     "iopub.status.idle": "2022-07-12T10:56:05.169202Z",
     "shell.execute_reply": "2022-07-12T10:56:05.167683Z"
    },
    "papermill": {
     "duration": 0.044233,
     "end_time": "2022-07-12T10:56:05.172179",
     "exception": false,
     "start_time": "2022-07-12T10:56:05.127946",
     "status": "completed"
    },
    "tags": []
   },
   "outputs": [
    {
     "name": "stdout",
     "output_type": "stream",
     "text": [
      "CPU times: user 1.1 ms, sys: 0 ns, total: 1.1 ms\n",
      "Wall time: 1.11 ms\n",
      "[[51  1]\n",
      " [ 0 28]]\n",
      "Accuracy for DTC : 0.9875\n",
      "ROC AUC Score:  0.9903846153846153\n",
      "Cross-Validation Score:  0.9825 \n",
      "\n"
     ]
    }
   ],
   "source": [
    "dtc = DecisionTreeClassifier()\n",
    "check(dtc, \"DTC\")"
   ]
  },
  {
   "cell_type": "code",
   "execution_count": 35,
   "id": "c2996f88",
   "metadata": {
    "execution": {
     "iopub.execute_input": "2022-07-12T10:56:05.212604Z",
     "iopub.status.busy": "2022-07-12T10:56:05.211855Z",
     "iopub.status.idle": "2022-07-12T10:56:06.041896Z",
     "shell.execute_reply": "2022-07-12T10:56:06.040368Z"
    },
    "papermill": {
     "duration": 0.852994,
     "end_time": "2022-07-12T10:56:06.044829",
     "exception": false,
     "start_time": "2022-07-12T10:56:05.191835",
     "status": "completed"
    },
    "tags": []
   },
   "outputs": [
    {
     "name": "stdout",
     "output_type": "stream",
     "text": [
      "CPU times: user 136 ms, sys: 0 ns, total: 136 ms\n",
      "Wall time: 136 ms\n",
      "[[51  1]\n",
      " [ 0 28]]\n",
      "Accuracy for GBC : 0.9875\n",
      "ROC AUC Score:  0.9903846153846153\n",
      "Cross-Validation Score:  0.985 \n",
      "\n"
     ]
    }
   ],
   "source": [
    "gbc = GradientBoostingClassifier()\n",
    "check(gbc, \"GBC\")"
   ]
  },
  {
   "cell_type": "code",
   "execution_count": 36,
   "id": "95e5792c",
   "metadata": {
    "execution": {
     "iopub.execute_input": "2022-07-12T10:56:06.084997Z",
     "iopub.status.busy": "2022-07-12T10:56:06.084044Z",
     "iopub.status.idle": "2022-07-12T10:56:06.153788Z",
     "shell.execute_reply": "2022-07-12T10:56:06.151706Z"
    },
    "papermill": {
     "duration": 0.092454,
     "end_time": "2022-07-12T10:56:06.156415",
     "exception": false,
     "start_time": "2022-07-12T10:56:06.063961",
     "status": "completed"
    },
    "tags": []
   },
   "outputs": [
    {
     "name": "stdout",
     "output_type": "stream",
     "text": [
      "CPU times: user 10.5 ms, sys: 454 µs, total: 10.9 ms\n",
      "Wall time: 15 ms\n",
      "[[51  1]\n",
      " [ 0 28]]\n",
      "Accuracy for LR : 0.9875\n",
      "ROC AUC Score:  0.9903846153846153\n",
      "Cross-Validation Score:  0.9825 \n",
      "\n"
     ]
    }
   ],
   "source": [
    "lr = LogisticRegression()\n",
    "check(lr, \"LR\")"
   ]
  },
  {
   "cell_type": "code",
   "execution_count": 37,
   "id": "fc05cf1f",
   "metadata": {
    "execution": {
     "iopub.execute_input": "2022-07-12T10:56:06.195974Z",
     "iopub.status.busy": "2022-07-12T10:56:06.195548Z",
     "iopub.status.idle": "2022-07-12T10:56:06.221032Z",
     "shell.execute_reply": "2022-07-12T10:56:06.220162Z"
    },
    "papermill": {
     "duration": 0.048128,
     "end_time": "2022-07-12T10:56:06.223595",
     "exception": false,
     "start_time": "2022-07-12T10:56:06.175467",
     "status": "completed"
    },
    "tags": []
   },
   "outputs": [
    {
     "name": "stdout",
     "output_type": "stream",
     "text": [
      "CPU times: user 1.45 ms, sys: 1.88 ms, total: 3.33 ms\n",
      "Wall time: 2.94 ms\n",
      "[[51  1]\n",
      " [ 0 28]]\n",
      "Accuracy for SVC : 0.9875\n",
      "ROC AUC Score:  0.9903846153846153\n",
      "Cross-Validation Score:  0.9925 \n",
      "\n"
     ]
    }
   ],
   "source": [
    "svc = SVC()\n",
    "check(svc, \"SVC\")"
   ]
  },
  {
   "cell_type": "code",
   "execution_count": 38,
   "id": "82d9ba88",
   "metadata": {
    "execution": {
     "iopub.execute_input": "2022-07-12T10:56:06.263395Z",
     "iopub.status.busy": "2022-07-12T10:56:06.262700Z",
     "iopub.status.idle": "2022-07-12T10:56:06.659146Z",
     "shell.execute_reply": "2022-07-12T10:56:06.658032Z"
    },
    "papermill": {
     "duration": 0.419995,
     "end_time": "2022-07-12T10:56:06.662410",
     "exception": false,
     "start_time": "2022-07-12T10:56:06.242415",
     "status": "completed"
    },
    "tags": []
   },
   "outputs": [
    {
     "data": {
      "text/plain": [
       "GridSearchCV(cv=5, estimator=KNeighborsClassifier(),\n",
       "             param_grid={'n_neighbors': array([1, 2, 3, 4, 5, 6, 7, 8, 9])})"
      ]
     },
     "execution_count": 38,
     "metadata": {},
     "output_type": "execute_result"
    }
   ],
   "source": [
    "from sklearn.neighbors import KNeighborsClassifier\n",
    "from sklearn.model_selection import GridSearchCV\n",
    "\n",
    "knn_grid = GridSearchCV(estimator = KNeighborsClassifier(), param_grid = {'n_neighbors': np.arange(1,10)}, cv = 5)\n",
    "knn_grid.fit(new_features, y)\n"
   ]
  },
  {
   "cell_type": "code",
   "execution_count": 39,
   "id": "b4634eaa",
   "metadata": {
    "execution": {
     "iopub.execute_input": "2022-07-12T10:56:06.734581Z",
     "iopub.status.busy": "2022-07-12T10:56:06.733995Z",
     "iopub.status.idle": "2022-07-12T10:56:06.742370Z",
     "shell.execute_reply": "2022-07-12T10:56:06.741239Z"
    },
    "papermill": {
     "duration": 0.049062,
     "end_time": "2022-07-12T10:56:06.745976",
     "exception": false,
     "start_time": "2022-07-12T10:56:06.696914",
     "status": "completed"
    },
    "tags": []
   },
   "outputs": [
    {
     "data": {
      "text/plain": [
       "{'n_neighbors': 2}"
      ]
     },
     "execution_count": 39,
     "metadata": {},
     "output_type": "execute_result"
    }
   ],
   "source": [
    "knn_grid.best_params_"
   ]
  },
  {
   "cell_type": "code",
   "execution_count": 40,
   "id": "7943489e",
   "metadata": {
    "execution": {
     "iopub.execute_input": "2022-07-12T10:56:06.795193Z",
     "iopub.status.busy": "2022-07-12T10:56:06.794627Z",
     "iopub.status.idle": "2022-07-12T10:56:06.860275Z",
     "shell.execute_reply": "2022-07-12T10:56:06.858867Z"
    },
    "papermill": {
     "duration": 0.090713,
     "end_time": "2022-07-12T10:56:06.864553",
     "exception": false,
     "start_time": "2022-07-12T10:56:06.773840",
     "status": "completed"
    },
    "tags": []
   },
   "outputs": [
    {
     "name": "stdout",
     "output_type": "stream",
     "text": [
      "CPU times: user 317 µs, sys: 1.1 ms, total: 1.42 ms\n",
      "Wall time: 1.27 ms\n",
      "[[51  1]\n",
      " [ 0 28]]\n",
      "Accuracy for KNN2 : 0.9875\n",
      "ROC AUC Score:  0.9903846153846153\n",
      "Cross-Validation Score:  0.995 \n",
      "\n"
     ]
    }
   ],
   "source": [
    "knn2 = KNeighborsClassifier(n_neighbors = 2)\n",
    "check(knn2, \"KNN2\")"
   ]
  }
 ],
 "metadata": {
  "kernelspec": {
   "display_name": "Python 3",
   "language": "python",
   "name": "python3"
  },
  "language_info": {
   "codemirror_mode": {
    "name": "ipython",
    "version": 3
   },
   "file_extension": ".py",
   "mimetype": "text/x-python",
   "name": "python",
   "nbconvert_exporter": "python",
   "pygments_lexer": "ipython3",
   "version": "3.7.12"
  },
  "papermill": {
   "default_parameters": {},
   "duration": 21.219576,
   "end_time": "2022-07-12T10:56:07.730825",
   "environment_variables": {},
   "exception": null,
   "input_path": "__notebook__.ipynb",
   "output_path": "__notebook__.ipynb",
   "parameters": {},
   "start_time": "2022-07-12T10:55:46.511249",
   "version": "2.3.4"
  }
 },
 "nbformat": 4,
 "nbformat_minor": 5
}
